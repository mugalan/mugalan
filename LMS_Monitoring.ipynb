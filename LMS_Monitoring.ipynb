{
  "cells": [
    {
      "cell_type": "markdown",
      "metadata": {
        "id": "view-in-github",
        "colab_type": "text"
      },
      "source": [
        "<a href=\"https://colab.research.google.com/github/mugalan/mugalan/blob/main/LMS_Monitoring.ipynb\" target=\"_parent\"><img src=\"https://colab.research.google.com/assets/colab-badge.svg\" alt=\"Open In Colab\"/></a>"
      ]
    },
    {
      "cell_type": "markdown",
      "metadata": {
        "id": "JAG__o_epNYA"
      },
      "source": [
        "# Setting Up"
      ]
    },
    {
      "cell_type": "markdown",
      "metadata": {
        "id": "JdGO6ojmLI9M"
      },
      "source": [
        "## Initialization\n"
      ]
    },
    {
      "cell_type": "code",
      "execution_count": null,
      "metadata": {
        "id": "rdxI4RtVLq5q"
      },
      "outputs": [],
      "source": [
        "import numpy as np\n",
        "import pandas as pd\n",
        "import csv\n",
        "import plotly.graph_objects as go\n",
        "import datetime"
      ]
    },
    {
      "cell_type": "markdown",
      "metadata": {
        "id": "4hCxSVmlgg6x"
      },
      "source": [
        "### Mounting the Drive"
      ]
    },
    {
      "cell_type": "code",
      "execution_count": null,
      "metadata": {
        "colab": {
          "base_uri": "https://localhost:8080/"
        },
        "id": "9t-wT28Y0Lzj",
        "outputId": "7b577d1a-0041-412d-9b43-2e9068816a38"
      },
      "outputs": [
        {
          "output_type": "stream",
          "name": "stdout",
          "text": [
            "Drive already mounted at /content/drive; to attempt to forcibly remount, call drive.mount(\"/content/drive\", force_remount=True).\n"
          ]
        }
      ],
      "source": [
        "from google.colab import drive\n",
        "drive.mount('/content/drive')"
      ]
    },
    {
      "cell_type": "markdown",
      "metadata": {
        "id": "ofVij2PJRKdI"
      },
      "source": [
        "#Functions used"
      ]
    },
    {
      "cell_type": "code",
      "source": [
        "def grouped_itemized_graphs(dataPDF, gpFieldName, gpFldList, plotFieldName, plotFldList, yLabel, figTitle):\n",
        "  xx1=[]; yy1=[]; cc1=[]; traceNames1=[];\n",
        "  aaPDF=pd.DataFrame(yy1) #,index=plotFldList, columns=gpFldList)\n",
        "  \n",
        "  for xx in gpFldList:\n",
        "    if gpFieldName==None:\n",
        "      temp=dataPDF\n",
        "    else:\n",
        "      temp=dataPDF[dataPDF[gpFieldName]==xx];    \n",
        "    xxx1=[]; yyy1=[]; ccc1=[];\n",
        "    \n",
        "    for tstdt in plotFldList:\n",
        "      xxx1+=[tstdt]\n",
        "      ccc1+=[temp[temp[plotFieldName]==tstdt]];\n",
        "      yyy1+=[len(temp[temp[plotFieldName]==tstdt])]\n",
        "    xx1+=[xxx1];\n",
        "    yy1+=[yyy1];\n",
        "    cc1+=[ccc1]\n",
        "    traceNames1+=[xx]\n",
        "    \n",
        "  fig = go.Figure()\n",
        "  for i,x in enumerate(xx1):\n",
        "    fig.add_trace(go.Bar(y=yy1[i], x=x, name=traceNames1[i]))\n",
        "  \n",
        "  \n",
        "  fig.update_layout(title=figTitle, xaxis_title='', yaxis_title=yLabel, barmode='stack')\n",
        "  fig.show()\n",
        "\n",
        "  tmpx0=pd.DataFrame(yy1)\n",
        "  tmpx00=tmpx0.transpose() #,index=plotFldList, columns=gpFldList)\n",
        "  aaPDF=pd.DataFrame(tmpx00.to_numpy(),index=plotFldList, columns=gpFldList)\n",
        "  return fig, aaPDF"
      ],
      "metadata": {
        "id": "0c_oeDwxCDkV"
      },
      "execution_count": null,
      "outputs": []
    },
    {
      "cell_type": "markdown",
      "metadata": {
        "id": "ZCVZQcS7OJlE"
      },
      "source": [
        "# Import Data"
      ]
    },
    {
      "cell_type": "code",
      "execution_count": null,
      "metadata": {
        "id": "KV2C9NZAS14c"
      },
      "outputs": [],
      "source": [
        "#Import User information\n",
        "usersPDF0=pd.read_csv('/content/drive/My Drive/SLTC/LMS Usage/Users.csv'); usersPDF0['User full name']=usersPDF0['firstname']+' '+usersPDF0['lastname']\n",
        "#usersPDF0=pd.read_csv('/content/drive/My Drive/OriseUsers.csv'); usersPDF0['User full name']=usersPDF0['firstname']+' '+usersPDF0['lastname']\n",
        "#usersPDF0=pd.read_csv('/content/drive/My Drive/ME320Users.csv'); usersPDF0['User full name']=usersPDF0['ENo[Student]/Title[Staff]']+' '+usersPDF0['Name']\n",
        "usersPDF=usersPDF0.fillna('')\n",
        "\n",
        "listdeRegisteredStudents=usersPDF[usersPDF['type']=='de-registered']['User full name'].to_list()\n",
        "listStudents=usersPDF[(usersPDF['type']=='student') & (usersPDF['profile_field_Active']=='A')]['User full name'].to_list()\n",
        "listFaculty=usersPDF[usersPDF['type']=='faculty']['User full name'].to_list()\n",
        "listdeRegisteredStudents.sort()\n",
        "listStudents.sort()\n",
        "listFaculty.sort()"
      ]
    },
    {
      "cell_type": "code",
      "execution_count": null,
      "metadata": {
        "id": "qulmh6NNjhxW"
      },
      "outputs": [],
      "source": [
        "#Open last file\n",
        "dataPDF=pd.read_csv('/content/drive/My Drive/SLTC/LMS Usage/SLTC-LMS-logs-concatenated.csv')\n",
        "#dataPDF=pd.read_csv('/content/drive/My Drive/logs_ORISE.csv')\n",
        "#dataPDF=pd.read_csv('/content/drive/My Drive/ME320Logs.csv')"
      ]
    },
    {
      "cell_type": "code",
      "source": [
        "lastTimeStamp=pd.to_datetime(dataPDF['Time'].loc[0], dayfirst=True).to_pydatetime()"
      ],
      "metadata": {
        "id": "jQKvLn2q_qBi"
      },
      "execution_count": null,
      "outputs": []
    },
    {
      "cell_type": "code",
      "source": [
        "lastDateStampStr=lastTimeStamp.strftime(\"%d-%m-%Y\")\n",
        "print(lastDateStampStr)"
      ],
      "metadata": {
        "colab": {
          "base_uri": "https://localhost:8080/"
        },
        "id": "rpqyW8wpAG7i",
        "outputId": "382c342d-39b7-4449-f963-4442e1a64e68"
      },
      "execution_count": null,
      "outputs": [
        {
          "output_type": "stream",
          "name": "stdout",
          "text": [
            "14-02-2022\n"
          ]
        }
      ]
    },
    {
      "cell_type": "markdown",
      "metadata": {
        "id": "eMTAW-txoNa0"
      },
      "source": [
        "# Analytics"
      ]
    },
    {
      "cell_type": "code",
      "execution_count": null,
      "metadata": {
        "id": "6qjub4abdSdm"
      },
      "outputs": [],
      "source": [
        "eventList=list(set(dataPDF['Event name'].to_list()))\n",
        "eventList.sort()\n",
        "componentList=list(set(dataPDF['Component'].to_list()))\n",
        "componentList.sort()"
      ]
    },
    {
      "cell_type": "code",
      "execution_count": null,
      "metadata": {
        "id": "aDd824MVhC6A"
      },
      "outputs": [],
      "source": [
        "#Choose from dropdown menu eventList #Excluded login and 'A file has been uploaded.',\n",
        "selectedTeachingEventsList=['Chapter created','Content created','Content uploaded','Course module created','Discussion created','Grade item created','Post created','Question created','Questions imported','Some content has been posted.','Wiki page created'] #,'Course module created','Some content has been posted.']\n",
        "selectedCourseUpdateEventsList=['Course module updated','Course section created','Course section updated','Course section deleted']\n",
        "selectedGradingEventsList=['Question manually graded','The submission has been graded.','User graded']\n",
        "selectedLearningEventsList=['A file has been uploaded.','An online text has been uploaded.','A submission has been submitted.','Chapter created','Chapter viewed','Content created','Comments viewed','Content uploaded','Content viewed','Comment created','Course activity completion updated','Discussion created','Discussion viewed','Feedback viewed','H5P content viewed','Message sent','Post created','Quiz attempt submitted','mod_hvp: attempt submitted','Sessions viewed','Some content has been posted.','Submission created.','The submission has been graded.','User graded','Wiki page created','Wiki page viewed']#"
      ]
    },
    {
      "cell_type": "markdown",
      "metadata": {
        "id": "6hhi55B8nfoS"
      },
      "source": [
        "## LMS Interaction"
      ]
    },
    {
      "cell_type": "code",
      "execution_count": null,
      "metadata": {
        "id": "9FDuoqKznmTK"
      },
      "outputs": [],
      "source": [
        "usrType='student' #'faculty' #'student' #Pick from list ['faculty','student']"
      ]
    },
    {
      "cell_type": "code",
      "execution_count": null,
      "metadata": {
        "id": "8WDlPuZ_fq0o"
      },
      "outputs": [],
      "source": [
        "gpList=list(set(usersPDF['profile_field_google_group'].to_list()))\n",
        "gpList.sort()\n",
        "if usrType=='student':\n",
        "  fieldsList=selectedLearningEventsList\n",
        "  usrGp='TE-2025A-B8' #'All' #'ETech-2023-B6'# Choose from drop down list gpList+['All']\n",
        "  if usrGp!='All':\n",
        "    trrmp=usersPDF[usersPDF['profile_field_google_group']==usrGp]['User full name'].to_list()\n",
        "  else:\n",
        "    trrmp=listStudents\n",
        "\n",
        "  trrmp.sort()\n",
        "  users=trrmp\n",
        "  \n",
        "else:\n",
        "  fieldsList=selectedTeachingEventsList #+selectedCourseUpdateEventsList #Pick from [selectedTeachingEventsList,selectedGradingEventsList]\n",
        "  users=listFaculty\n",
        "  usrGp='academic'\n",
        "\n",
        "\n",
        "#fldFilteredPDF=dataPDF[((dataPDF[fldName] in fieldsList) & (dataPDF['User full name'] in users))]"
      ]
    },
    {
      "cell_type": "code",
      "source": [
        "dfc=[nn for nn in dataPDF.index.values if (dataPDF['User full name'].loc[nn] in users)]\n",
        "fldFilteredPDF=dataPDF.loc[dfc]"
      ],
      "metadata": {
        "id": "6uSl56kzVyYb"
      },
      "execution_count": null,
      "outputs": []
    },
    {
      "cell_type": "code",
      "source": [
        "fig00, trry0=grouped_itemized_graphs(fldFilteredPDF, 'Component', componentList, 'Event name', fieldsList, 'Numbers', figTitle='Overview '+usrGp+' '+usrType+' LMS activity - as of '+lastDateStampStr+':2400')"
      ],
      "metadata": {
        "id": "z1l9-lchM40b"
      },
      "execution_count": null,
      "outputs": []
    },
    {
      "cell_type": "code",
      "source": [
        "#fig00.write_html('/content/drive/My Drive/SLTC/LMS Usage/User Stats/'+lastDateStampStr+'/Overview of-'+usrGp+'-'+usrType+'-LMS-activities-'+lastDateStampStr+'.html')"
      ],
      "metadata": {
        "id": "JqO6NVW4kOi4"
      },
      "execution_count": null,
      "outputs": []
    },
    {
      "cell_type": "code",
      "source": [
        "userActivityFig, userActivityPDF=grouped_itemized_graphs(fldFilteredPDF, 'Event name', fieldsList, 'User full name', users, 'Numbers', figTitle='Number of: '+usrGp+' '+usrType+' LMS activity - as of '+lastDateStampStr+':2400')\n",
        "userActivityPDF['Total activity count']=userActivityPDF.loc[:,fieldsList].sum(axis=1).to_list()"
      ],
      "metadata": {
        "colab": {
          "base_uri": "https://localhost:8080/",
          "height": 542
        },
        "id": "LmdIvCcADsED",
        "outputId": "ed0d9d2e-3aa6-4b5a-c565-645011d8af21"
      },
      "execution_count": null,
      "outputs": [
        {
          "output_type": "display_data",
          "data": {
            "text/html": [
              "<html>\n",
              "<head><meta charset=\"utf-8\" /></head>\n",
              "<body>\n",
              "    <div>            <script src=\"https://cdnjs.cloudflare.com/ajax/libs/mathjax/2.7.5/MathJax.js?config=TeX-AMS-MML_SVG\"></script><script type=\"text/javascript\">if (window.MathJax) {MathJax.Hub.Config({SVG: {font: \"STIX-Web\"}});}</script>                <script type=\"text/javascript\">window.PlotlyConfig = {MathJaxConfig: 'local'};</script>\n",
              "        <script src=\"https://cdn.plot.ly/plotly-2.8.3.min.js\"></script>                <div id=\"eb2de914-3959-493f-8360-ccab5f557be1\" class=\"plotly-graph-div\" style=\"height:525px; width:100%;\"></div>            <script type=\"text/javascript\">                                    window.PLOTLYENV=window.PLOTLYENV || {};                                    if (document.getElementById(\"eb2de914-3959-493f-8360-ccab5f557be1\")) {                    Plotly.newPlot(                        \"eb2de914-3959-493f-8360-ccab5f557be1\",                        [{\"name\":\"A file has been uploaded.\",\"x\":[\"21UG0004 JANANI NUPEARACHCHI\",\"21UG0012 NIMESH DILSHAN\",\"21UG0019 TISHAN KALUWALGODA\",\"21UG0020 SIDATH DIYANATHA\",\"21UG0022 VIBHUTHI EKANAYAKA\",\"21UG0043 UWAN AMARATHUNGA\",\"21UG0045 THARUSHI LIYANAGE\",\"21UG0060 RUSITH MARCUS\",\"21UG0109 HOSHITHA SAMARAWEERA\",\"21UG0129 MANEESHA ABEYSOORIYA\",\"21UG0130 PARAMI DISSANAYAKA\",\"21UG0139 SENIL DAKSINDU HALPAGODA\",\"21UG0157 N. D. KAVINDU AVISHKA NIWUNHELLA\",\"21UG0181 HASHAN PATHMAKUMARA\",\"21UG0201 A. HAMEED MOHAMED HUMAID\",\"21UG0232 A. RAHMAN MUKBIL SINAN\",\"21UG0272 R. PIRIVIVAN RAJARADNAM PIRIVIVAN\",\"21UG0297 SONAL DISSANAYAKE\",\"21UG0480 S.D.C. PERERA\",\"21UG0481 S.M.S.M. BANDARA\",\"21UG0482 N.K.L.M. SILVA\",\"21UG0483 H.L.A.S. UMAYANGA\",\"21UG0484 U. BAVANITHAN\",\"21UG0485 U.L.S. UDAWATHTHAGE\",\"21UG0486 W.A.S.D. WANNIARACHCHI\",\"21UG0487 W.A.H.D. WANIGARATHNA\",\"21UG0488 W.M.A.S. MADUSANKA\",\"21UG0489 L.D.O. SATHRUWAN\",\"21UG0490 D.D.P. SALINDA\",\"21UG0491 M.S.T. JAYATHILAKA\",\"21UG0492 Y.P. THISHOK\",\"21UG0493 D.M.H.J. WEERAKOON\",\"21UG0494 K.M. SRIPATHIATHIKARAM\",\"21UG0495 W. LARUSAN\",\"21UG0496 M.N.K.M. BANDARA\",\"21UG0497 R.M.K.G. RAJAPAKSHA\",\"21UG0498 E.M.A.D. KARUNARATHNA\",\"21UG0499 Y.O. WICKRAMASINGHE\",\"21UG0500 R.N. SILVA\",\"21UG0501 W.M.H.T. DESHAPPRIYA\",\"21UG0502 D.R.V.S. PATHIRANA\",\"21UG0503 V.P.M.L. WIJESENA\",\"21UG0505 W.A.D.S. KOSHILA\",\"21UG0508 R.A.A.C. NAYANAJITH\",\"21UG0509 G.S. THARAKA\",\"21UG0510 T.M.L.M. THENNAKOON\",\"21UG0511 M.M. ABDULLA\",\"21UG0512 P.A.M.A. GUNAWARDHANA\",\"21UG0513 H.A.M.K.M. ATHTHANAYAKA\",\"21UG0514 M. DILSHAN\",\"21UG0515 A.C. WICKRAMASINGHA\",\"21UG0516 P.K.A. KAVINDA\",\"21UG0517 A.M.R.B. RATHNAYAKE\",\"21UG0518 G.R.T.B. RANASINGHE\",\"21UG0519 D.D.R.N. AMARASIRI\",\"21UG0520 S.M.K.D.B. SAMARAKOON\",\"21UG0521 B.G.C. PRABODHA\",\"21UG0522 M.K.S.D. JAYASINGHE\",\"21UG0523 E. PAHEERTHTHAN\",\"21UG0524 R.D.H. RUPASINGHE\",\"21UG0525 T.P.M. WICKRAMASINGHE\",\"21UG0526 U.R.N.T. WIMALASURENDRA\",\"21UG0527 R.A.H.D. PERERA\",\"21UG0528 P. PURUSOTHMAN\",\"21UG0529 B.H.C.R. VISHVAJITH\",\"21UG0530 W.M.N.B. WANNINAYAKA\",\"21UG0531 P.M.D. HASHAN\",\"21UG0834 M.G.C.S.C. BANDARA\",\"21UG0835 H.G.C.L. HARISCHANDRA\",\"21UG0868 R.D.R.S. RAJAPAKSHA\",\"21UG0869 M.G.U. SEWWANDI\",\"AA1341 AHMED NAFRY SHIHAM\"],\"y\":[0,0,0,0,0,0,0,0,0,0,0,0,0,0,0,0,0,0,1,0,0,0,0,1,0,0,0,1,0,1,0,0,0,0,0,0,0,0,0,0,0,0,0,1,0,0,0,0,0,0,1,0,0,1,0,0,0,0,0,0,0,1,0,0,0,1,0,0,0,0,0,0],\"type\":\"bar\"},{\"name\":\"An online text has been uploaded.\",\"x\":[\"21UG0004 JANANI NUPEARACHCHI\",\"21UG0012 NIMESH DILSHAN\",\"21UG0019 TISHAN KALUWALGODA\",\"21UG0020 SIDATH DIYANATHA\",\"21UG0022 VIBHUTHI EKANAYAKA\",\"21UG0043 UWAN AMARATHUNGA\",\"21UG0045 THARUSHI LIYANAGE\",\"21UG0060 RUSITH MARCUS\",\"21UG0109 HOSHITHA SAMARAWEERA\",\"21UG0129 MANEESHA ABEYSOORIYA\",\"21UG0130 PARAMI DISSANAYAKA\",\"21UG0139 SENIL DAKSINDU HALPAGODA\",\"21UG0157 N. D. KAVINDU AVISHKA NIWUNHELLA\",\"21UG0181 HASHAN PATHMAKUMARA\",\"21UG0201 A. HAMEED MOHAMED HUMAID\",\"21UG0232 A. RAHMAN MUKBIL SINAN\",\"21UG0272 R. PIRIVIVAN RAJARADNAM PIRIVIVAN\",\"21UG0297 SONAL DISSANAYAKE\",\"21UG0480 S.D.C. PERERA\",\"21UG0481 S.M.S.M. BANDARA\",\"21UG0482 N.K.L.M. SILVA\",\"21UG0483 H.L.A.S. UMAYANGA\",\"21UG0484 U. BAVANITHAN\",\"21UG0485 U.L.S. UDAWATHTHAGE\",\"21UG0486 W.A.S.D. WANNIARACHCHI\",\"21UG0487 W.A.H.D. WANIGARATHNA\",\"21UG0488 W.M.A.S. MADUSANKA\",\"21UG0489 L.D.O. SATHRUWAN\",\"21UG0490 D.D.P. SALINDA\",\"21UG0491 M.S.T. JAYATHILAKA\",\"21UG0492 Y.P. THISHOK\",\"21UG0493 D.M.H.J. WEERAKOON\",\"21UG0494 K.M. SRIPATHIATHIKARAM\",\"21UG0495 W. LARUSAN\",\"21UG0496 M.N.K.M. BANDARA\",\"21UG0497 R.M.K.G. RAJAPAKSHA\",\"21UG0498 E.M.A.D. KARUNARATHNA\",\"21UG0499 Y.O. WICKRAMASINGHE\",\"21UG0500 R.N. SILVA\",\"21UG0501 W.M.H.T. DESHAPPRIYA\",\"21UG0502 D.R.V.S. PATHIRANA\",\"21UG0503 V.P.M.L. WIJESENA\",\"21UG0505 W.A.D.S. KOSHILA\",\"21UG0508 R.A.A.C. NAYANAJITH\",\"21UG0509 G.S. THARAKA\",\"21UG0510 T.M.L.M. THENNAKOON\",\"21UG0511 M.M. ABDULLA\",\"21UG0512 P.A.M.A. GUNAWARDHANA\",\"21UG0513 H.A.M.K.M. ATHTHANAYAKA\",\"21UG0514 M. DILSHAN\",\"21UG0515 A.C. WICKRAMASINGHA\",\"21UG0516 P.K.A. KAVINDA\",\"21UG0517 A.M.R.B. RATHNAYAKE\",\"21UG0518 G.R.T.B. RANASINGHE\",\"21UG0519 D.D.R.N. AMARASIRI\",\"21UG0520 S.M.K.D.B. SAMARAKOON\",\"21UG0521 B.G.C. PRABODHA\",\"21UG0522 M.K.S.D. JAYASINGHE\",\"21UG0523 E. PAHEERTHTHAN\",\"21UG0524 R.D.H. RUPASINGHE\",\"21UG0525 T.P.M. WICKRAMASINGHE\",\"21UG0526 U.R.N.T. WIMALASURENDRA\",\"21UG0527 R.A.H.D. PERERA\",\"21UG0528 P. PURUSOTHMAN\",\"21UG0529 B.H.C.R. VISHVAJITH\",\"21UG0530 W.M.N.B. WANNINAYAKA\",\"21UG0531 P.M.D. HASHAN\",\"21UG0834 M.G.C.S.C. BANDARA\",\"21UG0835 H.G.C.L. HARISCHANDRA\",\"21UG0868 R.D.R.S. RAJAPAKSHA\",\"21UG0869 M.G.U. SEWWANDI\",\"AA1341 AHMED NAFRY SHIHAM\"],\"y\":[0,0,0,0,0,0,0,0,0,0,0,0,0,0,0,0,0,0,0,0,0,0,0,0,0,0,0,0,0,0,0,0,0,0,0,0,0,0,0,0,0,0,0,0,0,0,0,0,0,0,0,0,0,0,0,0,0,0,0,0,0,0,0,0,0,0,0,0,0,0,0,0],\"type\":\"bar\"},{\"name\":\"A submission has been submitted.\",\"x\":[\"21UG0004 JANANI NUPEARACHCHI\",\"21UG0012 NIMESH DILSHAN\",\"21UG0019 TISHAN KALUWALGODA\",\"21UG0020 SIDATH DIYANATHA\",\"21UG0022 VIBHUTHI EKANAYAKA\",\"21UG0043 UWAN AMARATHUNGA\",\"21UG0045 THARUSHI LIYANAGE\",\"21UG0060 RUSITH MARCUS\",\"21UG0109 HOSHITHA SAMARAWEERA\",\"21UG0129 MANEESHA ABEYSOORIYA\",\"21UG0130 PARAMI DISSANAYAKA\",\"21UG0139 SENIL DAKSINDU HALPAGODA\",\"21UG0157 N. D. KAVINDU AVISHKA NIWUNHELLA\",\"21UG0181 HASHAN PATHMAKUMARA\",\"21UG0201 A. HAMEED MOHAMED HUMAID\",\"21UG0232 A. RAHMAN MUKBIL SINAN\",\"21UG0272 R. PIRIVIVAN RAJARADNAM PIRIVIVAN\",\"21UG0297 SONAL DISSANAYAKE\",\"21UG0480 S.D.C. PERERA\",\"21UG0481 S.M.S.M. BANDARA\",\"21UG0482 N.K.L.M. SILVA\",\"21UG0483 H.L.A.S. UMAYANGA\",\"21UG0484 U. BAVANITHAN\",\"21UG0485 U.L.S. UDAWATHTHAGE\",\"21UG0486 W.A.S.D. WANNIARACHCHI\",\"21UG0487 W.A.H.D. WANIGARATHNA\",\"21UG0488 W.M.A.S. MADUSANKA\",\"21UG0489 L.D.O. SATHRUWAN\",\"21UG0490 D.D.P. SALINDA\",\"21UG0491 M.S.T. JAYATHILAKA\",\"21UG0492 Y.P. THISHOK\",\"21UG0493 D.M.H.J. WEERAKOON\",\"21UG0494 K.M. SRIPATHIATHIKARAM\",\"21UG0495 W. LARUSAN\",\"21UG0496 M.N.K.M. BANDARA\",\"21UG0497 R.M.K.G. RAJAPAKSHA\",\"21UG0498 E.M.A.D. KARUNARATHNA\",\"21UG0499 Y.O. WICKRAMASINGHE\",\"21UG0500 R.N. SILVA\",\"21UG0501 W.M.H.T. DESHAPPRIYA\",\"21UG0502 D.R.V.S. PATHIRANA\",\"21UG0503 V.P.M.L. WIJESENA\",\"21UG0505 W.A.D.S. KOSHILA\",\"21UG0508 R.A.A.C. NAYANAJITH\",\"21UG0509 G.S. THARAKA\",\"21UG0510 T.M.L.M. THENNAKOON\",\"21UG0511 M.M. ABDULLA\",\"21UG0512 P.A.M.A. GUNAWARDHANA\",\"21UG0513 H.A.M.K.M. ATHTHANAYAKA\",\"21UG0514 M. DILSHAN\",\"21UG0515 A.C. WICKRAMASINGHA\",\"21UG0516 P.K.A. KAVINDA\",\"21UG0517 A.M.R.B. RATHNAYAKE\",\"21UG0518 G.R.T.B. RANASINGHE\",\"21UG0519 D.D.R.N. AMARASIRI\",\"21UG0520 S.M.K.D.B. SAMARAKOON\",\"21UG0521 B.G.C. PRABODHA\",\"21UG0522 M.K.S.D. JAYASINGHE\",\"21UG0523 E. PAHEERTHTHAN\",\"21UG0524 R.D.H. RUPASINGHE\",\"21UG0525 T.P.M. WICKRAMASINGHE\",\"21UG0526 U.R.N.T. WIMALASURENDRA\",\"21UG0527 R.A.H.D. PERERA\",\"21UG0528 P. PURUSOTHMAN\",\"21UG0529 B.H.C.R. VISHVAJITH\",\"21UG0530 W.M.N.B. WANNINAYAKA\",\"21UG0531 P.M.D. HASHAN\",\"21UG0834 M.G.C.S.C. BANDARA\",\"21UG0835 H.G.C.L. HARISCHANDRA\",\"21UG0868 R.D.R.S. RAJAPAKSHA\",\"21UG0869 M.G.U. SEWWANDI\",\"AA1341 AHMED NAFRY SHIHAM\"],\"y\":[0,0,0,0,0,0,0,0,0,0,0,0,0,0,0,0,0,0,1,0,0,0,0,1,0,0,0,1,0,1,0,0,0,0,0,0,0,0,0,0,0,0,0,1,0,0,0,0,0,0,1,0,0,1,0,0,0,0,0,0,0,1,0,0,0,1,0,0,0,0,0,0],\"type\":\"bar\"},{\"name\":\"Chapter created\",\"x\":[\"21UG0004 JANANI NUPEARACHCHI\",\"21UG0012 NIMESH DILSHAN\",\"21UG0019 TISHAN KALUWALGODA\",\"21UG0020 SIDATH DIYANATHA\",\"21UG0022 VIBHUTHI EKANAYAKA\",\"21UG0043 UWAN AMARATHUNGA\",\"21UG0045 THARUSHI LIYANAGE\",\"21UG0060 RUSITH MARCUS\",\"21UG0109 HOSHITHA SAMARAWEERA\",\"21UG0129 MANEESHA ABEYSOORIYA\",\"21UG0130 PARAMI DISSANAYAKA\",\"21UG0139 SENIL DAKSINDU HALPAGODA\",\"21UG0157 N. D. KAVINDU AVISHKA NIWUNHELLA\",\"21UG0181 HASHAN PATHMAKUMARA\",\"21UG0201 A. HAMEED MOHAMED HUMAID\",\"21UG0232 A. RAHMAN MUKBIL SINAN\",\"21UG0272 R. PIRIVIVAN RAJARADNAM PIRIVIVAN\",\"21UG0297 SONAL DISSANAYAKE\",\"21UG0480 S.D.C. PERERA\",\"21UG0481 S.M.S.M. BANDARA\",\"21UG0482 N.K.L.M. SILVA\",\"21UG0483 H.L.A.S. UMAYANGA\",\"21UG0484 U. BAVANITHAN\",\"21UG0485 U.L.S. UDAWATHTHAGE\",\"21UG0486 W.A.S.D. WANNIARACHCHI\",\"21UG0487 W.A.H.D. WANIGARATHNA\",\"21UG0488 W.M.A.S. MADUSANKA\",\"21UG0489 L.D.O. SATHRUWAN\",\"21UG0490 D.D.P. SALINDA\",\"21UG0491 M.S.T. JAYATHILAKA\",\"21UG0492 Y.P. THISHOK\",\"21UG0493 D.M.H.J. WEERAKOON\",\"21UG0494 K.M. SRIPATHIATHIKARAM\",\"21UG0495 W. LARUSAN\",\"21UG0496 M.N.K.M. BANDARA\",\"21UG0497 R.M.K.G. RAJAPAKSHA\",\"21UG0498 E.M.A.D. KARUNARATHNA\",\"21UG0499 Y.O. WICKRAMASINGHE\",\"21UG0500 R.N. SILVA\",\"21UG0501 W.M.H.T. DESHAPPRIYA\",\"21UG0502 D.R.V.S. PATHIRANA\",\"21UG0503 V.P.M.L. WIJESENA\",\"21UG0505 W.A.D.S. KOSHILA\",\"21UG0508 R.A.A.C. NAYANAJITH\",\"21UG0509 G.S. THARAKA\",\"21UG0510 T.M.L.M. THENNAKOON\",\"21UG0511 M.M. ABDULLA\",\"21UG0512 P.A.M.A. GUNAWARDHANA\",\"21UG0513 H.A.M.K.M. ATHTHANAYAKA\",\"21UG0514 M. DILSHAN\",\"21UG0515 A.C. WICKRAMASINGHA\",\"21UG0516 P.K.A. KAVINDA\",\"21UG0517 A.M.R.B. RATHNAYAKE\",\"21UG0518 G.R.T.B. RANASINGHE\",\"21UG0519 D.D.R.N. AMARASIRI\",\"21UG0520 S.M.K.D.B. SAMARAKOON\",\"21UG0521 B.G.C. PRABODHA\",\"21UG0522 M.K.S.D. JAYASINGHE\",\"21UG0523 E. PAHEERTHTHAN\",\"21UG0524 R.D.H. RUPASINGHE\",\"21UG0525 T.P.M. WICKRAMASINGHE\",\"21UG0526 U.R.N.T. WIMALASURENDRA\",\"21UG0527 R.A.H.D. PERERA\",\"21UG0528 P. PURUSOTHMAN\",\"21UG0529 B.H.C.R. VISHVAJITH\",\"21UG0530 W.M.N.B. WANNINAYAKA\",\"21UG0531 P.M.D. HASHAN\",\"21UG0834 M.G.C.S.C. BANDARA\",\"21UG0835 H.G.C.L. HARISCHANDRA\",\"21UG0868 R.D.R.S. RAJAPAKSHA\",\"21UG0869 M.G.U. SEWWANDI\",\"AA1341 AHMED NAFRY SHIHAM\"],\"y\":[0,0,0,0,0,0,0,0,0,0,0,0,0,0,0,0,0,0,0,0,0,0,0,0,0,0,0,0,0,0,0,0,0,0,0,0,0,0,0,0,0,0,0,0,0,0,0,0,0,0,0,0,0,0,0,0,0,0,0,0,0,0,0,0,0,0,0,0,0,0,0,0],\"type\":\"bar\"},{\"name\":\"Chapter viewed\",\"x\":[\"21UG0004 JANANI NUPEARACHCHI\",\"21UG0012 NIMESH DILSHAN\",\"21UG0019 TISHAN KALUWALGODA\",\"21UG0020 SIDATH DIYANATHA\",\"21UG0022 VIBHUTHI EKANAYAKA\",\"21UG0043 UWAN AMARATHUNGA\",\"21UG0045 THARUSHI LIYANAGE\",\"21UG0060 RUSITH MARCUS\",\"21UG0109 HOSHITHA SAMARAWEERA\",\"21UG0129 MANEESHA ABEYSOORIYA\",\"21UG0130 PARAMI DISSANAYAKA\",\"21UG0139 SENIL DAKSINDU HALPAGODA\",\"21UG0157 N. D. KAVINDU AVISHKA NIWUNHELLA\",\"21UG0181 HASHAN PATHMAKUMARA\",\"21UG0201 A. HAMEED MOHAMED HUMAID\",\"21UG0232 A. RAHMAN MUKBIL SINAN\",\"21UG0272 R. PIRIVIVAN RAJARADNAM PIRIVIVAN\",\"21UG0297 SONAL DISSANAYAKE\",\"21UG0480 S.D.C. PERERA\",\"21UG0481 S.M.S.M. BANDARA\",\"21UG0482 N.K.L.M. SILVA\",\"21UG0483 H.L.A.S. UMAYANGA\",\"21UG0484 U. BAVANITHAN\",\"21UG0485 U.L.S. UDAWATHTHAGE\",\"21UG0486 W.A.S.D. WANNIARACHCHI\",\"21UG0487 W.A.H.D. WANIGARATHNA\",\"21UG0488 W.M.A.S. MADUSANKA\",\"21UG0489 L.D.O. SATHRUWAN\",\"21UG0490 D.D.P. SALINDA\",\"21UG0491 M.S.T. JAYATHILAKA\",\"21UG0492 Y.P. THISHOK\",\"21UG0493 D.M.H.J. WEERAKOON\",\"21UG0494 K.M. SRIPATHIATHIKARAM\",\"21UG0495 W. LARUSAN\",\"21UG0496 M.N.K.M. BANDARA\",\"21UG0497 R.M.K.G. RAJAPAKSHA\",\"21UG0498 E.M.A.D. KARUNARATHNA\",\"21UG0499 Y.O. WICKRAMASINGHE\",\"21UG0500 R.N. SILVA\",\"21UG0501 W.M.H.T. DESHAPPRIYA\",\"21UG0502 D.R.V.S. PATHIRANA\",\"21UG0503 V.P.M.L. WIJESENA\",\"21UG0505 W.A.D.S. KOSHILA\",\"21UG0508 R.A.A.C. NAYANAJITH\",\"21UG0509 G.S. THARAKA\",\"21UG0510 T.M.L.M. THENNAKOON\",\"21UG0511 M.M. ABDULLA\",\"21UG0512 P.A.M.A. GUNAWARDHANA\",\"21UG0513 H.A.M.K.M. ATHTHANAYAKA\",\"21UG0514 M. DILSHAN\",\"21UG0515 A.C. WICKRAMASINGHA\",\"21UG0516 P.K.A. KAVINDA\",\"21UG0517 A.M.R.B. RATHNAYAKE\",\"21UG0518 G.R.T.B. RANASINGHE\",\"21UG0519 D.D.R.N. AMARASIRI\",\"21UG0520 S.M.K.D.B. SAMARAKOON\",\"21UG0521 B.G.C. PRABODHA\",\"21UG0522 M.K.S.D. JAYASINGHE\",\"21UG0523 E. PAHEERTHTHAN\",\"21UG0524 R.D.H. RUPASINGHE\",\"21UG0525 T.P.M. WICKRAMASINGHE\",\"21UG0526 U.R.N.T. WIMALASURENDRA\",\"21UG0527 R.A.H.D. PERERA\",\"21UG0528 P. PURUSOTHMAN\",\"21UG0529 B.H.C.R. VISHVAJITH\",\"21UG0530 W.M.N.B. WANNINAYAKA\",\"21UG0531 P.M.D. HASHAN\",\"21UG0834 M.G.C.S.C. BANDARA\",\"21UG0835 H.G.C.L. HARISCHANDRA\",\"21UG0868 R.D.R.S. RAJAPAKSHA\",\"21UG0869 M.G.U. SEWWANDI\",\"AA1341 AHMED NAFRY SHIHAM\"],\"y\":[0,0,0,0,0,0,0,0,0,0,0,0,0,0,0,0,0,0,0,0,0,0,0,0,0,0,0,0,0,0,0,0,0,0,0,0,0,0,0,0,0,0,0,0,0,0,0,0,0,0,0,0,0,0,0,0,0,0,0,0,0,0,0,0,0,0,0,0,0,0,0,0],\"type\":\"bar\"},{\"name\":\"Content created\",\"x\":[\"21UG0004 JANANI NUPEARACHCHI\",\"21UG0012 NIMESH DILSHAN\",\"21UG0019 TISHAN KALUWALGODA\",\"21UG0020 SIDATH DIYANATHA\",\"21UG0022 VIBHUTHI EKANAYAKA\",\"21UG0043 UWAN AMARATHUNGA\",\"21UG0045 THARUSHI LIYANAGE\",\"21UG0060 RUSITH MARCUS\",\"21UG0109 HOSHITHA SAMARAWEERA\",\"21UG0129 MANEESHA ABEYSOORIYA\",\"21UG0130 PARAMI DISSANAYAKA\",\"21UG0139 SENIL DAKSINDU HALPAGODA\",\"21UG0157 N. D. KAVINDU AVISHKA NIWUNHELLA\",\"21UG0181 HASHAN PATHMAKUMARA\",\"21UG0201 A. HAMEED MOHAMED HUMAID\",\"21UG0232 A. RAHMAN MUKBIL SINAN\",\"21UG0272 R. PIRIVIVAN RAJARADNAM PIRIVIVAN\",\"21UG0297 SONAL DISSANAYAKE\",\"21UG0480 S.D.C. PERERA\",\"21UG0481 S.M.S.M. BANDARA\",\"21UG0482 N.K.L.M. SILVA\",\"21UG0483 H.L.A.S. UMAYANGA\",\"21UG0484 U. BAVANITHAN\",\"21UG0485 U.L.S. UDAWATHTHAGE\",\"21UG0486 W.A.S.D. WANNIARACHCHI\",\"21UG0487 W.A.H.D. WANIGARATHNA\",\"21UG0488 W.M.A.S. MADUSANKA\",\"21UG0489 L.D.O. SATHRUWAN\",\"21UG0490 D.D.P. SALINDA\",\"21UG0491 M.S.T. JAYATHILAKA\",\"21UG0492 Y.P. THISHOK\",\"21UG0493 D.M.H.J. WEERAKOON\",\"21UG0494 K.M. SRIPATHIATHIKARAM\",\"21UG0495 W. LARUSAN\",\"21UG0496 M.N.K.M. BANDARA\",\"21UG0497 R.M.K.G. RAJAPAKSHA\",\"21UG0498 E.M.A.D. KARUNARATHNA\",\"21UG0499 Y.O. WICKRAMASINGHE\",\"21UG0500 R.N. SILVA\",\"21UG0501 W.M.H.T. DESHAPPRIYA\",\"21UG0502 D.R.V.S. PATHIRANA\",\"21UG0503 V.P.M.L. WIJESENA\",\"21UG0505 W.A.D.S. KOSHILA\",\"21UG0508 R.A.A.C. NAYANAJITH\",\"21UG0509 G.S. THARAKA\",\"21UG0510 T.M.L.M. THENNAKOON\",\"21UG0511 M.M. ABDULLA\",\"21UG0512 P.A.M.A. GUNAWARDHANA\",\"21UG0513 H.A.M.K.M. ATHTHANAYAKA\",\"21UG0514 M. DILSHAN\",\"21UG0515 A.C. WICKRAMASINGHA\",\"21UG0516 P.K.A. KAVINDA\",\"21UG0517 A.M.R.B. RATHNAYAKE\",\"21UG0518 G.R.T.B. RANASINGHE\",\"21UG0519 D.D.R.N. AMARASIRI\",\"21UG0520 S.M.K.D.B. SAMARAKOON\",\"21UG0521 B.G.C. PRABODHA\",\"21UG0522 M.K.S.D. JAYASINGHE\",\"21UG0523 E. PAHEERTHTHAN\",\"21UG0524 R.D.H. RUPASINGHE\",\"21UG0525 T.P.M. WICKRAMASINGHE\",\"21UG0526 U.R.N.T. WIMALASURENDRA\",\"21UG0527 R.A.H.D. PERERA\",\"21UG0528 P. PURUSOTHMAN\",\"21UG0529 B.H.C.R. VISHVAJITH\",\"21UG0530 W.M.N.B. WANNINAYAKA\",\"21UG0531 P.M.D. HASHAN\",\"21UG0834 M.G.C.S.C. BANDARA\",\"21UG0835 H.G.C.L. HARISCHANDRA\",\"21UG0868 R.D.R.S. RAJAPAKSHA\",\"21UG0869 M.G.U. SEWWANDI\",\"AA1341 AHMED NAFRY SHIHAM\"],\"y\":[0,0,0,0,0,0,0,0,0,0,0,0,0,0,0,0,0,0,0,0,0,0,0,0,0,0,0,0,0,0,0,0,0,0,0,0,0,0,0,0,0,0,0,0,0,0,0,0,0,0,0,0,0,0,0,0,0,0,0,0,0,0,0,0,0,0,0,0,0,0,0,0],\"type\":\"bar\"},{\"name\":\"Comments viewed\",\"x\":[\"21UG0004 JANANI NUPEARACHCHI\",\"21UG0012 NIMESH DILSHAN\",\"21UG0019 TISHAN KALUWALGODA\",\"21UG0020 SIDATH DIYANATHA\",\"21UG0022 VIBHUTHI EKANAYAKA\",\"21UG0043 UWAN AMARATHUNGA\",\"21UG0045 THARUSHI LIYANAGE\",\"21UG0060 RUSITH MARCUS\",\"21UG0109 HOSHITHA SAMARAWEERA\",\"21UG0129 MANEESHA ABEYSOORIYA\",\"21UG0130 PARAMI DISSANAYAKA\",\"21UG0139 SENIL DAKSINDU HALPAGODA\",\"21UG0157 N. D. KAVINDU AVISHKA NIWUNHELLA\",\"21UG0181 HASHAN PATHMAKUMARA\",\"21UG0201 A. HAMEED MOHAMED HUMAID\",\"21UG0232 A. RAHMAN MUKBIL SINAN\",\"21UG0272 R. PIRIVIVAN RAJARADNAM PIRIVIVAN\",\"21UG0297 SONAL DISSANAYAKE\",\"21UG0480 S.D.C. PERERA\",\"21UG0481 S.M.S.M. BANDARA\",\"21UG0482 N.K.L.M. SILVA\",\"21UG0483 H.L.A.S. UMAYANGA\",\"21UG0484 U. BAVANITHAN\",\"21UG0485 U.L.S. UDAWATHTHAGE\",\"21UG0486 W.A.S.D. WANNIARACHCHI\",\"21UG0487 W.A.H.D. WANIGARATHNA\",\"21UG0488 W.M.A.S. MADUSANKA\",\"21UG0489 L.D.O. SATHRUWAN\",\"21UG0490 D.D.P. SALINDA\",\"21UG0491 M.S.T. JAYATHILAKA\",\"21UG0492 Y.P. THISHOK\",\"21UG0493 D.M.H.J. WEERAKOON\",\"21UG0494 K.M. SRIPATHIATHIKARAM\",\"21UG0495 W. LARUSAN\",\"21UG0496 M.N.K.M. BANDARA\",\"21UG0497 R.M.K.G. RAJAPAKSHA\",\"21UG0498 E.M.A.D. KARUNARATHNA\",\"21UG0499 Y.O. WICKRAMASINGHE\",\"21UG0500 R.N. SILVA\",\"21UG0501 W.M.H.T. DESHAPPRIYA\",\"21UG0502 D.R.V.S. PATHIRANA\",\"21UG0503 V.P.M.L. WIJESENA\",\"21UG0505 W.A.D.S. KOSHILA\",\"21UG0508 R.A.A.C. NAYANAJITH\",\"21UG0509 G.S. THARAKA\",\"21UG0510 T.M.L.M. THENNAKOON\",\"21UG0511 M.M. ABDULLA\",\"21UG0512 P.A.M.A. GUNAWARDHANA\",\"21UG0513 H.A.M.K.M. ATHTHANAYAKA\",\"21UG0514 M. DILSHAN\",\"21UG0515 A.C. WICKRAMASINGHA\",\"21UG0516 P.K.A. KAVINDA\",\"21UG0517 A.M.R.B. RATHNAYAKE\",\"21UG0518 G.R.T.B. RANASINGHE\",\"21UG0519 D.D.R.N. AMARASIRI\",\"21UG0520 S.M.K.D.B. SAMARAKOON\",\"21UG0521 B.G.C. PRABODHA\",\"21UG0522 M.K.S.D. JAYASINGHE\",\"21UG0523 E. PAHEERTHTHAN\",\"21UG0524 R.D.H. RUPASINGHE\",\"21UG0525 T.P.M. WICKRAMASINGHE\",\"21UG0526 U.R.N.T. WIMALASURENDRA\",\"21UG0527 R.A.H.D. PERERA\",\"21UG0528 P. PURUSOTHMAN\",\"21UG0529 B.H.C.R. VISHVAJITH\",\"21UG0530 W.M.N.B. WANNINAYAKA\",\"21UG0531 P.M.D. HASHAN\",\"21UG0834 M.G.C.S.C. BANDARA\",\"21UG0835 H.G.C.L. HARISCHANDRA\",\"21UG0868 R.D.R.S. RAJAPAKSHA\",\"21UG0869 M.G.U. SEWWANDI\",\"AA1341 AHMED NAFRY SHIHAM\"],\"y\":[0,0,0,0,0,0,0,0,0,0,0,0,0,0,0,0,0,0,0,0,0,0,0,0,0,0,0,0,0,0,0,0,0,0,0,0,0,0,0,0,0,0,0,0,0,0,0,0,0,0,0,0,0,0,0,0,0,0,0,0,0,0,0,0,0,0,0,0,0,0,0,0],\"type\":\"bar\"},{\"name\":\"Content uploaded\",\"x\":[\"21UG0004 JANANI NUPEARACHCHI\",\"21UG0012 NIMESH DILSHAN\",\"21UG0019 TISHAN KALUWALGODA\",\"21UG0020 SIDATH DIYANATHA\",\"21UG0022 VIBHUTHI EKANAYAKA\",\"21UG0043 UWAN AMARATHUNGA\",\"21UG0045 THARUSHI LIYANAGE\",\"21UG0060 RUSITH MARCUS\",\"21UG0109 HOSHITHA SAMARAWEERA\",\"21UG0129 MANEESHA ABEYSOORIYA\",\"21UG0130 PARAMI DISSANAYAKA\",\"21UG0139 SENIL DAKSINDU HALPAGODA\",\"21UG0157 N. D. KAVINDU AVISHKA NIWUNHELLA\",\"21UG0181 HASHAN PATHMAKUMARA\",\"21UG0201 A. HAMEED MOHAMED HUMAID\",\"21UG0232 A. RAHMAN MUKBIL SINAN\",\"21UG0272 R. PIRIVIVAN RAJARADNAM PIRIVIVAN\",\"21UG0297 SONAL DISSANAYAKE\",\"21UG0480 S.D.C. PERERA\",\"21UG0481 S.M.S.M. BANDARA\",\"21UG0482 N.K.L.M. SILVA\",\"21UG0483 H.L.A.S. UMAYANGA\",\"21UG0484 U. BAVANITHAN\",\"21UG0485 U.L.S. UDAWATHTHAGE\",\"21UG0486 W.A.S.D. WANNIARACHCHI\",\"21UG0487 W.A.H.D. WANIGARATHNA\",\"21UG0488 W.M.A.S. MADUSANKA\",\"21UG0489 L.D.O. SATHRUWAN\",\"21UG0490 D.D.P. SALINDA\",\"21UG0491 M.S.T. JAYATHILAKA\",\"21UG0492 Y.P. THISHOK\",\"21UG0493 D.M.H.J. WEERAKOON\",\"21UG0494 K.M. SRIPATHIATHIKARAM\",\"21UG0495 W. LARUSAN\",\"21UG0496 M.N.K.M. BANDARA\",\"21UG0497 R.M.K.G. RAJAPAKSHA\",\"21UG0498 E.M.A.D. KARUNARATHNA\",\"21UG0499 Y.O. WICKRAMASINGHE\",\"21UG0500 R.N. SILVA\",\"21UG0501 W.M.H.T. DESHAPPRIYA\",\"21UG0502 D.R.V.S. PATHIRANA\",\"21UG0503 V.P.M.L. WIJESENA\",\"21UG0505 W.A.D.S. KOSHILA\",\"21UG0508 R.A.A.C. NAYANAJITH\",\"21UG0509 G.S. THARAKA\",\"21UG0510 T.M.L.M. THENNAKOON\",\"21UG0511 M.M. ABDULLA\",\"21UG0512 P.A.M.A. GUNAWARDHANA\",\"21UG0513 H.A.M.K.M. ATHTHANAYAKA\",\"21UG0514 M. DILSHAN\",\"21UG0515 A.C. WICKRAMASINGHA\",\"21UG0516 P.K.A. KAVINDA\",\"21UG0517 A.M.R.B. RATHNAYAKE\",\"21UG0518 G.R.T.B. RANASINGHE\",\"21UG0519 D.D.R.N. AMARASIRI\",\"21UG0520 S.M.K.D.B. SAMARAKOON\",\"21UG0521 B.G.C. PRABODHA\",\"21UG0522 M.K.S.D. JAYASINGHE\",\"21UG0523 E. PAHEERTHTHAN\",\"21UG0524 R.D.H. RUPASINGHE\",\"21UG0525 T.P.M. WICKRAMASINGHE\",\"21UG0526 U.R.N.T. WIMALASURENDRA\",\"21UG0527 R.A.H.D. PERERA\",\"21UG0528 P. PURUSOTHMAN\",\"21UG0529 B.H.C.R. VISHVAJITH\",\"21UG0530 W.M.N.B. WANNINAYAKA\",\"21UG0531 P.M.D. HASHAN\",\"21UG0834 M.G.C.S.C. BANDARA\",\"21UG0835 H.G.C.L. HARISCHANDRA\",\"21UG0868 R.D.R.S. RAJAPAKSHA\",\"21UG0869 M.G.U. SEWWANDI\",\"AA1341 AHMED NAFRY SHIHAM\"],\"y\":[0,0,0,0,0,0,0,0,0,0,0,0,0,0,0,0,0,0,0,0,0,0,0,0,0,0,0,0,0,0,0,0,0,0,0,0,0,0,0,0,0,0,0,0,0,0,0,0,0,0,0,0,0,0,0,0,0,0,0,0,0,0,0,0,0,0,0,0,0,0,0,0],\"type\":\"bar\"},{\"name\":\"Content viewed\",\"x\":[\"21UG0004 JANANI NUPEARACHCHI\",\"21UG0012 NIMESH DILSHAN\",\"21UG0019 TISHAN KALUWALGODA\",\"21UG0020 SIDATH DIYANATHA\",\"21UG0022 VIBHUTHI EKANAYAKA\",\"21UG0043 UWAN AMARATHUNGA\",\"21UG0045 THARUSHI LIYANAGE\",\"21UG0060 RUSITH MARCUS\",\"21UG0109 HOSHITHA SAMARAWEERA\",\"21UG0129 MANEESHA ABEYSOORIYA\",\"21UG0130 PARAMI DISSANAYAKA\",\"21UG0139 SENIL DAKSINDU HALPAGODA\",\"21UG0157 N. D. KAVINDU AVISHKA NIWUNHELLA\",\"21UG0181 HASHAN PATHMAKUMARA\",\"21UG0201 A. HAMEED MOHAMED HUMAID\",\"21UG0232 A. RAHMAN MUKBIL SINAN\",\"21UG0272 R. PIRIVIVAN RAJARADNAM PIRIVIVAN\",\"21UG0297 SONAL DISSANAYAKE\",\"21UG0480 S.D.C. PERERA\",\"21UG0481 S.M.S.M. BANDARA\",\"21UG0482 N.K.L.M. SILVA\",\"21UG0483 H.L.A.S. UMAYANGA\",\"21UG0484 U. BAVANITHAN\",\"21UG0485 U.L.S. UDAWATHTHAGE\",\"21UG0486 W.A.S.D. WANNIARACHCHI\",\"21UG0487 W.A.H.D. WANIGARATHNA\",\"21UG0488 W.M.A.S. MADUSANKA\",\"21UG0489 L.D.O. SATHRUWAN\",\"21UG0490 D.D.P. SALINDA\",\"21UG0491 M.S.T. JAYATHILAKA\",\"21UG0492 Y.P. THISHOK\",\"21UG0493 D.M.H.J. WEERAKOON\",\"21UG0494 K.M. SRIPATHIATHIKARAM\",\"21UG0495 W. LARUSAN\",\"21UG0496 M.N.K.M. BANDARA\",\"21UG0497 R.M.K.G. RAJAPAKSHA\",\"21UG0498 E.M.A.D. KARUNARATHNA\",\"21UG0499 Y.O. WICKRAMASINGHE\",\"21UG0500 R.N. SILVA\",\"21UG0501 W.M.H.T. DESHAPPRIYA\",\"21UG0502 D.R.V.S. PATHIRANA\",\"21UG0503 V.P.M.L. WIJESENA\",\"21UG0505 W.A.D.S. KOSHILA\",\"21UG0508 R.A.A.C. NAYANAJITH\",\"21UG0509 G.S. THARAKA\",\"21UG0510 T.M.L.M. THENNAKOON\",\"21UG0511 M.M. ABDULLA\",\"21UG0512 P.A.M.A. GUNAWARDHANA\",\"21UG0513 H.A.M.K.M. ATHTHANAYAKA\",\"21UG0514 M. DILSHAN\",\"21UG0515 A.C. WICKRAMASINGHA\",\"21UG0516 P.K.A. KAVINDA\",\"21UG0517 A.M.R.B. RATHNAYAKE\",\"21UG0518 G.R.T.B. RANASINGHE\",\"21UG0519 D.D.R.N. AMARASIRI\",\"21UG0520 S.M.K.D.B. SAMARAKOON\",\"21UG0521 B.G.C. PRABODHA\",\"21UG0522 M.K.S.D. JAYASINGHE\",\"21UG0523 E. PAHEERTHTHAN\",\"21UG0524 R.D.H. RUPASINGHE\",\"21UG0525 T.P.M. WICKRAMASINGHE\",\"21UG0526 U.R.N.T. WIMALASURENDRA\",\"21UG0527 R.A.H.D. PERERA\",\"21UG0528 P. PURUSOTHMAN\",\"21UG0529 B.H.C.R. VISHVAJITH\",\"21UG0530 W.M.N.B. WANNINAYAKA\",\"21UG0531 P.M.D. HASHAN\",\"21UG0834 M.G.C.S.C. BANDARA\",\"21UG0835 H.G.C.L. HARISCHANDRA\",\"21UG0868 R.D.R.S. RAJAPAKSHA\",\"21UG0869 M.G.U. SEWWANDI\",\"AA1341 AHMED NAFRY SHIHAM\"],\"y\":[0,0,0,0,0,0,0,0,0,0,0,0,0,0,0,0,0,0,0,0,0,0,0,0,0,0,0,0,0,0,0,0,0,0,0,0,0,0,0,0,0,0,0,0,0,0,0,0,0,0,0,0,0,0,0,0,0,0,0,0,0,0,0,0,0,0,0,0,0,0,0,0],\"type\":\"bar\"},{\"name\":\"Comment created\",\"x\":[\"21UG0004 JANANI NUPEARACHCHI\",\"21UG0012 NIMESH DILSHAN\",\"21UG0019 TISHAN KALUWALGODA\",\"21UG0020 SIDATH DIYANATHA\",\"21UG0022 VIBHUTHI EKANAYAKA\",\"21UG0043 UWAN AMARATHUNGA\",\"21UG0045 THARUSHI LIYANAGE\",\"21UG0060 RUSITH MARCUS\",\"21UG0109 HOSHITHA SAMARAWEERA\",\"21UG0129 MANEESHA ABEYSOORIYA\",\"21UG0130 PARAMI DISSANAYAKA\",\"21UG0139 SENIL DAKSINDU HALPAGODA\",\"21UG0157 N. D. KAVINDU AVISHKA NIWUNHELLA\",\"21UG0181 HASHAN PATHMAKUMARA\",\"21UG0201 A. HAMEED MOHAMED HUMAID\",\"21UG0232 A. RAHMAN MUKBIL SINAN\",\"21UG0272 R. PIRIVIVAN RAJARADNAM PIRIVIVAN\",\"21UG0297 SONAL DISSANAYAKE\",\"21UG0480 S.D.C. PERERA\",\"21UG0481 S.M.S.M. BANDARA\",\"21UG0482 N.K.L.M. SILVA\",\"21UG0483 H.L.A.S. UMAYANGA\",\"21UG0484 U. BAVANITHAN\",\"21UG0485 U.L.S. UDAWATHTHAGE\",\"21UG0486 W.A.S.D. WANNIARACHCHI\",\"21UG0487 W.A.H.D. WANIGARATHNA\",\"21UG0488 W.M.A.S. MADUSANKA\",\"21UG0489 L.D.O. SATHRUWAN\",\"21UG0490 D.D.P. SALINDA\",\"21UG0491 M.S.T. JAYATHILAKA\",\"21UG0492 Y.P. THISHOK\",\"21UG0493 D.M.H.J. WEERAKOON\",\"21UG0494 K.M. SRIPATHIATHIKARAM\",\"21UG0495 W. LARUSAN\",\"21UG0496 M.N.K.M. BANDARA\",\"21UG0497 R.M.K.G. RAJAPAKSHA\",\"21UG0498 E.M.A.D. KARUNARATHNA\",\"21UG0499 Y.O. WICKRAMASINGHE\",\"21UG0500 R.N. SILVA\",\"21UG0501 W.M.H.T. DESHAPPRIYA\",\"21UG0502 D.R.V.S. PATHIRANA\",\"21UG0503 V.P.M.L. WIJESENA\",\"21UG0505 W.A.D.S. KOSHILA\",\"21UG0508 R.A.A.C. NAYANAJITH\",\"21UG0509 G.S. THARAKA\",\"21UG0510 T.M.L.M. THENNAKOON\",\"21UG0511 M.M. ABDULLA\",\"21UG0512 P.A.M.A. GUNAWARDHANA\",\"21UG0513 H.A.M.K.M. ATHTHANAYAKA\",\"21UG0514 M. DILSHAN\",\"21UG0515 A.C. WICKRAMASINGHA\",\"21UG0516 P.K.A. KAVINDA\",\"21UG0517 A.M.R.B. RATHNAYAKE\",\"21UG0518 G.R.T.B. RANASINGHE\",\"21UG0519 D.D.R.N. AMARASIRI\",\"21UG0520 S.M.K.D.B. SAMARAKOON\",\"21UG0521 B.G.C. PRABODHA\",\"21UG0522 M.K.S.D. JAYASINGHE\",\"21UG0523 E. PAHEERTHTHAN\",\"21UG0524 R.D.H. RUPASINGHE\",\"21UG0525 T.P.M. WICKRAMASINGHE\",\"21UG0526 U.R.N.T. WIMALASURENDRA\",\"21UG0527 R.A.H.D. PERERA\",\"21UG0528 P. PURUSOTHMAN\",\"21UG0529 B.H.C.R. VISHVAJITH\",\"21UG0530 W.M.N.B. WANNINAYAKA\",\"21UG0531 P.M.D. HASHAN\",\"21UG0834 M.G.C.S.C. BANDARA\",\"21UG0835 H.G.C.L. HARISCHANDRA\",\"21UG0868 R.D.R.S. RAJAPAKSHA\",\"21UG0869 M.G.U. SEWWANDI\",\"AA1341 AHMED NAFRY SHIHAM\"],\"y\":[0,0,0,0,0,0,0,0,0,0,0,0,0,0,0,0,0,0,0,0,0,0,0,0,0,0,0,0,0,0,0,0,0,0,0,0,0,0,0,0,0,0,0,0,0,0,0,0,0,0,0,0,0,0,0,0,0,0,0,0,0,0,0,0,0,0,0,0,0,0,0,0],\"type\":\"bar\"},{\"name\":\"Course activity completion updated\",\"x\":[\"21UG0004 JANANI NUPEARACHCHI\",\"21UG0012 NIMESH DILSHAN\",\"21UG0019 TISHAN KALUWALGODA\",\"21UG0020 SIDATH DIYANATHA\",\"21UG0022 VIBHUTHI EKANAYAKA\",\"21UG0043 UWAN AMARATHUNGA\",\"21UG0045 THARUSHI LIYANAGE\",\"21UG0060 RUSITH MARCUS\",\"21UG0109 HOSHITHA SAMARAWEERA\",\"21UG0129 MANEESHA ABEYSOORIYA\",\"21UG0130 PARAMI DISSANAYAKA\",\"21UG0139 SENIL DAKSINDU HALPAGODA\",\"21UG0157 N. D. KAVINDU AVISHKA NIWUNHELLA\",\"21UG0181 HASHAN PATHMAKUMARA\",\"21UG0201 A. HAMEED MOHAMED HUMAID\",\"21UG0232 A. RAHMAN MUKBIL SINAN\",\"21UG0272 R. PIRIVIVAN RAJARADNAM PIRIVIVAN\",\"21UG0297 SONAL DISSANAYAKE\",\"21UG0480 S.D.C. PERERA\",\"21UG0481 S.M.S.M. BANDARA\",\"21UG0482 N.K.L.M. SILVA\",\"21UG0483 H.L.A.S. UMAYANGA\",\"21UG0484 U. BAVANITHAN\",\"21UG0485 U.L.S. UDAWATHTHAGE\",\"21UG0486 W.A.S.D. WANNIARACHCHI\",\"21UG0487 W.A.H.D. WANIGARATHNA\",\"21UG0488 W.M.A.S. MADUSANKA\",\"21UG0489 L.D.O. SATHRUWAN\",\"21UG0490 D.D.P. SALINDA\",\"21UG0491 M.S.T. JAYATHILAKA\",\"21UG0492 Y.P. THISHOK\",\"21UG0493 D.M.H.J. WEERAKOON\",\"21UG0494 K.M. SRIPATHIATHIKARAM\",\"21UG0495 W. LARUSAN\",\"21UG0496 M.N.K.M. BANDARA\",\"21UG0497 R.M.K.G. RAJAPAKSHA\",\"21UG0498 E.M.A.D. KARUNARATHNA\",\"21UG0499 Y.O. WICKRAMASINGHE\",\"21UG0500 R.N. SILVA\",\"21UG0501 W.M.H.T. DESHAPPRIYA\",\"21UG0502 D.R.V.S. PATHIRANA\",\"21UG0503 V.P.M.L. WIJESENA\",\"21UG0505 W.A.D.S. KOSHILA\",\"21UG0508 R.A.A.C. NAYANAJITH\",\"21UG0509 G.S. THARAKA\",\"21UG0510 T.M.L.M. THENNAKOON\",\"21UG0511 M.M. ABDULLA\",\"21UG0512 P.A.M.A. GUNAWARDHANA\",\"21UG0513 H.A.M.K.M. ATHTHANAYAKA\",\"21UG0514 M. DILSHAN\",\"21UG0515 A.C. WICKRAMASINGHA\",\"21UG0516 P.K.A. KAVINDA\",\"21UG0517 A.M.R.B. RATHNAYAKE\",\"21UG0518 G.R.T.B. RANASINGHE\",\"21UG0519 D.D.R.N. AMARASIRI\",\"21UG0520 S.M.K.D.B. SAMARAKOON\",\"21UG0521 B.G.C. PRABODHA\",\"21UG0522 M.K.S.D. JAYASINGHE\",\"21UG0523 E. PAHEERTHTHAN\",\"21UG0524 R.D.H. RUPASINGHE\",\"21UG0525 T.P.M. WICKRAMASINGHE\",\"21UG0526 U.R.N.T. WIMALASURENDRA\",\"21UG0527 R.A.H.D. PERERA\",\"21UG0528 P. PURUSOTHMAN\",\"21UG0529 B.H.C.R. VISHVAJITH\",\"21UG0530 W.M.N.B. WANNINAYAKA\",\"21UG0531 P.M.D. HASHAN\",\"21UG0834 M.G.C.S.C. BANDARA\",\"21UG0835 H.G.C.L. HARISCHANDRA\",\"21UG0868 R.D.R.S. RAJAPAKSHA\",\"21UG0869 M.G.U. SEWWANDI\",\"AA1341 AHMED NAFRY SHIHAM\"],\"y\":[2,8,8,0,6,406,10,4,0,0,0,6,0,0,21,0,10,21,402,12,1,2,11,12,0,15,0,10,3,1,23,6,11,21,0,1,87,5,7,0,36,5,0,17,10,0,48,0,14,0,12,0,15,11,12,10,0,11,7,35,0,24,13,0,0,11,6,7,21,21,184,0],\"type\":\"bar\"},{\"name\":\"Discussion created\",\"x\":[\"21UG0004 JANANI NUPEARACHCHI\",\"21UG0012 NIMESH DILSHAN\",\"21UG0019 TISHAN KALUWALGODA\",\"21UG0020 SIDATH DIYANATHA\",\"21UG0022 VIBHUTHI EKANAYAKA\",\"21UG0043 UWAN AMARATHUNGA\",\"21UG0045 THARUSHI LIYANAGE\",\"21UG0060 RUSITH MARCUS\",\"21UG0109 HOSHITHA SAMARAWEERA\",\"21UG0129 MANEESHA ABEYSOORIYA\",\"21UG0130 PARAMI DISSANAYAKA\",\"21UG0139 SENIL DAKSINDU HALPAGODA\",\"21UG0157 N. D. KAVINDU AVISHKA NIWUNHELLA\",\"21UG0181 HASHAN PATHMAKUMARA\",\"21UG0201 A. HAMEED MOHAMED HUMAID\",\"21UG0232 A. RAHMAN MUKBIL SINAN\",\"21UG0272 R. PIRIVIVAN RAJARADNAM PIRIVIVAN\",\"21UG0297 SONAL DISSANAYAKE\",\"21UG0480 S.D.C. PERERA\",\"21UG0481 S.M.S.M. BANDARA\",\"21UG0482 N.K.L.M. SILVA\",\"21UG0483 H.L.A.S. UMAYANGA\",\"21UG0484 U. BAVANITHAN\",\"21UG0485 U.L.S. UDAWATHTHAGE\",\"21UG0486 W.A.S.D. WANNIARACHCHI\",\"21UG0487 W.A.H.D. WANIGARATHNA\",\"21UG0488 W.M.A.S. MADUSANKA\",\"21UG0489 L.D.O. SATHRUWAN\",\"21UG0490 D.D.P. SALINDA\",\"21UG0491 M.S.T. JAYATHILAKA\",\"21UG0492 Y.P. THISHOK\",\"21UG0493 D.M.H.J. WEERAKOON\",\"21UG0494 K.M. SRIPATHIATHIKARAM\",\"21UG0495 W. LARUSAN\",\"21UG0496 M.N.K.M. BANDARA\",\"21UG0497 R.M.K.G. RAJAPAKSHA\",\"21UG0498 E.M.A.D. KARUNARATHNA\",\"21UG0499 Y.O. WICKRAMASINGHE\",\"21UG0500 R.N. SILVA\",\"21UG0501 W.M.H.T. DESHAPPRIYA\",\"21UG0502 D.R.V.S. PATHIRANA\",\"21UG0503 V.P.M.L. WIJESENA\",\"21UG0505 W.A.D.S. KOSHILA\",\"21UG0508 R.A.A.C. NAYANAJITH\",\"21UG0509 G.S. THARAKA\",\"21UG0510 T.M.L.M. THENNAKOON\",\"21UG0511 M.M. ABDULLA\",\"21UG0512 P.A.M.A. GUNAWARDHANA\",\"21UG0513 H.A.M.K.M. ATHTHANAYAKA\",\"21UG0514 M. DILSHAN\",\"21UG0515 A.C. WICKRAMASINGHA\",\"21UG0516 P.K.A. KAVINDA\",\"21UG0517 A.M.R.B. RATHNAYAKE\",\"21UG0518 G.R.T.B. RANASINGHE\",\"21UG0519 D.D.R.N. AMARASIRI\",\"21UG0520 S.M.K.D.B. SAMARAKOON\",\"21UG0521 B.G.C. PRABODHA\",\"21UG0522 M.K.S.D. JAYASINGHE\",\"21UG0523 E. PAHEERTHTHAN\",\"21UG0524 R.D.H. RUPASINGHE\",\"21UG0525 T.P.M. WICKRAMASINGHE\",\"21UG0526 U.R.N.T. WIMALASURENDRA\",\"21UG0527 R.A.H.D. PERERA\",\"21UG0528 P. PURUSOTHMAN\",\"21UG0529 B.H.C.R. VISHVAJITH\",\"21UG0530 W.M.N.B. WANNINAYAKA\",\"21UG0531 P.M.D. HASHAN\",\"21UG0834 M.G.C.S.C. BANDARA\",\"21UG0835 H.G.C.L. HARISCHANDRA\",\"21UG0868 R.D.R.S. RAJAPAKSHA\",\"21UG0869 M.G.U. SEWWANDI\",\"AA1341 AHMED NAFRY SHIHAM\"],\"y\":[0,0,0,0,0,0,0,0,0,0,0,0,0,0,0,0,0,0,0,0,0,0,0,0,0,0,0,0,0,0,0,0,0,0,0,0,0,0,0,0,0,0,0,0,0,0,0,0,0,0,0,0,0,0,0,0,0,0,0,0,0,0,0,0,0,0,0,0,0,0,0,0],\"type\":\"bar\"},{\"name\":\"Discussion viewed\",\"x\":[\"21UG0004 JANANI NUPEARACHCHI\",\"21UG0012 NIMESH DILSHAN\",\"21UG0019 TISHAN KALUWALGODA\",\"21UG0020 SIDATH DIYANATHA\",\"21UG0022 VIBHUTHI EKANAYAKA\",\"21UG0043 UWAN AMARATHUNGA\",\"21UG0045 THARUSHI LIYANAGE\",\"21UG0060 RUSITH MARCUS\",\"21UG0109 HOSHITHA SAMARAWEERA\",\"21UG0129 MANEESHA ABEYSOORIYA\",\"21UG0130 PARAMI DISSANAYAKA\",\"21UG0139 SENIL DAKSINDU HALPAGODA\",\"21UG0157 N. D. KAVINDU AVISHKA NIWUNHELLA\",\"21UG0181 HASHAN PATHMAKUMARA\",\"21UG0201 A. HAMEED MOHAMED HUMAID\",\"21UG0232 A. RAHMAN MUKBIL SINAN\",\"21UG0272 R. PIRIVIVAN RAJARADNAM PIRIVIVAN\",\"21UG0297 SONAL DISSANAYAKE\",\"21UG0480 S.D.C. PERERA\",\"21UG0481 S.M.S.M. BANDARA\",\"21UG0482 N.K.L.M. SILVA\",\"21UG0483 H.L.A.S. UMAYANGA\",\"21UG0484 U. BAVANITHAN\",\"21UG0485 U.L.S. UDAWATHTHAGE\",\"21UG0486 W.A.S.D. WANNIARACHCHI\",\"21UG0487 W.A.H.D. WANIGARATHNA\",\"21UG0488 W.M.A.S. MADUSANKA\",\"21UG0489 L.D.O. SATHRUWAN\",\"21UG0490 D.D.P. SALINDA\",\"21UG0491 M.S.T. JAYATHILAKA\",\"21UG0492 Y.P. THISHOK\",\"21UG0493 D.M.H.J. WEERAKOON\",\"21UG0494 K.M. SRIPATHIATHIKARAM\",\"21UG0495 W. LARUSAN\",\"21UG0496 M.N.K.M. BANDARA\",\"21UG0497 R.M.K.G. RAJAPAKSHA\",\"21UG0498 E.M.A.D. KARUNARATHNA\",\"21UG0499 Y.O. WICKRAMASINGHE\",\"21UG0500 R.N. SILVA\",\"21UG0501 W.M.H.T. DESHAPPRIYA\",\"21UG0502 D.R.V.S. PATHIRANA\",\"21UG0503 V.P.M.L. WIJESENA\",\"21UG0505 W.A.D.S. KOSHILA\",\"21UG0508 R.A.A.C. NAYANAJITH\",\"21UG0509 G.S. THARAKA\",\"21UG0510 T.M.L.M. THENNAKOON\",\"21UG0511 M.M. ABDULLA\",\"21UG0512 P.A.M.A. GUNAWARDHANA\",\"21UG0513 H.A.M.K.M. ATHTHANAYAKA\",\"21UG0514 M. DILSHAN\",\"21UG0515 A.C. WICKRAMASINGHA\",\"21UG0516 P.K.A. KAVINDA\",\"21UG0517 A.M.R.B. RATHNAYAKE\",\"21UG0518 G.R.T.B. RANASINGHE\",\"21UG0519 D.D.R.N. AMARASIRI\",\"21UG0520 S.M.K.D.B. SAMARAKOON\",\"21UG0521 B.G.C. PRABODHA\",\"21UG0522 M.K.S.D. JAYASINGHE\",\"21UG0523 E. PAHEERTHTHAN\",\"21UG0524 R.D.H. RUPASINGHE\",\"21UG0525 T.P.M. WICKRAMASINGHE\",\"21UG0526 U.R.N.T. WIMALASURENDRA\",\"21UG0527 R.A.H.D. PERERA\",\"21UG0528 P. PURUSOTHMAN\",\"21UG0529 B.H.C.R. VISHVAJITH\",\"21UG0530 W.M.N.B. WANNINAYAKA\",\"21UG0531 P.M.D. HASHAN\",\"21UG0834 M.G.C.S.C. BANDARA\",\"21UG0835 H.G.C.L. HARISCHANDRA\",\"21UG0868 R.D.R.S. RAJAPAKSHA\",\"21UG0869 M.G.U. SEWWANDI\",\"AA1341 AHMED NAFRY SHIHAM\"],\"y\":[0,0,0,0,0,0,0,0,0,0,0,0,0,0,0,0,0,0,0,0,0,0,0,0,0,0,0,0,0,0,0,0,0,0,0,0,0,0,0,0,0,0,0,0,0,0,0,0,0,0,0,0,0,0,0,0,0,0,0,0,0,0,0,0,0,0,0,0,0,0,0,0],\"type\":\"bar\"},{\"name\":\"Feedback viewed\",\"x\":[\"21UG0004 JANANI NUPEARACHCHI\",\"21UG0012 NIMESH DILSHAN\",\"21UG0019 TISHAN KALUWALGODA\",\"21UG0020 SIDATH DIYANATHA\",\"21UG0022 VIBHUTHI EKANAYAKA\",\"21UG0043 UWAN AMARATHUNGA\",\"21UG0045 THARUSHI LIYANAGE\",\"21UG0060 RUSITH MARCUS\",\"21UG0109 HOSHITHA SAMARAWEERA\",\"21UG0129 MANEESHA ABEYSOORIYA\",\"21UG0130 PARAMI DISSANAYAKA\",\"21UG0139 SENIL DAKSINDU HALPAGODA\",\"21UG0157 N. D. KAVINDU AVISHKA NIWUNHELLA\",\"21UG0181 HASHAN PATHMAKUMARA\",\"21UG0201 A. HAMEED MOHAMED HUMAID\",\"21UG0232 A. RAHMAN MUKBIL SINAN\",\"21UG0272 R. PIRIVIVAN RAJARADNAM PIRIVIVAN\",\"21UG0297 SONAL DISSANAYAKE\",\"21UG0480 S.D.C. PERERA\",\"21UG0481 S.M.S.M. BANDARA\",\"21UG0482 N.K.L.M. SILVA\",\"21UG0483 H.L.A.S. UMAYANGA\",\"21UG0484 U. BAVANITHAN\",\"21UG0485 U.L.S. UDAWATHTHAGE\",\"21UG0486 W.A.S.D. WANNIARACHCHI\",\"21UG0487 W.A.H.D. WANIGARATHNA\",\"21UG0488 W.M.A.S. MADUSANKA\",\"21UG0489 L.D.O. SATHRUWAN\",\"21UG0490 D.D.P. SALINDA\",\"21UG0491 M.S.T. JAYATHILAKA\",\"21UG0492 Y.P. THISHOK\",\"21UG0493 D.M.H.J. WEERAKOON\",\"21UG0494 K.M. SRIPATHIATHIKARAM\",\"21UG0495 W. LARUSAN\",\"21UG0496 M.N.K.M. BANDARA\",\"21UG0497 R.M.K.G. RAJAPAKSHA\",\"21UG0498 E.M.A.D. KARUNARATHNA\",\"21UG0499 Y.O. WICKRAMASINGHE\",\"21UG0500 R.N. SILVA\",\"21UG0501 W.M.H.T. DESHAPPRIYA\",\"21UG0502 D.R.V.S. PATHIRANA\",\"21UG0503 V.P.M.L. WIJESENA\",\"21UG0505 W.A.D.S. KOSHILA\",\"21UG0508 R.A.A.C. NAYANAJITH\",\"21UG0509 G.S. THARAKA\",\"21UG0510 T.M.L.M. THENNAKOON\",\"21UG0511 M.M. ABDULLA\",\"21UG0512 P.A.M.A. GUNAWARDHANA\",\"21UG0513 H.A.M.K.M. ATHTHANAYAKA\",\"21UG0514 M. DILSHAN\",\"21UG0515 A.C. WICKRAMASINGHA\",\"21UG0516 P.K.A. KAVINDA\",\"21UG0517 A.M.R.B. RATHNAYAKE\",\"21UG0518 G.R.T.B. RANASINGHE\",\"21UG0519 D.D.R.N. AMARASIRI\",\"21UG0520 S.M.K.D.B. SAMARAKOON\",\"21UG0521 B.G.C. PRABODHA\",\"21UG0522 M.K.S.D. JAYASINGHE\",\"21UG0523 E. PAHEERTHTHAN\",\"21UG0524 R.D.H. RUPASINGHE\",\"21UG0525 T.P.M. WICKRAMASINGHE\",\"21UG0526 U.R.N.T. WIMALASURENDRA\",\"21UG0527 R.A.H.D. PERERA\",\"21UG0528 P. PURUSOTHMAN\",\"21UG0529 B.H.C.R. VISHVAJITH\",\"21UG0530 W.M.N.B. WANNINAYAKA\",\"21UG0531 P.M.D. HASHAN\",\"21UG0834 M.G.C.S.C. BANDARA\",\"21UG0835 H.G.C.L. HARISCHANDRA\",\"21UG0868 R.D.R.S. RAJAPAKSHA\",\"21UG0869 M.G.U. SEWWANDI\",\"AA1341 AHMED NAFRY SHIHAM\"],\"y\":[0,0,0,0,0,1,0,0,0,0,0,0,0,0,0,0,1,0,1,1,0,4,0,4,0,0,0,0,0,0,2,0,0,1,0,0,0,5,2,0,0,0,0,0,0,0,0,1,0,0,0,0,0,0,0,0,0,0,6,3,0,0,0,0,0,0,0,0,0,0,0,0],\"type\":\"bar\"},{\"name\":\"H5P content viewed\",\"x\":[\"21UG0004 JANANI NUPEARACHCHI\",\"21UG0012 NIMESH DILSHAN\",\"21UG0019 TISHAN KALUWALGODA\",\"21UG0020 SIDATH DIYANATHA\",\"21UG0022 VIBHUTHI EKANAYAKA\",\"21UG0043 UWAN AMARATHUNGA\",\"21UG0045 THARUSHI LIYANAGE\",\"21UG0060 RUSITH MARCUS\",\"21UG0109 HOSHITHA SAMARAWEERA\",\"21UG0129 MANEESHA ABEYSOORIYA\",\"21UG0130 PARAMI DISSANAYAKA\",\"21UG0139 SENIL DAKSINDU HALPAGODA\",\"21UG0157 N. D. KAVINDU AVISHKA NIWUNHELLA\",\"21UG0181 HASHAN PATHMAKUMARA\",\"21UG0201 A. HAMEED MOHAMED HUMAID\",\"21UG0232 A. RAHMAN MUKBIL SINAN\",\"21UG0272 R. PIRIVIVAN RAJARADNAM PIRIVIVAN\",\"21UG0297 SONAL DISSANAYAKE\",\"21UG0480 S.D.C. PERERA\",\"21UG0481 S.M.S.M. BANDARA\",\"21UG0482 N.K.L.M. SILVA\",\"21UG0483 H.L.A.S. UMAYANGA\",\"21UG0484 U. BAVANITHAN\",\"21UG0485 U.L.S. UDAWATHTHAGE\",\"21UG0486 W.A.S.D. WANNIARACHCHI\",\"21UG0487 W.A.H.D. WANIGARATHNA\",\"21UG0488 W.M.A.S. MADUSANKA\",\"21UG0489 L.D.O. SATHRUWAN\",\"21UG0490 D.D.P. SALINDA\",\"21UG0491 M.S.T. JAYATHILAKA\",\"21UG0492 Y.P. THISHOK\",\"21UG0493 D.M.H.J. WEERAKOON\",\"21UG0494 K.M. SRIPATHIATHIKARAM\",\"21UG0495 W. LARUSAN\",\"21UG0496 M.N.K.M. BANDARA\",\"21UG0497 R.M.K.G. RAJAPAKSHA\",\"21UG0498 E.M.A.D. KARUNARATHNA\",\"21UG0499 Y.O. WICKRAMASINGHE\",\"21UG0500 R.N. SILVA\",\"21UG0501 W.M.H.T. DESHAPPRIYA\",\"21UG0502 D.R.V.S. PATHIRANA\",\"21UG0503 V.P.M.L. WIJESENA\",\"21UG0505 W.A.D.S. KOSHILA\",\"21UG0508 R.A.A.C. NAYANAJITH\",\"21UG0509 G.S. THARAKA\",\"21UG0510 T.M.L.M. THENNAKOON\",\"21UG0511 M.M. ABDULLA\",\"21UG0512 P.A.M.A. GUNAWARDHANA\",\"21UG0513 H.A.M.K.M. ATHTHANAYAKA\",\"21UG0514 M. DILSHAN\",\"21UG0515 A.C. WICKRAMASINGHA\",\"21UG0516 P.K.A. KAVINDA\",\"21UG0517 A.M.R.B. RATHNAYAKE\",\"21UG0518 G.R.T.B. RANASINGHE\",\"21UG0519 D.D.R.N. AMARASIRI\",\"21UG0520 S.M.K.D.B. SAMARAKOON\",\"21UG0521 B.G.C. PRABODHA\",\"21UG0522 M.K.S.D. JAYASINGHE\",\"21UG0523 E. PAHEERTHTHAN\",\"21UG0524 R.D.H. RUPASINGHE\",\"21UG0525 T.P.M. WICKRAMASINGHE\",\"21UG0526 U.R.N.T. WIMALASURENDRA\",\"21UG0527 R.A.H.D. PERERA\",\"21UG0528 P. PURUSOTHMAN\",\"21UG0529 B.H.C.R. VISHVAJITH\",\"21UG0530 W.M.N.B. WANNINAYAKA\",\"21UG0531 P.M.D. HASHAN\",\"21UG0834 M.G.C.S.C. BANDARA\",\"21UG0835 H.G.C.L. HARISCHANDRA\",\"21UG0868 R.D.R.S. RAJAPAKSHA\",\"21UG0869 M.G.U. SEWWANDI\",\"AA1341 AHMED NAFRY SHIHAM\"],\"y\":[1,21,11,0,14,25,26,4,0,0,2,17,0,0,23,0,9,47,20,22,2,6,12,29,1,17,0,11,4,3,69,33,33,70,0,7,3,16,10,0,40,37,0,22,20,0,34,10,13,7,24,6,18,15,18,20,0,8,16,55,2,15,17,0,0,19,9,11,36,24,36,2],\"type\":\"bar\"},{\"name\":\"Message sent\",\"x\":[\"21UG0004 JANANI NUPEARACHCHI\",\"21UG0012 NIMESH DILSHAN\",\"21UG0019 TISHAN KALUWALGODA\",\"21UG0020 SIDATH DIYANATHA\",\"21UG0022 VIBHUTHI EKANAYAKA\",\"21UG0043 UWAN AMARATHUNGA\",\"21UG0045 THARUSHI LIYANAGE\",\"21UG0060 RUSITH MARCUS\",\"21UG0109 HOSHITHA SAMARAWEERA\",\"21UG0129 MANEESHA ABEYSOORIYA\",\"21UG0130 PARAMI DISSANAYAKA\",\"21UG0139 SENIL DAKSINDU HALPAGODA\",\"21UG0157 N. D. KAVINDU AVISHKA NIWUNHELLA\",\"21UG0181 HASHAN PATHMAKUMARA\",\"21UG0201 A. HAMEED MOHAMED HUMAID\",\"21UG0232 A. RAHMAN MUKBIL SINAN\",\"21UG0272 R. PIRIVIVAN RAJARADNAM PIRIVIVAN\",\"21UG0297 SONAL DISSANAYAKE\",\"21UG0480 S.D.C. PERERA\",\"21UG0481 S.M.S.M. BANDARA\",\"21UG0482 N.K.L.M. SILVA\",\"21UG0483 H.L.A.S. UMAYANGA\",\"21UG0484 U. BAVANITHAN\",\"21UG0485 U.L.S. UDAWATHTHAGE\",\"21UG0486 W.A.S.D. WANNIARACHCHI\",\"21UG0487 W.A.H.D. WANIGARATHNA\",\"21UG0488 W.M.A.S. MADUSANKA\",\"21UG0489 L.D.O. SATHRUWAN\",\"21UG0490 D.D.P. SALINDA\",\"21UG0491 M.S.T. JAYATHILAKA\",\"21UG0492 Y.P. THISHOK\",\"21UG0493 D.M.H.J. WEERAKOON\",\"21UG0494 K.M. SRIPATHIATHIKARAM\",\"21UG0495 W. LARUSAN\",\"21UG0496 M.N.K.M. BANDARA\",\"21UG0497 R.M.K.G. RAJAPAKSHA\",\"21UG0498 E.M.A.D. KARUNARATHNA\",\"21UG0499 Y.O. WICKRAMASINGHE\",\"21UG0500 R.N. SILVA\",\"21UG0501 W.M.H.T. DESHAPPRIYA\",\"21UG0502 D.R.V.S. PATHIRANA\",\"21UG0503 V.P.M.L. WIJESENA\",\"21UG0505 W.A.D.S. KOSHILA\",\"21UG0508 R.A.A.C. NAYANAJITH\",\"21UG0509 G.S. THARAKA\",\"21UG0510 T.M.L.M. THENNAKOON\",\"21UG0511 M.M. ABDULLA\",\"21UG0512 P.A.M.A. GUNAWARDHANA\",\"21UG0513 H.A.M.K.M. ATHTHANAYAKA\",\"21UG0514 M. DILSHAN\",\"21UG0515 A.C. WICKRAMASINGHA\",\"21UG0516 P.K.A. KAVINDA\",\"21UG0517 A.M.R.B. RATHNAYAKE\",\"21UG0518 G.R.T.B. RANASINGHE\",\"21UG0519 D.D.R.N. AMARASIRI\",\"21UG0520 S.M.K.D.B. SAMARAKOON\",\"21UG0521 B.G.C. PRABODHA\",\"21UG0522 M.K.S.D. JAYASINGHE\",\"21UG0523 E. PAHEERTHTHAN\",\"21UG0524 R.D.H. RUPASINGHE\",\"21UG0525 T.P.M. WICKRAMASINGHE\",\"21UG0526 U.R.N.T. WIMALASURENDRA\",\"21UG0527 R.A.H.D. PERERA\",\"21UG0528 P. PURUSOTHMAN\",\"21UG0529 B.H.C.R. VISHVAJITH\",\"21UG0530 W.M.N.B. WANNINAYAKA\",\"21UG0531 P.M.D. HASHAN\",\"21UG0834 M.G.C.S.C. BANDARA\",\"21UG0835 H.G.C.L. HARISCHANDRA\",\"21UG0868 R.D.R.S. RAJAPAKSHA\",\"21UG0869 M.G.U. SEWWANDI\",\"AA1341 AHMED NAFRY SHIHAM\"],\"y\":[0,0,0,0,0,0,0,0,0,0,0,0,0,0,0,0,0,0,0,0,0,0,0,0,0,0,0,0,0,0,0,0,0,0,0,0,0,0,0,0,0,0,0,0,0,0,0,0,0,0,0,0,0,0,0,0,0,0,0,0,0,0,0,0,0,0,0,0,0,0,0,0],\"type\":\"bar\"},{\"name\":\"Post created\",\"x\":[\"21UG0004 JANANI NUPEARACHCHI\",\"21UG0012 NIMESH DILSHAN\",\"21UG0019 TISHAN KALUWALGODA\",\"21UG0020 SIDATH DIYANATHA\",\"21UG0022 VIBHUTHI EKANAYAKA\",\"21UG0043 UWAN AMARATHUNGA\",\"21UG0045 THARUSHI LIYANAGE\",\"21UG0060 RUSITH MARCUS\",\"21UG0109 HOSHITHA SAMARAWEERA\",\"21UG0129 MANEESHA ABEYSOORIYA\",\"21UG0130 PARAMI DISSANAYAKA\",\"21UG0139 SENIL DAKSINDU HALPAGODA\",\"21UG0157 N. D. KAVINDU AVISHKA NIWUNHELLA\",\"21UG0181 HASHAN PATHMAKUMARA\",\"21UG0201 A. HAMEED MOHAMED HUMAID\",\"21UG0232 A. RAHMAN MUKBIL SINAN\",\"21UG0272 R. PIRIVIVAN RAJARADNAM PIRIVIVAN\",\"21UG0297 SONAL DISSANAYAKE\",\"21UG0480 S.D.C. PERERA\",\"21UG0481 S.M.S.M. BANDARA\",\"21UG0482 N.K.L.M. SILVA\",\"21UG0483 H.L.A.S. UMAYANGA\",\"21UG0484 U. BAVANITHAN\",\"21UG0485 U.L.S. UDAWATHTHAGE\",\"21UG0486 W.A.S.D. WANNIARACHCHI\",\"21UG0487 W.A.H.D. WANIGARATHNA\",\"21UG0488 W.M.A.S. MADUSANKA\",\"21UG0489 L.D.O. SATHRUWAN\",\"21UG0490 D.D.P. SALINDA\",\"21UG0491 M.S.T. JAYATHILAKA\",\"21UG0492 Y.P. THISHOK\",\"21UG0493 D.M.H.J. WEERAKOON\",\"21UG0494 K.M. SRIPATHIATHIKARAM\",\"21UG0495 W. LARUSAN\",\"21UG0496 M.N.K.M. BANDARA\",\"21UG0497 R.M.K.G. RAJAPAKSHA\",\"21UG0498 E.M.A.D. KARUNARATHNA\",\"21UG0499 Y.O. WICKRAMASINGHE\",\"21UG0500 R.N. SILVA\",\"21UG0501 W.M.H.T. DESHAPPRIYA\",\"21UG0502 D.R.V.S. PATHIRANA\",\"21UG0503 V.P.M.L. WIJESENA\",\"21UG0505 W.A.D.S. KOSHILA\",\"21UG0508 R.A.A.C. NAYANAJITH\",\"21UG0509 G.S. THARAKA\",\"21UG0510 T.M.L.M. THENNAKOON\",\"21UG0511 M.M. ABDULLA\",\"21UG0512 P.A.M.A. GUNAWARDHANA\",\"21UG0513 H.A.M.K.M. ATHTHANAYAKA\",\"21UG0514 M. DILSHAN\",\"21UG0515 A.C. WICKRAMASINGHA\",\"21UG0516 P.K.A. KAVINDA\",\"21UG0517 A.M.R.B. RATHNAYAKE\",\"21UG0518 G.R.T.B. RANASINGHE\",\"21UG0519 D.D.R.N. AMARASIRI\",\"21UG0520 S.M.K.D.B. SAMARAKOON\",\"21UG0521 B.G.C. PRABODHA\",\"21UG0522 M.K.S.D. JAYASINGHE\",\"21UG0523 E. PAHEERTHTHAN\",\"21UG0524 R.D.H. RUPASINGHE\",\"21UG0525 T.P.M. WICKRAMASINGHE\",\"21UG0526 U.R.N.T. WIMALASURENDRA\",\"21UG0527 R.A.H.D. PERERA\",\"21UG0528 P. PURUSOTHMAN\",\"21UG0529 B.H.C.R. VISHVAJITH\",\"21UG0530 W.M.N.B. WANNINAYAKA\",\"21UG0531 P.M.D. HASHAN\",\"21UG0834 M.G.C.S.C. BANDARA\",\"21UG0835 H.G.C.L. HARISCHANDRA\",\"21UG0868 R.D.R.S. RAJAPAKSHA\",\"21UG0869 M.G.U. SEWWANDI\",\"AA1341 AHMED NAFRY SHIHAM\"],\"y\":[0,0,0,0,0,0,0,0,0,0,0,0,0,0,0,0,0,0,0,0,0,0,0,0,0,0,0,0,0,0,0,0,0,0,0,0,0,0,0,0,0,0,0,0,0,0,0,0,0,0,0,0,0,0,0,0,0,0,0,0,0,0,0,0,0,0,0,0,0,0,0,0],\"type\":\"bar\"},{\"name\":\"Quiz attempt submitted\",\"x\":[\"21UG0004 JANANI NUPEARACHCHI\",\"21UG0012 NIMESH DILSHAN\",\"21UG0019 TISHAN KALUWALGODA\",\"21UG0020 SIDATH DIYANATHA\",\"21UG0022 VIBHUTHI EKANAYAKA\",\"21UG0043 UWAN AMARATHUNGA\",\"21UG0045 THARUSHI LIYANAGE\",\"21UG0060 RUSITH MARCUS\",\"21UG0109 HOSHITHA SAMARAWEERA\",\"21UG0129 MANEESHA ABEYSOORIYA\",\"21UG0130 PARAMI DISSANAYAKA\",\"21UG0139 SENIL DAKSINDU HALPAGODA\",\"21UG0157 N. D. KAVINDU AVISHKA NIWUNHELLA\",\"21UG0181 HASHAN PATHMAKUMARA\",\"21UG0201 A. HAMEED MOHAMED HUMAID\",\"21UG0232 A. RAHMAN MUKBIL SINAN\",\"21UG0272 R. PIRIVIVAN RAJARADNAM PIRIVIVAN\",\"21UG0297 SONAL DISSANAYAKE\",\"21UG0480 S.D.C. PERERA\",\"21UG0481 S.M.S.M. BANDARA\",\"21UG0482 N.K.L.M. SILVA\",\"21UG0483 H.L.A.S. UMAYANGA\",\"21UG0484 U. BAVANITHAN\",\"21UG0485 U.L.S. UDAWATHTHAGE\",\"21UG0486 W.A.S.D. WANNIARACHCHI\",\"21UG0487 W.A.H.D. WANIGARATHNA\",\"21UG0488 W.M.A.S. MADUSANKA\",\"21UG0489 L.D.O. SATHRUWAN\",\"21UG0490 D.D.P. SALINDA\",\"21UG0491 M.S.T. JAYATHILAKA\",\"21UG0492 Y.P. THISHOK\",\"21UG0493 D.M.H.J. WEERAKOON\",\"21UG0494 K.M. SRIPATHIATHIKARAM\",\"21UG0495 W. LARUSAN\",\"21UG0496 M.N.K.M. BANDARA\",\"21UG0497 R.M.K.G. RAJAPAKSHA\",\"21UG0498 E.M.A.D. KARUNARATHNA\",\"21UG0499 Y.O. WICKRAMASINGHE\",\"21UG0500 R.N. SILVA\",\"21UG0501 W.M.H.T. DESHAPPRIYA\",\"21UG0502 D.R.V.S. PATHIRANA\",\"21UG0503 V.P.M.L. WIJESENA\",\"21UG0505 W.A.D.S. KOSHILA\",\"21UG0508 R.A.A.C. NAYANAJITH\",\"21UG0509 G.S. THARAKA\",\"21UG0510 T.M.L.M. THENNAKOON\",\"21UG0511 M.M. ABDULLA\",\"21UG0512 P.A.M.A. GUNAWARDHANA\",\"21UG0513 H.A.M.K.M. ATHTHANAYAKA\",\"21UG0514 M. DILSHAN\",\"21UG0515 A.C. WICKRAMASINGHA\",\"21UG0516 P.K.A. KAVINDA\",\"21UG0517 A.M.R.B. RATHNAYAKE\",\"21UG0518 G.R.T.B. RANASINGHE\",\"21UG0519 D.D.R.N. AMARASIRI\",\"21UG0520 S.M.K.D.B. SAMARAKOON\",\"21UG0521 B.G.C. PRABODHA\",\"21UG0522 M.K.S.D. JAYASINGHE\",\"21UG0523 E. PAHEERTHTHAN\",\"21UG0524 R.D.H. RUPASINGHE\",\"21UG0525 T.P.M. WICKRAMASINGHE\",\"21UG0526 U.R.N.T. WIMALASURENDRA\",\"21UG0527 R.A.H.D. PERERA\",\"21UG0528 P. PURUSOTHMAN\",\"21UG0529 B.H.C.R. VISHVAJITH\",\"21UG0530 W.M.N.B. WANNINAYAKA\",\"21UG0531 P.M.D. HASHAN\",\"21UG0834 M.G.C.S.C. BANDARA\",\"21UG0835 H.G.C.L. HARISCHANDRA\",\"21UG0868 R.D.R.S. RAJAPAKSHA\",\"21UG0869 M.G.U. SEWWANDI\",\"AA1341 AHMED NAFRY SHIHAM\"],\"y\":[0,0,0,0,0,0,0,0,0,0,0,0,0,0,0,0,0,0,0,0,0,0,0,0,0,0,0,0,0,0,0,0,0,0,0,0,0,0,0,0,0,0,0,0,0,0,0,0,0,0,0,0,0,0,0,0,0,0,0,0,0,0,0,0,0,0,0,0,0,0,0,0],\"type\":\"bar\"},{\"name\":\"mod_hvp: attempt submitted\",\"x\":[\"21UG0004 JANANI NUPEARACHCHI\",\"21UG0012 NIMESH DILSHAN\",\"21UG0019 TISHAN KALUWALGODA\",\"21UG0020 SIDATH DIYANATHA\",\"21UG0022 VIBHUTHI EKANAYAKA\",\"21UG0043 UWAN AMARATHUNGA\",\"21UG0045 THARUSHI LIYANAGE\",\"21UG0060 RUSITH MARCUS\",\"21UG0109 HOSHITHA SAMARAWEERA\",\"21UG0129 MANEESHA ABEYSOORIYA\",\"21UG0130 PARAMI DISSANAYAKA\",\"21UG0139 SENIL DAKSINDU HALPAGODA\",\"21UG0157 N. D. KAVINDU AVISHKA NIWUNHELLA\",\"21UG0181 HASHAN PATHMAKUMARA\",\"21UG0201 A. HAMEED MOHAMED HUMAID\",\"21UG0232 A. RAHMAN MUKBIL SINAN\",\"21UG0272 R. PIRIVIVAN RAJARADNAM PIRIVIVAN\",\"21UG0297 SONAL DISSANAYAKE\",\"21UG0480 S.D.C. PERERA\",\"21UG0481 S.M.S.M. BANDARA\",\"21UG0482 N.K.L.M. SILVA\",\"21UG0483 H.L.A.S. UMAYANGA\",\"21UG0484 U. BAVANITHAN\",\"21UG0485 U.L.S. UDAWATHTHAGE\",\"21UG0486 W.A.S.D. WANNIARACHCHI\",\"21UG0487 W.A.H.D. WANIGARATHNA\",\"21UG0488 W.M.A.S. MADUSANKA\",\"21UG0489 L.D.O. SATHRUWAN\",\"21UG0490 D.D.P. SALINDA\",\"21UG0491 M.S.T. JAYATHILAKA\",\"21UG0492 Y.P. THISHOK\",\"21UG0493 D.M.H.J. WEERAKOON\",\"21UG0494 K.M. SRIPATHIATHIKARAM\",\"21UG0495 W. LARUSAN\",\"21UG0496 M.N.K.M. BANDARA\",\"21UG0497 R.M.K.G. RAJAPAKSHA\",\"21UG0498 E.M.A.D. KARUNARATHNA\",\"21UG0499 Y.O. WICKRAMASINGHE\",\"21UG0500 R.N. SILVA\",\"21UG0501 W.M.H.T. DESHAPPRIYA\",\"21UG0502 D.R.V.S. PATHIRANA\",\"21UG0503 V.P.M.L. WIJESENA\",\"21UG0505 W.A.D.S. KOSHILA\",\"21UG0508 R.A.A.C. NAYANAJITH\",\"21UG0509 G.S. THARAKA\",\"21UG0510 T.M.L.M. THENNAKOON\",\"21UG0511 M.M. ABDULLA\",\"21UG0512 P.A.M.A. GUNAWARDHANA\",\"21UG0513 H.A.M.K.M. ATHTHANAYAKA\",\"21UG0514 M. DILSHAN\",\"21UG0515 A.C. WICKRAMASINGHA\",\"21UG0516 P.K.A. KAVINDA\",\"21UG0517 A.M.R.B. RATHNAYAKE\",\"21UG0518 G.R.T.B. RANASINGHE\",\"21UG0519 D.D.R.N. AMARASIRI\",\"21UG0520 S.M.K.D.B. SAMARAKOON\",\"21UG0521 B.G.C. PRABODHA\",\"21UG0522 M.K.S.D. JAYASINGHE\",\"21UG0523 E. PAHEERTHTHAN\",\"21UG0524 R.D.H. RUPASINGHE\",\"21UG0525 T.P.M. WICKRAMASINGHE\",\"21UG0526 U.R.N.T. WIMALASURENDRA\",\"21UG0527 R.A.H.D. PERERA\",\"21UG0528 P. PURUSOTHMAN\",\"21UG0529 B.H.C.R. VISHVAJITH\",\"21UG0530 W.M.N.B. WANNINAYAKA\",\"21UG0531 P.M.D. HASHAN\",\"21UG0834 M.G.C.S.C. BANDARA\",\"21UG0835 H.G.C.L. HARISCHANDRA\",\"21UG0868 R.D.R.S. RAJAPAKSHA\",\"21UG0869 M.G.U. SEWWANDI\",\"AA1341 AHMED NAFRY SHIHAM\"],\"y\":[0,0,0,0,0,0,0,0,0,0,0,0,0,0,0,0,0,0,0,0,0,0,0,0,0,0,0,0,0,0,0,0,0,0,0,0,0,0,0,0,0,0,0,0,0,0,0,0,0,0,0,0,0,0,0,0,0,0,0,0,0,0,0,0,0,0,0,0,0,0,0,0],\"type\":\"bar\"},{\"name\":\"Sessions viewed\",\"x\":[\"21UG0004 JANANI NUPEARACHCHI\",\"21UG0012 NIMESH DILSHAN\",\"21UG0019 TISHAN KALUWALGODA\",\"21UG0020 SIDATH DIYANATHA\",\"21UG0022 VIBHUTHI EKANAYAKA\",\"21UG0043 UWAN AMARATHUNGA\",\"21UG0045 THARUSHI LIYANAGE\",\"21UG0060 RUSITH MARCUS\",\"21UG0109 HOSHITHA SAMARAWEERA\",\"21UG0129 MANEESHA ABEYSOORIYA\",\"21UG0130 PARAMI DISSANAYAKA\",\"21UG0139 SENIL DAKSINDU HALPAGODA\",\"21UG0157 N. D. KAVINDU AVISHKA NIWUNHELLA\",\"21UG0181 HASHAN PATHMAKUMARA\",\"21UG0201 A. HAMEED MOHAMED HUMAID\",\"21UG0232 A. RAHMAN MUKBIL SINAN\",\"21UG0272 R. PIRIVIVAN RAJARADNAM PIRIVIVAN\",\"21UG0297 SONAL DISSANAYAKE\",\"21UG0480 S.D.C. PERERA\",\"21UG0481 S.M.S.M. BANDARA\",\"21UG0482 N.K.L.M. SILVA\",\"21UG0483 H.L.A.S. UMAYANGA\",\"21UG0484 U. BAVANITHAN\",\"21UG0485 U.L.S. UDAWATHTHAGE\",\"21UG0486 W.A.S.D. WANNIARACHCHI\",\"21UG0487 W.A.H.D. WANIGARATHNA\",\"21UG0488 W.M.A.S. MADUSANKA\",\"21UG0489 L.D.O. SATHRUWAN\",\"21UG0490 D.D.P. SALINDA\",\"21UG0491 M.S.T. JAYATHILAKA\",\"21UG0492 Y.P. THISHOK\",\"21UG0493 D.M.H.J. WEERAKOON\",\"21UG0494 K.M. SRIPATHIATHIKARAM\",\"21UG0495 W. LARUSAN\",\"21UG0496 M.N.K.M. BANDARA\",\"21UG0497 R.M.K.G. RAJAPAKSHA\",\"21UG0498 E.M.A.D. KARUNARATHNA\",\"21UG0499 Y.O. WICKRAMASINGHE\",\"21UG0500 R.N. SILVA\",\"21UG0501 W.M.H.T. DESHAPPRIYA\",\"21UG0502 D.R.V.S. PATHIRANA\",\"21UG0503 V.P.M.L. WIJESENA\",\"21UG0505 W.A.D.S. KOSHILA\",\"21UG0508 R.A.A.C. NAYANAJITH\",\"21UG0509 G.S. THARAKA\",\"21UG0510 T.M.L.M. THENNAKOON\",\"21UG0511 M.M. ABDULLA\",\"21UG0512 P.A.M.A. GUNAWARDHANA\",\"21UG0513 H.A.M.K.M. ATHTHANAYAKA\",\"21UG0514 M. DILSHAN\",\"21UG0515 A.C. WICKRAMASINGHA\",\"21UG0516 P.K.A. KAVINDA\",\"21UG0517 A.M.R.B. RATHNAYAKE\",\"21UG0518 G.R.T.B. RANASINGHE\",\"21UG0519 D.D.R.N. AMARASIRI\",\"21UG0520 S.M.K.D.B. SAMARAKOON\",\"21UG0521 B.G.C. PRABODHA\",\"21UG0522 M.K.S.D. JAYASINGHE\",\"21UG0523 E. PAHEERTHTHAN\",\"21UG0524 R.D.H. RUPASINGHE\",\"21UG0525 T.P.M. WICKRAMASINGHE\",\"21UG0526 U.R.N.T. WIMALASURENDRA\",\"21UG0527 R.A.H.D. PERERA\",\"21UG0528 P. PURUSOTHMAN\",\"21UG0529 B.H.C.R. VISHVAJITH\",\"21UG0530 W.M.N.B. WANNINAYAKA\",\"21UG0531 P.M.D. HASHAN\",\"21UG0834 M.G.C.S.C. BANDARA\",\"21UG0835 H.G.C.L. HARISCHANDRA\",\"21UG0868 R.D.R.S. RAJAPAKSHA\",\"21UG0869 M.G.U. SEWWANDI\",\"AA1341 AHMED NAFRY SHIHAM\"],\"y\":[0,0,0,0,0,0,0,0,0,0,0,0,0,0,0,0,0,0,0,0,0,0,0,1,0,0,0,0,0,0,0,0,0,0,0,0,0,0,0,0,0,0,0,0,0,0,0,0,0,0,0,0,0,0,0,0,0,0,0,0,0,0,0,0,0,0,0,0,0,0,0,0],\"type\":\"bar\"},{\"name\":\"Some content has been posted.\",\"x\":[\"21UG0004 JANANI NUPEARACHCHI\",\"21UG0012 NIMESH DILSHAN\",\"21UG0019 TISHAN KALUWALGODA\",\"21UG0020 SIDATH DIYANATHA\",\"21UG0022 VIBHUTHI EKANAYAKA\",\"21UG0043 UWAN AMARATHUNGA\",\"21UG0045 THARUSHI LIYANAGE\",\"21UG0060 RUSITH MARCUS\",\"21UG0109 HOSHITHA SAMARAWEERA\",\"21UG0129 MANEESHA ABEYSOORIYA\",\"21UG0130 PARAMI DISSANAYAKA\",\"21UG0139 SENIL DAKSINDU HALPAGODA\",\"21UG0157 N. D. KAVINDU AVISHKA NIWUNHELLA\",\"21UG0181 HASHAN PATHMAKUMARA\",\"21UG0201 A. HAMEED MOHAMED HUMAID\",\"21UG0232 A. RAHMAN MUKBIL SINAN\",\"21UG0272 R. PIRIVIVAN RAJARADNAM PIRIVIVAN\",\"21UG0297 SONAL DISSANAYAKE\",\"21UG0480 S.D.C. PERERA\",\"21UG0481 S.M.S.M. BANDARA\",\"21UG0482 N.K.L.M. SILVA\",\"21UG0483 H.L.A.S. UMAYANGA\",\"21UG0484 U. BAVANITHAN\",\"21UG0485 U.L.S. UDAWATHTHAGE\",\"21UG0486 W.A.S.D. WANNIARACHCHI\",\"21UG0487 W.A.H.D. WANIGARATHNA\",\"21UG0488 W.M.A.S. MADUSANKA\",\"21UG0489 L.D.O. SATHRUWAN\",\"21UG0490 D.D.P. SALINDA\",\"21UG0491 M.S.T. JAYATHILAKA\",\"21UG0492 Y.P. THISHOK\",\"21UG0493 D.M.H.J. WEERAKOON\",\"21UG0494 K.M. SRIPATHIATHIKARAM\",\"21UG0495 W. LARUSAN\",\"21UG0496 M.N.K.M. BANDARA\",\"21UG0497 R.M.K.G. RAJAPAKSHA\",\"21UG0498 E.M.A.D. KARUNARATHNA\",\"21UG0499 Y.O. WICKRAMASINGHE\",\"21UG0500 R.N. SILVA\",\"21UG0501 W.M.H.T. DESHAPPRIYA\",\"21UG0502 D.R.V.S. PATHIRANA\",\"21UG0503 V.P.M.L. WIJESENA\",\"21UG0505 W.A.D.S. KOSHILA\",\"21UG0508 R.A.A.C. NAYANAJITH\",\"21UG0509 G.S. THARAKA\",\"21UG0510 T.M.L.M. THENNAKOON\",\"21UG0511 M.M. ABDULLA\",\"21UG0512 P.A.M.A. GUNAWARDHANA\",\"21UG0513 H.A.M.K.M. ATHTHANAYAKA\",\"21UG0514 M. DILSHAN\",\"21UG0515 A.C. WICKRAMASINGHA\",\"21UG0516 P.K.A. KAVINDA\",\"21UG0517 A.M.R.B. RATHNAYAKE\",\"21UG0518 G.R.T.B. RANASINGHE\",\"21UG0519 D.D.R.N. AMARASIRI\",\"21UG0520 S.M.K.D.B. SAMARAKOON\",\"21UG0521 B.G.C. PRABODHA\",\"21UG0522 M.K.S.D. JAYASINGHE\",\"21UG0523 E. PAHEERTHTHAN\",\"21UG0524 R.D.H. RUPASINGHE\",\"21UG0525 T.P.M. WICKRAMASINGHE\",\"21UG0526 U.R.N.T. WIMALASURENDRA\",\"21UG0527 R.A.H.D. PERERA\",\"21UG0528 P. PURUSOTHMAN\",\"21UG0529 B.H.C.R. VISHVAJITH\",\"21UG0530 W.M.N.B. WANNINAYAKA\",\"21UG0531 P.M.D. HASHAN\",\"21UG0834 M.G.C.S.C. BANDARA\",\"21UG0835 H.G.C.L. HARISCHANDRA\",\"21UG0868 R.D.R.S. RAJAPAKSHA\",\"21UG0869 M.G.U. SEWWANDI\",\"AA1341 AHMED NAFRY SHIHAM\"],\"y\":[0,0,0,0,0,0,0,0,0,0,0,0,0,0,0,0,0,0,0,0,0,0,0,0,0,0,0,0,0,0,0,0,0,0,0,0,0,0,0,0,0,0,0,0,0,0,0,0,0,0,0,0,0,0,0,0,0,0,0,0,0,0,0,0,0,0,0,0,0,0,0,0],\"type\":\"bar\"},{\"name\":\"Submission created.\",\"x\":[\"21UG0004 JANANI NUPEARACHCHI\",\"21UG0012 NIMESH DILSHAN\",\"21UG0019 TISHAN KALUWALGODA\",\"21UG0020 SIDATH DIYANATHA\",\"21UG0022 VIBHUTHI EKANAYAKA\",\"21UG0043 UWAN AMARATHUNGA\",\"21UG0045 THARUSHI LIYANAGE\",\"21UG0060 RUSITH MARCUS\",\"21UG0109 HOSHITHA SAMARAWEERA\",\"21UG0129 MANEESHA ABEYSOORIYA\",\"21UG0130 PARAMI DISSANAYAKA\",\"21UG0139 SENIL DAKSINDU HALPAGODA\",\"21UG0157 N. D. KAVINDU AVISHKA NIWUNHELLA\",\"21UG0181 HASHAN PATHMAKUMARA\",\"21UG0201 A. HAMEED MOHAMED HUMAID\",\"21UG0232 A. RAHMAN MUKBIL SINAN\",\"21UG0272 R. PIRIVIVAN RAJARADNAM PIRIVIVAN\",\"21UG0297 SONAL DISSANAYAKE\",\"21UG0480 S.D.C. PERERA\",\"21UG0481 S.M.S.M. BANDARA\",\"21UG0482 N.K.L.M. SILVA\",\"21UG0483 H.L.A.S. UMAYANGA\",\"21UG0484 U. BAVANITHAN\",\"21UG0485 U.L.S. UDAWATHTHAGE\",\"21UG0486 W.A.S.D. WANNIARACHCHI\",\"21UG0487 W.A.H.D. WANIGARATHNA\",\"21UG0488 W.M.A.S. MADUSANKA\",\"21UG0489 L.D.O. SATHRUWAN\",\"21UG0490 D.D.P. SALINDA\",\"21UG0491 M.S.T. JAYATHILAKA\",\"21UG0492 Y.P. THISHOK\",\"21UG0493 D.M.H.J. WEERAKOON\",\"21UG0494 K.M. SRIPATHIATHIKARAM\",\"21UG0495 W. LARUSAN\",\"21UG0496 M.N.K.M. BANDARA\",\"21UG0497 R.M.K.G. RAJAPAKSHA\",\"21UG0498 E.M.A.D. KARUNARATHNA\",\"21UG0499 Y.O. WICKRAMASINGHE\",\"21UG0500 R.N. SILVA\",\"21UG0501 W.M.H.T. DESHAPPRIYA\",\"21UG0502 D.R.V.S. PATHIRANA\",\"21UG0503 V.P.M.L. WIJESENA\",\"21UG0505 W.A.D.S. KOSHILA\",\"21UG0508 R.A.A.C. NAYANAJITH\",\"21UG0509 G.S. THARAKA\",\"21UG0510 T.M.L.M. THENNAKOON\",\"21UG0511 M.M. ABDULLA\",\"21UG0512 P.A.M.A. GUNAWARDHANA\",\"21UG0513 H.A.M.K.M. ATHTHANAYAKA\",\"21UG0514 M. DILSHAN\",\"21UG0515 A.C. WICKRAMASINGHA\",\"21UG0516 P.K.A. KAVINDA\",\"21UG0517 A.M.R.B. RATHNAYAKE\",\"21UG0518 G.R.T.B. RANASINGHE\",\"21UG0519 D.D.R.N. AMARASIRI\",\"21UG0520 S.M.K.D.B. SAMARAKOON\",\"21UG0521 B.G.C. PRABODHA\",\"21UG0522 M.K.S.D. JAYASINGHE\",\"21UG0523 E. PAHEERTHTHAN\",\"21UG0524 R.D.H. RUPASINGHE\",\"21UG0525 T.P.M. WICKRAMASINGHE\",\"21UG0526 U.R.N.T. WIMALASURENDRA\",\"21UG0527 R.A.H.D. PERERA\",\"21UG0528 P. PURUSOTHMAN\",\"21UG0529 B.H.C.R. VISHVAJITH\",\"21UG0530 W.M.N.B. WANNINAYAKA\",\"21UG0531 P.M.D. HASHAN\",\"21UG0834 M.G.C.S.C. BANDARA\",\"21UG0835 H.G.C.L. HARISCHANDRA\",\"21UG0868 R.D.R.S. RAJAPAKSHA\",\"21UG0869 M.G.U. SEWWANDI\",\"AA1341 AHMED NAFRY SHIHAM\"],\"y\":[0,0,0,0,0,0,0,0,0,0,0,0,0,0,0,0,0,0,1,0,0,0,0,1,0,0,0,1,0,1,0,0,0,0,0,0,0,0,0,0,0,0,0,1,0,0,0,0,0,0,1,0,0,1,0,0,0,0,0,0,0,1,0,0,0,1,0,0,0,0,0,0],\"type\":\"bar\"},{\"name\":\"The submission has been graded.\",\"x\":[\"21UG0004 JANANI NUPEARACHCHI\",\"21UG0012 NIMESH DILSHAN\",\"21UG0019 TISHAN KALUWALGODA\",\"21UG0020 SIDATH DIYANATHA\",\"21UG0022 VIBHUTHI EKANAYAKA\",\"21UG0043 UWAN AMARATHUNGA\",\"21UG0045 THARUSHI LIYANAGE\",\"21UG0060 RUSITH MARCUS\",\"21UG0109 HOSHITHA SAMARAWEERA\",\"21UG0129 MANEESHA ABEYSOORIYA\",\"21UG0130 PARAMI DISSANAYAKA\",\"21UG0139 SENIL DAKSINDU HALPAGODA\",\"21UG0157 N. D. KAVINDU AVISHKA NIWUNHELLA\",\"21UG0181 HASHAN PATHMAKUMARA\",\"21UG0201 A. HAMEED MOHAMED HUMAID\",\"21UG0232 A. RAHMAN MUKBIL SINAN\",\"21UG0272 R. PIRIVIVAN RAJARADNAM PIRIVIVAN\",\"21UG0297 SONAL DISSANAYAKE\",\"21UG0480 S.D.C. PERERA\",\"21UG0481 S.M.S.M. BANDARA\",\"21UG0482 N.K.L.M. SILVA\",\"21UG0483 H.L.A.S. UMAYANGA\",\"21UG0484 U. BAVANITHAN\",\"21UG0485 U.L.S. UDAWATHTHAGE\",\"21UG0486 W.A.S.D. WANNIARACHCHI\",\"21UG0487 W.A.H.D. WANIGARATHNA\",\"21UG0488 W.M.A.S. MADUSANKA\",\"21UG0489 L.D.O. SATHRUWAN\",\"21UG0490 D.D.P. SALINDA\",\"21UG0491 M.S.T. JAYATHILAKA\",\"21UG0492 Y.P. THISHOK\",\"21UG0493 D.M.H.J. WEERAKOON\",\"21UG0494 K.M. SRIPATHIATHIKARAM\",\"21UG0495 W. LARUSAN\",\"21UG0496 M.N.K.M. BANDARA\",\"21UG0497 R.M.K.G. RAJAPAKSHA\",\"21UG0498 E.M.A.D. KARUNARATHNA\",\"21UG0499 Y.O. WICKRAMASINGHE\",\"21UG0500 R.N. SILVA\",\"21UG0501 W.M.H.T. DESHAPPRIYA\",\"21UG0502 D.R.V.S. PATHIRANA\",\"21UG0503 V.P.M.L. WIJESENA\",\"21UG0505 W.A.D.S. KOSHILA\",\"21UG0508 R.A.A.C. NAYANAJITH\",\"21UG0509 G.S. THARAKA\",\"21UG0510 T.M.L.M. THENNAKOON\",\"21UG0511 M.M. ABDULLA\",\"21UG0512 P.A.M.A. GUNAWARDHANA\",\"21UG0513 H.A.M.K.M. ATHTHANAYAKA\",\"21UG0514 M. DILSHAN\",\"21UG0515 A.C. WICKRAMASINGHA\",\"21UG0516 P.K.A. KAVINDA\",\"21UG0517 A.M.R.B. RATHNAYAKE\",\"21UG0518 G.R.T.B. RANASINGHE\",\"21UG0519 D.D.R.N. AMARASIRI\",\"21UG0520 S.M.K.D.B. SAMARAKOON\",\"21UG0521 B.G.C. PRABODHA\",\"21UG0522 M.K.S.D. JAYASINGHE\",\"21UG0523 E. PAHEERTHTHAN\",\"21UG0524 R.D.H. RUPASINGHE\",\"21UG0525 T.P.M. WICKRAMASINGHE\",\"21UG0526 U.R.N.T. WIMALASURENDRA\",\"21UG0527 R.A.H.D. PERERA\",\"21UG0528 P. PURUSOTHMAN\",\"21UG0529 B.H.C.R. VISHVAJITH\",\"21UG0530 W.M.N.B. WANNINAYAKA\",\"21UG0531 P.M.D. HASHAN\",\"21UG0834 M.G.C.S.C. BANDARA\",\"21UG0835 H.G.C.L. HARISCHANDRA\",\"21UG0868 R.D.R.S. RAJAPAKSHA\",\"21UG0869 M.G.U. SEWWANDI\",\"AA1341 AHMED NAFRY SHIHAM\"],\"y\":[0,0,0,0,0,0,0,0,0,0,0,0,0,0,0,0,0,0,0,0,0,0,0,0,0,0,0,0,0,0,0,0,0,0,0,0,0,0,0,0,0,0,0,0,0,0,0,0,0,0,0,0,0,0,0,0,0,0,0,0,0,0,0,0,0,0,0,0,0,0,0,0],\"type\":\"bar\"},{\"name\":\"User graded\",\"x\":[\"21UG0004 JANANI NUPEARACHCHI\",\"21UG0012 NIMESH DILSHAN\",\"21UG0019 TISHAN KALUWALGODA\",\"21UG0020 SIDATH DIYANATHA\",\"21UG0022 VIBHUTHI EKANAYAKA\",\"21UG0043 UWAN AMARATHUNGA\",\"21UG0045 THARUSHI LIYANAGE\",\"21UG0060 RUSITH MARCUS\",\"21UG0109 HOSHITHA SAMARAWEERA\",\"21UG0129 MANEESHA ABEYSOORIYA\",\"21UG0130 PARAMI DISSANAYAKA\",\"21UG0139 SENIL DAKSINDU HALPAGODA\",\"21UG0157 N. D. KAVINDU AVISHKA NIWUNHELLA\",\"21UG0181 HASHAN PATHMAKUMARA\",\"21UG0201 A. HAMEED MOHAMED HUMAID\",\"21UG0232 A. RAHMAN MUKBIL SINAN\",\"21UG0272 R. PIRIVIVAN RAJARADNAM PIRIVIVAN\",\"21UG0297 SONAL DISSANAYAKE\",\"21UG0480 S.D.C. PERERA\",\"21UG0481 S.M.S.M. BANDARA\",\"21UG0482 N.K.L.M. SILVA\",\"21UG0483 H.L.A.S. UMAYANGA\",\"21UG0484 U. BAVANITHAN\",\"21UG0485 U.L.S. UDAWATHTHAGE\",\"21UG0486 W.A.S.D. WANNIARACHCHI\",\"21UG0487 W.A.H.D. WANIGARATHNA\",\"21UG0488 W.M.A.S. MADUSANKA\",\"21UG0489 L.D.O. SATHRUWAN\",\"21UG0490 D.D.P. SALINDA\",\"21UG0491 M.S.T. JAYATHILAKA\",\"21UG0492 Y.P. THISHOK\",\"21UG0493 D.M.H.J. WEERAKOON\",\"21UG0494 K.M. SRIPATHIATHIKARAM\",\"21UG0495 W. LARUSAN\",\"21UG0496 M.N.K.M. BANDARA\",\"21UG0497 R.M.K.G. RAJAPAKSHA\",\"21UG0498 E.M.A.D. KARUNARATHNA\",\"21UG0499 Y.O. WICKRAMASINGHE\",\"21UG0500 R.N. SILVA\",\"21UG0501 W.M.H.T. DESHAPPRIYA\",\"21UG0502 D.R.V.S. PATHIRANA\",\"21UG0503 V.P.M.L. WIJESENA\",\"21UG0505 W.A.D.S. KOSHILA\",\"21UG0508 R.A.A.C. NAYANAJITH\",\"21UG0509 G.S. THARAKA\",\"21UG0510 T.M.L.M. THENNAKOON\",\"21UG0511 M.M. ABDULLA\",\"21UG0512 P.A.M.A. GUNAWARDHANA\",\"21UG0513 H.A.M.K.M. ATHTHANAYAKA\",\"21UG0514 M. DILSHAN\",\"21UG0515 A.C. WICKRAMASINGHA\",\"21UG0516 P.K.A. KAVINDA\",\"21UG0517 A.M.R.B. RATHNAYAKE\",\"21UG0518 G.R.T.B. RANASINGHE\",\"21UG0519 D.D.R.N. AMARASIRI\",\"21UG0520 S.M.K.D.B. SAMARAKOON\",\"21UG0521 B.G.C. PRABODHA\",\"21UG0522 M.K.S.D. JAYASINGHE\",\"21UG0523 E. PAHEERTHTHAN\",\"21UG0524 R.D.H. RUPASINGHE\",\"21UG0525 T.P.M. WICKRAMASINGHE\",\"21UG0526 U.R.N.T. WIMALASURENDRA\",\"21UG0527 R.A.H.D. PERERA\",\"21UG0528 P. PURUSOTHMAN\",\"21UG0529 B.H.C.R. VISHVAJITH\",\"21UG0530 W.M.N.B. WANNINAYAKA\",\"21UG0531 P.M.D. HASHAN\",\"21UG0834 M.G.C.S.C. BANDARA\",\"21UG0835 H.G.C.L. HARISCHANDRA\",\"21UG0868 R.D.R.S. RAJAPAKSHA\",\"21UG0869 M.G.U. SEWWANDI\",\"AA1341 AHMED NAFRY SHIHAM\"],\"y\":[0,0,0,0,0,0,0,0,0,0,0,0,0,0,0,0,0,0,0,0,0,0,0,0,0,0,0,0,0,0,0,0,0,0,0,0,0,0,0,0,0,0,0,0,0,0,0,0,0,0,0,0,0,0,0,0,0,0,0,0,0,0,0,0,0,0,0,0,0,0,0,0],\"type\":\"bar\"},{\"name\":\"Wiki page created\",\"x\":[\"21UG0004 JANANI NUPEARACHCHI\",\"21UG0012 NIMESH DILSHAN\",\"21UG0019 TISHAN KALUWALGODA\",\"21UG0020 SIDATH DIYANATHA\",\"21UG0022 VIBHUTHI EKANAYAKA\",\"21UG0043 UWAN AMARATHUNGA\",\"21UG0045 THARUSHI LIYANAGE\",\"21UG0060 RUSITH MARCUS\",\"21UG0109 HOSHITHA SAMARAWEERA\",\"21UG0129 MANEESHA ABEYSOORIYA\",\"21UG0130 PARAMI DISSANAYAKA\",\"21UG0139 SENIL DAKSINDU HALPAGODA\",\"21UG0157 N. D. KAVINDU AVISHKA NIWUNHELLA\",\"21UG0181 HASHAN PATHMAKUMARA\",\"21UG0201 A. HAMEED MOHAMED HUMAID\",\"21UG0232 A. RAHMAN MUKBIL SINAN\",\"21UG0272 R. PIRIVIVAN RAJARADNAM PIRIVIVAN\",\"21UG0297 SONAL DISSANAYAKE\",\"21UG0480 S.D.C. PERERA\",\"21UG0481 S.M.S.M. BANDARA\",\"21UG0482 N.K.L.M. SILVA\",\"21UG0483 H.L.A.S. UMAYANGA\",\"21UG0484 U. BAVANITHAN\",\"21UG0485 U.L.S. UDAWATHTHAGE\",\"21UG0486 W.A.S.D. WANNIARACHCHI\",\"21UG0487 W.A.H.D. WANIGARATHNA\",\"21UG0488 W.M.A.S. MADUSANKA\",\"21UG0489 L.D.O. SATHRUWAN\",\"21UG0490 D.D.P. SALINDA\",\"21UG0491 M.S.T. JAYATHILAKA\",\"21UG0492 Y.P. THISHOK\",\"21UG0493 D.M.H.J. WEERAKOON\",\"21UG0494 K.M. SRIPATHIATHIKARAM\",\"21UG0495 W. LARUSAN\",\"21UG0496 M.N.K.M. BANDARA\",\"21UG0497 R.M.K.G. RAJAPAKSHA\",\"21UG0498 E.M.A.D. KARUNARATHNA\",\"21UG0499 Y.O. WICKRAMASINGHE\",\"21UG0500 R.N. SILVA\",\"21UG0501 W.M.H.T. DESHAPPRIYA\",\"21UG0502 D.R.V.S. PATHIRANA\",\"21UG0503 V.P.M.L. WIJESENA\",\"21UG0505 W.A.D.S. KOSHILA\",\"21UG0508 R.A.A.C. NAYANAJITH\",\"21UG0509 G.S. THARAKA\",\"21UG0510 T.M.L.M. THENNAKOON\",\"21UG0511 M.M. ABDULLA\",\"21UG0512 P.A.M.A. GUNAWARDHANA\",\"21UG0513 H.A.M.K.M. ATHTHANAYAKA\",\"21UG0514 M. DILSHAN\",\"21UG0515 A.C. WICKRAMASINGHA\",\"21UG0516 P.K.A. KAVINDA\",\"21UG0517 A.M.R.B. RATHNAYAKE\",\"21UG0518 G.R.T.B. RANASINGHE\",\"21UG0519 D.D.R.N. AMARASIRI\",\"21UG0520 S.M.K.D.B. SAMARAKOON\",\"21UG0521 B.G.C. PRABODHA\",\"21UG0522 M.K.S.D. JAYASINGHE\",\"21UG0523 E. PAHEERTHTHAN\",\"21UG0524 R.D.H. RUPASINGHE\",\"21UG0525 T.P.M. WICKRAMASINGHE\",\"21UG0526 U.R.N.T. WIMALASURENDRA\",\"21UG0527 R.A.H.D. PERERA\",\"21UG0528 P. PURUSOTHMAN\",\"21UG0529 B.H.C.R. VISHVAJITH\",\"21UG0530 W.M.N.B. WANNINAYAKA\",\"21UG0531 P.M.D. HASHAN\",\"21UG0834 M.G.C.S.C. BANDARA\",\"21UG0835 H.G.C.L. HARISCHANDRA\",\"21UG0868 R.D.R.S. RAJAPAKSHA\",\"21UG0869 M.G.U. SEWWANDI\",\"AA1341 AHMED NAFRY SHIHAM\"],\"y\":[0,0,0,0,0,0,0,0,0,0,0,0,0,0,0,0,0,0,0,0,0,0,0,0,0,0,0,0,0,0,0,0,0,0,0,0,0,0,0,0,0,0,0,0,0,0,0,0,0,0,0,0,0,0,0,0,0,0,0,0,0,0,0,0,0,0,0,0,0,0,0,0],\"type\":\"bar\"},{\"name\":\"Wiki page viewed\",\"x\":[\"21UG0004 JANANI NUPEARACHCHI\",\"21UG0012 NIMESH DILSHAN\",\"21UG0019 TISHAN KALUWALGODA\",\"21UG0020 SIDATH DIYANATHA\",\"21UG0022 VIBHUTHI EKANAYAKA\",\"21UG0043 UWAN AMARATHUNGA\",\"21UG0045 THARUSHI LIYANAGE\",\"21UG0060 RUSITH MARCUS\",\"21UG0109 HOSHITHA SAMARAWEERA\",\"21UG0129 MANEESHA ABEYSOORIYA\",\"21UG0130 PARAMI DISSANAYAKA\",\"21UG0139 SENIL DAKSINDU HALPAGODA\",\"21UG0157 N. D. KAVINDU AVISHKA NIWUNHELLA\",\"21UG0181 HASHAN PATHMAKUMARA\",\"21UG0201 A. HAMEED MOHAMED HUMAID\",\"21UG0232 A. RAHMAN MUKBIL SINAN\",\"21UG0272 R. PIRIVIVAN RAJARADNAM PIRIVIVAN\",\"21UG0297 SONAL DISSANAYAKE\",\"21UG0480 S.D.C. PERERA\",\"21UG0481 S.M.S.M. BANDARA\",\"21UG0482 N.K.L.M. SILVA\",\"21UG0483 H.L.A.S. UMAYANGA\",\"21UG0484 U. BAVANITHAN\",\"21UG0485 U.L.S. UDAWATHTHAGE\",\"21UG0486 W.A.S.D. WANNIARACHCHI\",\"21UG0487 W.A.H.D. WANIGARATHNA\",\"21UG0488 W.M.A.S. MADUSANKA\",\"21UG0489 L.D.O. SATHRUWAN\",\"21UG0490 D.D.P. SALINDA\",\"21UG0491 M.S.T. JAYATHILAKA\",\"21UG0492 Y.P. THISHOK\",\"21UG0493 D.M.H.J. WEERAKOON\",\"21UG0494 K.M. SRIPATHIATHIKARAM\",\"21UG0495 W. LARUSAN\",\"21UG0496 M.N.K.M. BANDARA\",\"21UG0497 R.M.K.G. RAJAPAKSHA\",\"21UG0498 E.M.A.D. KARUNARATHNA\",\"21UG0499 Y.O. WICKRAMASINGHE\",\"21UG0500 R.N. SILVA\",\"21UG0501 W.M.H.T. DESHAPPRIYA\",\"21UG0502 D.R.V.S. PATHIRANA\",\"21UG0503 V.P.M.L. WIJESENA\",\"21UG0505 W.A.D.S. KOSHILA\",\"21UG0508 R.A.A.C. NAYANAJITH\",\"21UG0509 G.S. THARAKA\",\"21UG0510 T.M.L.M. THENNAKOON\",\"21UG0511 M.M. ABDULLA\",\"21UG0512 P.A.M.A. GUNAWARDHANA\",\"21UG0513 H.A.M.K.M. ATHTHANAYAKA\",\"21UG0514 M. DILSHAN\",\"21UG0515 A.C. WICKRAMASINGHA\",\"21UG0516 P.K.A. KAVINDA\",\"21UG0517 A.M.R.B. RATHNAYAKE\",\"21UG0518 G.R.T.B. RANASINGHE\",\"21UG0519 D.D.R.N. AMARASIRI\",\"21UG0520 S.M.K.D.B. SAMARAKOON\",\"21UG0521 B.G.C. PRABODHA\",\"21UG0522 M.K.S.D. JAYASINGHE\",\"21UG0523 E. PAHEERTHTHAN\",\"21UG0524 R.D.H. RUPASINGHE\",\"21UG0525 T.P.M. WICKRAMASINGHE\",\"21UG0526 U.R.N.T. WIMALASURENDRA\",\"21UG0527 R.A.H.D. PERERA\",\"21UG0528 P. PURUSOTHMAN\",\"21UG0529 B.H.C.R. VISHVAJITH\",\"21UG0530 W.M.N.B. WANNINAYAKA\",\"21UG0531 P.M.D. HASHAN\",\"21UG0834 M.G.C.S.C. BANDARA\",\"21UG0835 H.G.C.L. HARISCHANDRA\",\"21UG0868 R.D.R.S. RAJAPAKSHA\",\"21UG0869 M.G.U. SEWWANDI\",\"AA1341 AHMED NAFRY SHIHAM\"],\"y\":[0,0,0,0,0,0,0,0,0,0,0,0,0,0,0,0,0,0,0,0,0,0,0,0,0,0,0,0,0,0,0,0,0,0,0,0,0,0,0,0,0,0,0,0,0,0,0,0,0,0,0,0,0,0,0,0,0,0,0,1,0,0,0,0,0,0,0,0,0,0,0,0],\"type\":\"bar\"}],                        {\"template\":{\"data\":{\"bar\":[{\"error_x\":{\"color\":\"#2a3f5f\"},\"error_y\":{\"color\":\"#2a3f5f\"},\"marker\":{\"line\":{\"color\":\"#E5ECF6\",\"width\":0.5},\"pattern\":{\"fillmode\":\"overlay\",\"size\":10,\"solidity\":0.2}},\"type\":\"bar\"}],\"barpolar\":[{\"marker\":{\"line\":{\"color\":\"#E5ECF6\",\"width\":0.5},\"pattern\":{\"fillmode\":\"overlay\",\"size\":10,\"solidity\":0.2}},\"type\":\"barpolar\"}],\"carpet\":[{\"aaxis\":{\"endlinecolor\":\"#2a3f5f\",\"gridcolor\":\"white\",\"linecolor\":\"white\",\"minorgridcolor\":\"white\",\"startlinecolor\":\"#2a3f5f\"},\"baxis\":{\"endlinecolor\":\"#2a3f5f\",\"gridcolor\":\"white\",\"linecolor\":\"white\",\"minorgridcolor\":\"white\",\"startlinecolor\":\"#2a3f5f\"},\"type\":\"carpet\"}],\"choropleth\":[{\"colorbar\":{\"outlinewidth\":0,\"ticks\":\"\"},\"type\":\"choropleth\"}],\"contour\":[{\"colorbar\":{\"outlinewidth\":0,\"ticks\":\"\"},\"colorscale\":[[0.0,\"#0d0887\"],[0.1111111111111111,\"#46039f\"],[0.2222222222222222,\"#7201a8\"],[0.3333333333333333,\"#9c179e\"],[0.4444444444444444,\"#bd3786\"],[0.5555555555555556,\"#d8576b\"],[0.6666666666666666,\"#ed7953\"],[0.7777777777777778,\"#fb9f3a\"],[0.8888888888888888,\"#fdca26\"],[1.0,\"#f0f921\"]],\"type\":\"contour\"}],\"contourcarpet\":[{\"colorbar\":{\"outlinewidth\":0,\"ticks\":\"\"},\"type\":\"contourcarpet\"}],\"heatmap\":[{\"colorbar\":{\"outlinewidth\":0,\"ticks\":\"\"},\"colorscale\":[[0.0,\"#0d0887\"],[0.1111111111111111,\"#46039f\"],[0.2222222222222222,\"#7201a8\"],[0.3333333333333333,\"#9c179e\"],[0.4444444444444444,\"#bd3786\"],[0.5555555555555556,\"#d8576b\"],[0.6666666666666666,\"#ed7953\"],[0.7777777777777778,\"#fb9f3a\"],[0.8888888888888888,\"#fdca26\"],[1.0,\"#f0f921\"]],\"type\":\"heatmap\"}],\"heatmapgl\":[{\"colorbar\":{\"outlinewidth\":0,\"ticks\":\"\"},\"colorscale\":[[0.0,\"#0d0887\"],[0.1111111111111111,\"#46039f\"],[0.2222222222222222,\"#7201a8\"],[0.3333333333333333,\"#9c179e\"],[0.4444444444444444,\"#bd3786\"],[0.5555555555555556,\"#d8576b\"],[0.6666666666666666,\"#ed7953\"],[0.7777777777777778,\"#fb9f3a\"],[0.8888888888888888,\"#fdca26\"],[1.0,\"#f0f921\"]],\"type\":\"heatmapgl\"}],\"histogram\":[{\"marker\":{\"pattern\":{\"fillmode\":\"overlay\",\"size\":10,\"solidity\":0.2}},\"type\":\"histogram\"}],\"histogram2d\":[{\"colorbar\":{\"outlinewidth\":0,\"ticks\":\"\"},\"colorscale\":[[0.0,\"#0d0887\"],[0.1111111111111111,\"#46039f\"],[0.2222222222222222,\"#7201a8\"],[0.3333333333333333,\"#9c179e\"],[0.4444444444444444,\"#bd3786\"],[0.5555555555555556,\"#d8576b\"],[0.6666666666666666,\"#ed7953\"],[0.7777777777777778,\"#fb9f3a\"],[0.8888888888888888,\"#fdca26\"],[1.0,\"#f0f921\"]],\"type\":\"histogram2d\"}],\"histogram2dcontour\":[{\"colorbar\":{\"outlinewidth\":0,\"ticks\":\"\"},\"colorscale\":[[0.0,\"#0d0887\"],[0.1111111111111111,\"#46039f\"],[0.2222222222222222,\"#7201a8\"],[0.3333333333333333,\"#9c179e\"],[0.4444444444444444,\"#bd3786\"],[0.5555555555555556,\"#d8576b\"],[0.6666666666666666,\"#ed7953\"],[0.7777777777777778,\"#fb9f3a\"],[0.8888888888888888,\"#fdca26\"],[1.0,\"#f0f921\"]],\"type\":\"histogram2dcontour\"}],\"mesh3d\":[{\"colorbar\":{\"outlinewidth\":0,\"ticks\":\"\"},\"type\":\"mesh3d\"}],\"parcoords\":[{\"line\":{\"colorbar\":{\"outlinewidth\":0,\"ticks\":\"\"}},\"type\":\"parcoords\"}],\"pie\":[{\"automargin\":true,\"type\":\"pie\"}],\"scatter\":[{\"marker\":{\"colorbar\":{\"outlinewidth\":0,\"ticks\":\"\"}},\"type\":\"scatter\"}],\"scatter3d\":[{\"line\":{\"colorbar\":{\"outlinewidth\":0,\"ticks\":\"\"}},\"marker\":{\"colorbar\":{\"outlinewidth\":0,\"ticks\":\"\"}},\"type\":\"scatter3d\"}],\"scattercarpet\":[{\"marker\":{\"colorbar\":{\"outlinewidth\":0,\"ticks\":\"\"}},\"type\":\"scattercarpet\"}],\"scattergeo\":[{\"marker\":{\"colorbar\":{\"outlinewidth\":0,\"ticks\":\"\"}},\"type\":\"scattergeo\"}],\"scattergl\":[{\"marker\":{\"colorbar\":{\"outlinewidth\":0,\"ticks\":\"\"}},\"type\":\"scattergl\"}],\"scattermapbox\":[{\"marker\":{\"colorbar\":{\"outlinewidth\":0,\"ticks\":\"\"}},\"type\":\"scattermapbox\"}],\"scatterpolar\":[{\"marker\":{\"colorbar\":{\"outlinewidth\":0,\"ticks\":\"\"}},\"type\":\"scatterpolar\"}],\"scatterpolargl\":[{\"marker\":{\"colorbar\":{\"outlinewidth\":0,\"ticks\":\"\"}},\"type\":\"scatterpolargl\"}],\"scatterternary\":[{\"marker\":{\"colorbar\":{\"outlinewidth\":0,\"ticks\":\"\"}},\"type\":\"scatterternary\"}],\"surface\":[{\"colorbar\":{\"outlinewidth\":0,\"ticks\":\"\"},\"colorscale\":[[0.0,\"#0d0887\"],[0.1111111111111111,\"#46039f\"],[0.2222222222222222,\"#7201a8\"],[0.3333333333333333,\"#9c179e\"],[0.4444444444444444,\"#bd3786\"],[0.5555555555555556,\"#d8576b\"],[0.6666666666666666,\"#ed7953\"],[0.7777777777777778,\"#fb9f3a\"],[0.8888888888888888,\"#fdca26\"],[1.0,\"#f0f921\"]],\"type\":\"surface\"}],\"table\":[{\"cells\":{\"fill\":{\"color\":\"#EBF0F8\"},\"line\":{\"color\":\"white\"}},\"header\":{\"fill\":{\"color\":\"#C8D4E3\"},\"line\":{\"color\":\"white\"}},\"type\":\"table\"}]},\"layout\":{\"annotationdefaults\":{\"arrowcolor\":\"#2a3f5f\",\"arrowhead\":0,\"arrowwidth\":1},\"autotypenumbers\":\"strict\",\"coloraxis\":{\"colorbar\":{\"outlinewidth\":0,\"ticks\":\"\"}},\"colorscale\":{\"diverging\":[[0,\"#8e0152\"],[0.1,\"#c51b7d\"],[0.2,\"#de77ae\"],[0.3,\"#f1b6da\"],[0.4,\"#fde0ef\"],[0.5,\"#f7f7f7\"],[0.6,\"#e6f5d0\"],[0.7,\"#b8e186\"],[0.8,\"#7fbc41\"],[0.9,\"#4d9221\"],[1,\"#276419\"]],\"sequential\":[[0.0,\"#0d0887\"],[0.1111111111111111,\"#46039f\"],[0.2222222222222222,\"#7201a8\"],[0.3333333333333333,\"#9c179e\"],[0.4444444444444444,\"#bd3786\"],[0.5555555555555556,\"#d8576b\"],[0.6666666666666666,\"#ed7953\"],[0.7777777777777778,\"#fb9f3a\"],[0.8888888888888888,\"#fdca26\"],[1.0,\"#f0f921\"]],\"sequentialminus\":[[0.0,\"#0d0887\"],[0.1111111111111111,\"#46039f\"],[0.2222222222222222,\"#7201a8\"],[0.3333333333333333,\"#9c179e\"],[0.4444444444444444,\"#bd3786\"],[0.5555555555555556,\"#d8576b\"],[0.6666666666666666,\"#ed7953\"],[0.7777777777777778,\"#fb9f3a\"],[0.8888888888888888,\"#fdca26\"],[1.0,\"#f0f921\"]]},\"colorway\":[\"#636efa\",\"#EF553B\",\"#00cc96\",\"#ab63fa\",\"#FFA15A\",\"#19d3f3\",\"#FF6692\",\"#B6E880\",\"#FF97FF\",\"#FECB52\"],\"font\":{\"color\":\"#2a3f5f\"},\"geo\":{\"bgcolor\":\"white\",\"lakecolor\":\"white\",\"landcolor\":\"#E5ECF6\",\"showlakes\":true,\"showland\":true,\"subunitcolor\":\"white\"},\"hoverlabel\":{\"align\":\"left\"},\"hovermode\":\"closest\",\"mapbox\":{\"style\":\"light\"},\"paper_bgcolor\":\"white\",\"plot_bgcolor\":\"#E5ECF6\",\"polar\":{\"angularaxis\":{\"gridcolor\":\"white\",\"linecolor\":\"white\",\"ticks\":\"\"},\"bgcolor\":\"#E5ECF6\",\"radialaxis\":{\"gridcolor\":\"white\",\"linecolor\":\"white\",\"ticks\":\"\"}},\"scene\":{\"xaxis\":{\"backgroundcolor\":\"#E5ECF6\",\"gridcolor\":\"white\",\"gridwidth\":2,\"linecolor\":\"white\",\"showbackground\":true,\"ticks\":\"\",\"zerolinecolor\":\"white\"},\"yaxis\":{\"backgroundcolor\":\"#E5ECF6\",\"gridcolor\":\"white\",\"gridwidth\":2,\"linecolor\":\"white\",\"showbackground\":true,\"ticks\":\"\",\"zerolinecolor\":\"white\"},\"zaxis\":{\"backgroundcolor\":\"#E5ECF6\",\"gridcolor\":\"white\",\"gridwidth\":2,\"linecolor\":\"white\",\"showbackground\":true,\"ticks\":\"\",\"zerolinecolor\":\"white\"}},\"shapedefaults\":{\"line\":{\"color\":\"#2a3f5f\"}},\"ternary\":{\"aaxis\":{\"gridcolor\":\"white\",\"linecolor\":\"white\",\"ticks\":\"\"},\"baxis\":{\"gridcolor\":\"white\",\"linecolor\":\"white\",\"ticks\":\"\"},\"bgcolor\":\"#E5ECF6\",\"caxis\":{\"gridcolor\":\"white\",\"linecolor\":\"white\",\"ticks\":\"\"}},\"title\":{\"x\":0.05},\"xaxis\":{\"automargin\":true,\"gridcolor\":\"white\",\"linecolor\":\"white\",\"ticks\":\"\",\"title\":{\"standoff\":15},\"zerolinecolor\":\"white\",\"zerolinewidth\":2},\"yaxis\":{\"automargin\":true,\"gridcolor\":\"white\",\"linecolor\":\"white\",\"ticks\":\"\",\"title\":{\"standoff\":15},\"zerolinecolor\":\"white\",\"zerolinewidth\":2}}},\"title\":{\"text\":\"Number of: TE-2025A-B8 student LMS activity - as of 14-02-2022:2400\"},\"xaxis\":{\"title\":{\"text\":\"\"}},\"yaxis\":{\"title\":{\"text\":\"Numbers\"}},\"barmode\":\"stack\"},                        {\"responsive\": true}                    ).then(function(){\n",
              "                            \n",
              "var gd = document.getElementById('eb2de914-3959-493f-8360-ccab5f557be1');\n",
              "var x = new MutationObserver(function (mutations, observer) {{\n",
              "        var display = window.getComputedStyle(gd).display;\n",
              "        if (!display || display === 'none') {{\n",
              "            console.log([gd, 'removed!']);\n",
              "            Plotly.purge(gd);\n",
              "            observer.disconnect();\n",
              "        }}\n",
              "}});\n",
              "\n",
              "// Listen for the removal of the full notebook cells\n",
              "var notebookContainer = gd.closest('#notebook-container');\n",
              "if (notebookContainer) {{\n",
              "    x.observe(notebookContainer, {childList: true});\n",
              "}}\n",
              "\n",
              "// Listen for the clearing of the current output cell\n",
              "var outputEl = gd.closest('.output');\n",
              "if (outputEl) {{\n",
              "    x.observe(outputEl, {childList: true});\n",
              "}}\n",
              "\n",
              "                        })                };                            </script>        </div>\n",
              "</body>\n",
              "</html>"
            ]
          },
          "metadata": {}
        }
      ]
    },
    {
      "cell_type": "code",
      "source": [
        "#userActivityFig.write_html('/content/drive/My Drive/SLTC/LMS Usage/User Stats/'+lastDateStampStr+'/Number of-'+usrGp+'-'+usrType+'-wise-LMS-activities-'+lastDateStampStr+'.html')"
      ],
      "metadata": {
        "id": "PZ9NEq9pPmL7"
      },
      "execution_count": null,
      "outputs": []
    },
    {
      "cell_type": "code",
      "source": [
        "tempxPDF=fldFilteredPDF.copy(deep=True)\n",
        "columnsList=['User active','Group']+componentList\n",
        "aaPDF=pd.DataFrame(np.zeros([len(users),len(columnsList)]),index=users, columns=columnsList)\n",
        "tmpGpList=[]\n",
        "usrModuleViewTotal=[]\n",
        "aaay=[]\n",
        "for usr in users:\n",
        "  if usr in list(set(tempxPDF['User full name'].to_list())):\n",
        "    aaPDF.loc[usr,'User active']=1\n",
        "    usrwisePDF=tempxPDF[tempxPDF['User full name']==usr]\n",
        "    cn=usrwisePDF['Time'].to_list()\n",
        "    cp=[cn[0]]+cn[:-1]\n",
        "    trr=pd.to_datetime(cp, dayfirst=True).to_pydatetime()-pd.to_datetime(cn, dayfirst=True).to_pydatetime()\n",
        "    tru=trr.tolist()\n",
        "    usrwisePDF['usrdt']=[float(\"{:.2f}\".format(((dt.seconds/60.))/60.)) for dt in tru]\n",
        "    lbls=usrwisePDF['Component'].to_list()\n",
        "    for lbl in componentList:\n",
        "      aaPDF.loc[usr,lbl]=sum(usrwisePDF[usrwisePDF['Component']==lbl]['usrdt'])\n",
        "\n",
        "  else:\n",
        "    for lbls in columnsList:\n",
        "      aaPDF.loc[usr,lbls]=0.\n",
        "  \n",
        "  tmpg0=usersPDF[usersPDF['User full name']==usr]['profile_field_google_group'].to_list()[0]\n",
        "  aaPDF.loc[usr,'Group']=tmpg0\n",
        "  \n",
        "aaPDF['Total time / Hrs']=aaPDF.loc[:,componentList].sum(axis=1).to_list()\n",
        "LMSuserStatsPDF=pd.concat([aaPDF,userActivityPDF],axis=1)\n"
      ],
      "metadata": {
        "colab": {
          "base_uri": "https://localhost:8080/"
        },
        "id": "XveNQY_w9_LF",
        "outputId": "881eefeb-0e15-4ddb-efa6-51fd61cdd8bb"
      },
      "execution_count": null,
      "outputs": [
        {
          "output_type": "stream",
          "name": "stderr",
          "text": [
            "/usr/local/lib/python3.7/dist-packages/ipykernel_launcher.py:15: SettingWithCopyWarning:\n",
            "\n",
            "\n",
            "A value is trying to be set on a copy of a slice from a DataFrame.\n",
            "Try using .loc[row_indexer,col_indexer] = value instead\n",
            "\n",
            "See the caveats in the documentation: https://pandas.pydata.org/pandas-docs/stable/user_guide/indexing.html#returning-a-view-versus-a-copy\n",
            "\n"
          ]
        }
      ]
    },
    {
      "cell_type": "code",
      "source": [
        "#Download\n",
        "#LMSuserStatsPDF.to_csv('/content/drive/My Drive/SLTC/LMS Usage/User Stats/'+lastDateStampStr+'/Number of LMS activity and time spent: '+usrGp+'-'+usrType+'-'+lastDateStampStr+'.csv')"
      ],
      "metadata": {
        "id": "NCysgvrDguEe"
      },
      "execution_count": null,
      "outputs": []
    },
    {
      "cell_type": "code",
      "source": [
        "LMSuserStatsPDF"
      ],
      "metadata": {
        "id": "K_3UoQ0UtL8I"
      },
      "execution_count": null,
      "outputs": []
    },
    {
      "cell_type": "markdown",
      "metadata": {
        "id": "GeFVPc0Tg4hC"
      },
      "source": [
        "## Given the student group Course wise LMS interaction"
      ]
    },
    {
      "cell_type": "code",
      "execution_count": null,
      "metadata": {
        "id": "-HzaQVfYYoCQ"
      },
      "outputs": [],
      "source": [
        "idxs=[]\n",
        "for nn in fldFilteredPDF.index.values:\n",
        "  if (fldFilteredPDF['Event context'].loc[nn].split(':')[0]=='Course'):\n",
        "    idxs+=[nn]\n",
        "courseFldFilteredPDF=fldFilteredPDF.loc[idxs]\n",
        "csrs=list(set(courseFldFilteredPDF['Event context'].loc[idxs].to_list()))\n",
        "csrs.sort()"
      ]
    },
    {
      "cell_type": "code",
      "source": [
        "fig1, trrz=grouped_itemized_graphs(courseFldFilteredPDF, 'Event name', fieldsList, 'Event context', csrs, 'Numbers', figTitle='Number of course wise: '+usrGp+' '+usrType+' LMS activity - as of '+lastDateStampStr+':2400')"
      ],
      "metadata": {
        "id": "vYOmI-y_PLU2"
      },
      "execution_count": null,
      "outputs": []
    },
    {
      "cell_type": "code",
      "source": [
        "#fig1.write_html('/content/drive/My Drive/SLTC/LMS Usage/User Stats/'+lastDateStampStr+'/Number of course wise-'+usrGp+'-'+usrType+'-LMS-activities-'+lastDateStampStr+'.html')"
      ],
      "metadata": {
        "id": "jgT5hDJCQKOZ"
      },
      "execution_count": null,
      "outputs": []
    },
    {
      "cell_type": "code",
      "source": [
        "#trrz.to_csv('/content/drive/My Drive/SLTC/LMS Usage/User Stats/'+lastDateStampStr+'/Number of course wise-'+usrGp+'-'+usrType+'-LMS-activities-'+lastDateStampStr+'.csv')"
      ],
      "metadata": {
        "id": "9Uuai2T0SgJ8"
      },
      "execution_count": null,
      "outputs": []
    },
    {
      "cell_type": "markdown",
      "source": [
        "# Given a course find stats"
      ],
      "metadata": {
        "id": "F0P7PVU_wd49"
      }
    },
    {
      "cell_type": "code",
      "source": [
        "dfs=[nn for nn in dataPDF.index.values if (dataPDF['User full name'].loc[nn] in listStudents)]\n",
        "studentFilteredPDF=dataPDF.loc[dfs]"
      ],
      "metadata": {
        "id": "Pv8Gmq13yygr"
      },
      "execution_count": null,
      "outputs": []
    },
    {
      "cell_type": "code",
      "source": [
        "idxs=[]\n",
        "for nn in studentFilteredPDF.index.values:\n",
        "  if (studentFilteredPDF['Event context'].loc[nn].split(':')[0]=='Course'):\n",
        "    idxs+=[nn]\n",
        "allCourseFldFilteredPDF=studentFilteredPDF.loc[idxs]\n",
        "allCsrs=list(set(studentFilteredPDF['Event context'].loc[idxs].to_list()))\n",
        "allCsrs.sort()"
      ],
      "metadata": {
        "id": "DSL-IYKtwdR4"
      },
      "execution_count": null,
      "outputs": []
    },
    {
      "cell_type": "code",
      "source": [
        "# Pick course from drop down list allCsrs\n",
        "crs='Course: Industry Exposure - Class of 2023' #'Course: [2025A:S3]-SMA2204-Advanced Calculus-Multivariable integration (2C)'\n",
        "crsFilteredPDF=allCourseFldFilteredPDF[allCourseFldFilteredPDF['Event context']==crs]\n",
        "crsUsers=list(set(crsFilteredPDF['User full name'].to_list()))\n",
        "crsUsers.sort()"
      ],
      "metadata": {
        "id": "jWxutOofzneG"
      },
      "execution_count": null,
      "outputs": []
    },
    {
      "cell_type": "code",
      "source": [
        "len(trrw)"
      ],
      "metadata": {
        "colab": {
          "base_uri": "https://localhost:8080/"
        },
        "id": "LbWvE_GGt0EK",
        "outputId": "5b3b57e8-c05b-4f29-a0c3-c33a2e9d4606"
      },
      "execution_count": null,
      "outputs": [
        {
          "output_type": "execute_result",
          "data": {
            "text/plain": [
              "39"
            ]
          },
          "metadata": {},
          "execution_count": 24
        }
      ]
    },
    {
      "cell_type": "code",
      "source": [
        "fig12, trrw=grouped_itemized_graphs(crsFilteredPDF, 'Event name', fieldsList, 'User full name', crsUsers, 'Numbers', figTitle='LMS activity -'+crs+'- as of '+lastDateStampStr+':2400')"
      ],
      "metadata": {
        "id": "3ohUZq1n0AFQ",
        "colab": {
          "base_uri": "https://localhost:8080/",
          "height": 542
        },
        "outputId": "12cf58c8-a588-4077-c2fe-f217092f0091"
      },
      "execution_count": null,
      "outputs": [
        {
          "output_type": "display_data",
          "data": {
            "text/html": [
              "<html>\n",
              "<head><meta charset=\"utf-8\" /></head>\n",
              "<body>\n",
              "    <div>            <script src=\"https://cdnjs.cloudflare.com/ajax/libs/mathjax/2.7.5/MathJax.js?config=TeX-AMS-MML_SVG\"></script><script type=\"text/javascript\">if (window.MathJax) {MathJax.Hub.Config({SVG: {font: \"STIX-Web\"}});}</script>                <script type=\"text/javascript\">window.PlotlyConfig = {MathJaxConfig: 'local'};</script>\n",
              "        <script src=\"https://cdn.plot.ly/plotly-2.8.3.min.js\"></script>                <div id=\"2bdad236-99c7-4d37-b25b-9b869d563d4e\" class=\"plotly-graph-div\" style=\"height:525px; width:100%;\"></div>            <script type=\"text/javascript\">                                    window.PLOTLYENV=window.PLOTLYENV || {};                                    if (document.getElementById(\"2bdad236-99c7-4d37-b25b-9b869d563d4e\")) {                    Plotly.newPlot(                        \"2bdad236-99c7-4d37-b25b-9b869d563d4e\",                        [{\"name\":\"A file has been uploaded.\",\"x\":[\"1004 W.M.W.T. BANDARANAYAKA\",\"1014 W W H K FERNANDO\",\"1027 R.T.AMARATHUNGA\",\"1031 A.H.R.SENEVIRATHNA\",\"1052 D.L.D.Y.WEERAKOON\",\"1055 K.L.H DILSHAN\",\"1056 G.P.HIRANYA\",\"1066 K.R.ROSHANTHINI\",\"1070 N.A.K. HIRUMI HANSINI CHANDRAWANSA\",\"1076 I.U.SENAVIRATHNE\",\"1082 N.M.B KANCHANAMALA\",\"1085 M.A.W.I.MADURAPPERUMA\",\"1088 R.D.T.DANANJANI\",\"1097 W.D.V.T LIYANAGE\",\"1104 S. D. E.KUMARI\",\"1109 P.M.S. GURUGE\",\"1116 B.N.B.JAYASINGHE\",\"1123 L.L.MINUSHI LAKMINDI\",\"1124 S.A.D.J.N.KAUSHALYA\",\"1136 R.A.S.A.RANATHUNGA\",\"1172 H.L.M. SOYSA\",\"1176 E.A.M. DILRUKSHI\",\"1179 P.M.RANMAL\",\"1184 K.A.S.P.KODITHUWAKKU\",\"1187 A.I.KASTHURI ARACHCHI\",\"1214 K.M.I.G.BANDARA\",\"850 H.A. NAVEEN METHMAL\",\"856 G.C.L. DE SILVA\",\"873 L.D.S.S LELWALA\",\"881 W.L.T.N. JANASINGHE\",\"882 U.S.PILLAI\",\"900 D M A O KARUNASENA\",\"927 W.M.A.A.BANDARA\",\"931 M.T.S. VIDURANGI\",\"944 H.K.U.I.JAYASEKARA\",\"960 W.M.S.D. JAYATHILAKA\",\"962 K.P.SHASHINIKA VIRAJANI JAYAWEERA\",\"970 A.P.P.D.RANAHANSI\",\"973 S.SHERONICKA\"],\"y\":[0,0,0,0,0,0,0,0,0,0,0,0,0,0,0,0,0,0,0,0,0,0,0,0,0,0,0,0,0,0,0,0,0,0,0,0,0,0,0],\"type\":\"bar\"},{\"name\":\"An online text has been uploaded.\",\"x\":[\"1004 W.M.W.T. BANDARANAYAKA\",\"1014 W W H K FERNANDO\",\"1027 R.T.AMARATHUNGA\",\"1031 A.H.R.SENEVIRATHNA\",\"1052 D.L.D.Y.WEERAKOON\",\"1055 K.L.H DILSHAN\",\"1056 G.P.HIRANYA\",\"1066 K.R.ROSHANTHINI\",\"1070 N.A.K. HIRUMI HANSINI CHANDRAWANSA\",\"1076 I.U.SENAVIRATHNE\",\"1082 N.M.B KANCHANAMALA\",\"1085 M.A.W.I.MADURAPPERUMA\",\"1088 R.D.T.DANANJANI\",\"1097 W.D.V.T LIYANAGE\",\"1104 S. D. E.KUMARI\",\"1109 P.M.S. GURUGE\",\"1116 B.N.B.JAYASINGHE\",\"1123 L.L.MINUSHI LAKMINDI\",\"1124 S.A.D.J.N.KAUSHALYA\",\"1136 R.A.S.A.RANATHUNGA\",\"1172 H.L.M. SOYSA\",\"1176 E.A.M. DILRUKSHI\",\"1179 P.M.RANMAL\",\"1184 K.A.S.P.KODITHUWAKKU\",\"1187 A.I.KASTHURI ARACHCHI\",\"1214 K.M.I.G.BANDARA\",\"850 H.A. NAVEEN METHMAL\",\"856 G.C.L. DE SILVA\",\"873 L.D.S.S LELWALA\",\"881 W.L.T.N. JANASINGHE\",\"882 U.S.PILLAI\",\"900 D M A O KARUNASENA\",\"927 W.M.A.A.BANDARA\",\"931 M.T.S. VIDURANGI\",\"944 H.K.U.I.JAYASEKARA\",\"960 W.M.S.D. JAYATHILAKA\",\"962 K.P.SHASHINIKA VIRAJANI JAYAWEERA\",\"970 A.P.P.D.RANAHANSI\",\"973 S.SHERONICKA\"],\"y\":[0,0,0,0,0,0,0,0,0,0,0,0,0,0,0,0,0,0,0,0,0,0,0,0,0,0,0,0,0,0,0,0,0,0,0,0,0,0,0],\"type\":\"bar\"},{\"name\":\"A submission has been submitted.\",\"x\":[\"1004 W.M.W.T. BANDARANAYAKA\",\"1014 W W H K FERNANDO\",\"1027 R.T.AMARATHUNGA\",\"1031 A.H.R.SENEVIRATHNA\",\"1052 D.L.D.Y.WEERAKOON\",\"1055 K.L.H DILSHAN\",\"1056 G.P.HIRANYA\",\"1066 K.R.ROSHANTHINI\",\"1070 N.A.K. HIRUMI HANSINI CHANDRAWANSA\",\"1076 I.U.SENAVIRATHNE\",\"1082 N.M.B KANCHANAMALA\",\"1085 M.A.W.I.MADURAPPERUMA\",\"1088 R.D.T.DANANJANI\",\"1097 W.D.V.T LIYANAGE\",\"1104 S. D. E.KUMARI\",\"1109 P.M.S. GURUGE\",\"1116 B.N.B.JAYASINGHE\",\"1123 L.L.MINUSHI LAKMINDI\",\"1124 S.A.D.J.N.KAUSHALYA\",\"1136 R.A.S.A.RANATHUNGA\",\"1172 H.L.M. SOYSA\",\"1176 E.A.M. DILRUKSHI\",\"1179 P.M.RANMAL\",\"1184 K.A.S.P.KODITHUWAKKU\",\"1187 A.I.KASTHURI ARACHCHI\",\"1214 K.M.I.G.BANDARA\",\"850 H.A. NAVEEN METHMAL\",\"856 G.C.L. DE SILVA\",\"873 L.D.S.S LELWALA\",\"881 W.L.T.N. JANASINGHE\",\"882 U.S.PILLAI\",\"900 D M A O KARUNASENA\",\"927 W.M.A.A.BANDARA\",\"931 M.T.S. VIDURANGI\",\"944 H.K.U.I.JAYASEKARA\",\"960 W.M.S.D. JAYATHILAKA\",\"962 K.P.SHASHINIKA VIRAJANI JAYAWEERA\",\"970 A.P.P.D.RANAHANSI\",\"973 S.SHERONICKA\"],\"y\":[0,0,0,0,0,0,0,0,0,0,0,0,0,0,0,0,0,0,0,0,0,0,0,0,0,0,0,0,0,0,0,0,0,0,0,0,0,0,0],\"type\":\"bar\"},{\"name\":\"Chapter created\",\"x\":[\"1004 W.M.W.T. BANDARANAYAKA\",\"1014 W W H K FERNANDO\",\"1027 R.T.AMARATHUNGA\",\"1031 A.H.R.SENEVIRATHNA\",\"1052 D.L.D.Y.WEERAKOON\",\"1055 K.L.H DILSHAN\",\"1056 G.P.HIRANYA\",\"1066 K.R.ROSHANTHINI\",\"1070 N.A.K. HIRUMI HANSINI CHANDRAWANSA\",\"1076 I.U.SENAVIRATHNE\",\"1082 N.M.B KANCHANAMALA\",\"1085 M.A.W.I.MADURAPPERUMA\",\"1088 R.D.T.DANANJANI\",\"1097 W.D.V.T LIYANAGE\",\"1104 S. D. E.KUMARI\",\"1109 P.M.S. GURUGE\",\"1116 B.N.B.JAYASINGHE\",\"1123 L.L.MINUSHI LAKMINDI\",\"1124 S.A.D.J.N.KAUSHALYA\",\"1136 R.A.S.A.RANATHUNGA\",\"1172 H.L.M. SOYSA\",\"1176 E.A.M. DILRUKSHI\",\"1179 P.M.RANMAL\",\"1184 K.A.S.P.KODITHUWAKKU\",\"1187 A.I.KASTHURI ARACHCHI\",\"1214 K.M.I.G.BANDARA\",\"850 H.A. NAVEEN METHMAL\",\"856 G.C.L. DE SILVA\",\"873 L.D.S.S LELWALA\",\"881 W.L.T.N. JANASINGHE\",\"882 U.S.PILLAI\",\"900 D M A O KARUNASENA\",\"927 W.M.A.A.BANDARA\",\"931 M.T.S. VIDURANGI\",\"944 H.K.U.I.JAYASEKARA\",\"960 W.M.S.D. JAYATHILAKA\",\"962 K.P.SHASHINIKA VIRAJANI JAYAWEERA\",\"970 A.P.P.D.RANAHANSI\",\"973 S.SHERONICKA\"],\"y\":[0,0,0,0,0,0,0,0,0,0,0,0,0,0,0,0,0,0,0,0,0,0,0,0,0,0,0,0,0,0,0,0,0,0,0,0,0,0,0],\"type\":\"bar\"},{\"name\":\"Chapter viewed\",\"x\":[\"1004 W.M.W.T. BANDARANAYAKA\",\"1014 W W H K FERNANDO\",\"1027 R.T.AMARATHUNGA\",\"1031 A.H.R.SENEVIRATHNA\",\"1052 D.L.D.Y.WEERAKOON\",\"1055 K.L.H DILSHAN\",\"1056 G.P.HIRANYA\",\"1066 K.R.ROSHANTHINI\",\"1070 N.A.K. HIRUMI HANSINI CHANDRAWANSA\",\"1076 I.U.SENAVIRATHNE\",\"1082 N.M.B KANCHANAMALA\",\"1085 M.A.W.I.MADURAPPERUMA\",\"1088 R.D.T.DANANJANI\",\"1097 W.D.V.T LIYANAGE\",\"1104 S. D. E.KUMARI\",\"1109 P.M.S. GURUGE\",\"1116 B.N.B.JAYASINGHE\",\"1123 L.L.MINUSHI LAKMINDI\",\"1124 S.A.D.J.N.KAUSHALYA\",\"1136 R.A.S.A.RANATHUNGA\",\"1172 H.L.M. SOYSA\",\"1176 E.A.M. DILRUKSHI\",\"1179 P.M.RANMAL\",\"1184 K.A.S.P.KODITHUWAKKU\",\"1187 A.I.KASTHURI ARACHCHI\",\"1214 K.M.I.G.BANDARA\",\"850 H.A. NAVEEN METHMAL\",\"856 G.C.L. DE SILVA\",\"873 L.D.S.S LELWALA\",\"881 W.L.T.N. JANASINGHE\",\"882 U.S.PILLAI\",\"900 D M A O KARUNASENA\",\"927 W.M.A.A.BANDARA\",\"931 M.T.S. VIDURANGI\",\"944 H.K.U.I.JAYASEKARA\",\"960 W.M.S.D. JAYATHILAKA\",\"962 K.P.SHASHINIKA VIRAJANI JAYAWEERA\",\"970 A.P.P.D.RANAHANSI\",\"973 S.SHERONICKA\"],\"y\":[0,0,0,0,0,0,0,0,0,0,0,0,0,0,0,0,0,0,0,0,0,0,0,0,0,0,0,0,0,0,0,0,0,0,0,0,0,0,0],\"type\":\"bar\"},{\"name\":\"Content created\",\"x\":[\"1004 W.M.W.T. BANDARANAYAKA\",\"1014 W W H K FERNANDO\",\"1027 R.T.AMARATHUNGA\",\"1031 A.H.R.SENEVIRATHNA\",\"1052 D.L.D.Y.WEERAKOON\",\"1055 K.L.H DILSHAN\",\"1056 G.P.HIRANYA\",\"1066 K.R.ROSHANTHINI\",\"1070 N.A.K. HIRUMI HANSINI CHANDRAWANSA\",\"1076 I.U.SENAVIRATHNE\",\"1082 N.M.B KANCHANAMALA\",\"1085 M.A.W.I.MADURAPPERUMA\",\"1088 R.D.T.DANANJANI\",\"1097 W.D.V.T LIYANAGE\",\"1104 S. D. E.KUMARI\",\"1109 P.M.S. GURUGE\",\"1116 B.N.B.JAYASINGHE\",\"1123 L.L.MINUSHI LAKMINDI\",\"1124 S.A.D.J.N.KAUSHALYA\",\"1136 R.A.S.A.RANATHUNGA\",\"1172 H.L.M. SOYSA\",\"1176 E.A.M. DILRUKSHI\",\"1179 P.M.RANMAL\",\"1184 K.A.S.P.KODITHUWAKKU\",\"1187 A.I.KASTHURI ARACHCHI\",\"1214 K.M.I.G.BANDARA\",\"850 H.A. NAVEEN METHMAL\",\"856 G.C.L. DE SILVA\",\"873 L.D.S.S LELWALA\",\"881 W.L.T.N. JANASINGHE\",\"882 U.S.PILLAI\",\"900 D M A O KARUNASENA\",\"927 W.M.A.A.BANDARA\",\"931 M.T.S. VIDURANGI\",\"944 H.K.U.I.JAYASEKARA\",\"960 W.M.S.D. JAYATHILAKA\",\"962 K.P.SHASHINIKA VIRAJANI JAYAWEERA\",\"970 A.P.P.D.RANAHANSI\",\"973 S.SHERONICKA\"],\"y\":[0,0,0,0,0,0,0,0,0,0,0,0,0,0,0,0,0,0,0,0,0,0,0,0,0,0,0,0,0,0,0,0,0,0,0,0,0,0,0],\"type\":\"bar\"},{\"name\":\"Comments viewed\",\"x\":[\"1004 W.M.W.T. BANDARANAYAKA\",\"1014 W W H K FERNANDO\",\"1027 R.T.AMARATHUNGA\",\"1031 A.H.R.SENEVIRATHNA\",\"1052 D.L.D.Y.WEERAKOON\",\"1055 K.L.H DILSHAN\",\"1056 G.P.HIRANYA\",\"1066 K.R.ROSHANTHINI\",\"1070 N.A.K. HIRUMI HANSINI CHANDRAWANSA\",\"1076 I.U.SENAVIRATHNE\",\"1082 N.M.B KANCHANAMALA\",\"1085 M.A.W.I.MADURAPPERUMA\",\"1088 R.D.T.DANANJANI\",\"1097 W.D.V.T LIYANAGE\",\"1104 S. D. E.KUMARI\",\"1109 P.M.S. GURUGE\",\"1116 B.N.B.JAYASINGHE\",\"1123 L.L.MINUSHI LAKMINDI\",\"1124 S.A.D.J.N.KAUSHALYA\",\"1136 R.A.S.A.RANATHUNGA\",\"1172 H.L.M. SOYSA\",\"1176 E.A.M. DILRUKSHI\",\"1179 P.M.RANMAL\",\"1184 K.A.S.P.KODITHUWAKKU\",\"1187 A.I.KASTHURI ARACHCHI\",\"1214 K.M.I.G.BANDARA\",\"850 H.A. NAVEEN METHMAL\",\"856 G.C.L. DE SILVA\",\"873 L.D.S.S LELWALA\",\"881 W.L.T.N. JANASINGHE\",\"882 U.S.PILLAI\",\"900 D M A O KARUNASENA\",\"927 W.M.A.A.BANDARA\",\"931 M.T.S. VIDURANGI\",\"944 H.K.U.I.JAYASEKARA\",\"960 W.M.S.D. JAYATHILAKA\",\"962 K.P.SHASHINIKA VIRAJANI JAYAWEERA\",\"970 A.P.P.D.RANAHANSI\",\"973 S.SHERONICKA\"],\"y\":[0,0,0,0,0,0,0,0,0,0,0,0,0,0,0,0,0,0,0,0,0,0,0,0,0,0,0,0,0,0,0,0,0,0,0,0,0,0,0],\"type\":\"bar\"},{\"name\":\"Content uploaded\",\"x\":[\"1004 W.M.W.T. BANDARANAYAKA\",\"1014 W W H K FERNANDO\",\"1027 R.T.AMARATHUNGA\",\"1031 A.H.R.SENEVIRATHNA\",\"1052 D.L.D.Y.WEERAKOON\",\"1055 K.L.H DILSHAN\",\"1056 G.P.HIRANYA\",\"1066 K.R.ROSHANTHINI\",\"1070 N.A.K. HIRUMI HANSINI CHANDRAWANSA\",\"1076 I.U.SENAVIRATHNE\",\"1082 N.M.B KANCHANAMALA\",\"1085 M.A.W.I.MADURAPPERUMA\",\"1088 R.D.T.DANANJANI\",\"1097 W.D.V.T LIYANAGE\",\"1104 S. D. E.KUMARI\",\"1109 P.M.S. GURUGE\",\"1116 B.N.B.JAYASINGHE\",\"1123 L.L.MINUSHI LAKMINDI\",\"1124 S.A.D.J.N.KAUSHALYA\",\"1136 R.A.S.A.RANATHUNGA\",\"1172 H.L.M. SOYSA\",\"1176 E.A.M. DILRUKSHI\",\"1179 P.M.RANMAL\",\"1184 K.A.S.P.KODITHUWAKKU\",\"1187 A.I.KASTHURI ARACHCHI\",\"1214 K.M.I.G.BANDARA\",\"850 H.A. NAVEEN METHMAL\",\"856 G.C.L. DE SILVA\",\"873 L.D.S.S LELWALA\",\"881 W.L.T.N. JANASINGHE\",\"882 U.S.PILLAI\",\"900 D M A O KARUNASENA\",\"927 W.M.A.A.BANDARA\",\"931 M.T.S. VIDURANGI\",\"944 H.K.U.I.JAYASEKARA\",\"960 W.M.S.D. JAYATHILAKA\",\"962 K.P.SHASHINIKA VIRAJANI JAYAWEERA\",\"970 A.P.P.D.RANAHANSI\",\"973 S.SHERONICKA\"],\"y\":[0,0,0,0,0,0,0,0,0,0,0,0,0,0,0,0,0,0,0,0,0,0,0,0,0,0,0,0,0,0,0,0,0,0,0,0,0,0,0],\"type\":\"bar\"},{\"name\":\"Content viewed\",\"x\":[\"1004 W.M.W.T. BANDARANAYAKA\",\"1014 W W H K FERNANDO\",\"1027 R.T.AMARATHUNGA\",\"1031 A.H.R.SENEVIRATHNA\",\"1052 D.L.D.Y.WEERAKOON\",\"1055 K.L.H DILSHAN\",\"1056 G.P.HIRANYA\",\"1066 K.R.ROSHANTHINI\",\"1070 N.A.K. HIRUMI HANSINI CHANDRAWANSA\",\"1076 I.U.SENAVIRATHNE\",\"1082 N.M.B KANCHANAMALA\",\"1085 M.A.W.I.MADURAPPERUMA\",\"1088 R.D.T.DANANJANI\",\"1097 W.D.V.T LIYANAGE\",\"1104 S. D. E.KUMARI\",\"1109 P.M.S. GURUGE\",\"1116 B.N.B.JAYASINGHE\",\"1123 L.L.MINUSHI LAKMINDI\",\"1124 S.A.D.J.N.KAUSHALYA\",\"1136 R.A.S.A.RANATHUNGA\",\"1172 H.L.M. SOYSA\",\"1176 E.A.M. DILRUKSHI\",\"1179 P.M.RANMAL\",\"1184 K.A.S.P.KODITHUWAKKU\",\"1187 A.I.KASTHURI ARACHCHI\",\"1214 K.M.I.G.BANDARA\",\"850 H.A. NAVEEN METHMAL\",\"856 G.C.L. DE SILVA\",\"873 L.D.S.S LELWALA\",\"881 W.L.T.N. JANASINGHE\",\"882 U.S.PILLAI\",\"900 D M A O KARUNASENA\",\"927 W.M.A.A.BANDARA\",\"931 M.T.S. VIDURANGI\",\"944 H.K.U.I.JAYASEKARA\",\"960 W.M.S.D. JAYATHILAKA\",\"962 K.P.SHASHINIKA VIRAJANI JAYAWEERA\",\"970 A.P.P.D.RANAHANSI\",\"973 S.SHERONICKA\"],\"y\":[0,0,0,0,0,0,0,0,0,0,0,0,0,0,0,0,0,0,0,0,0,0,0,0,0,0,0,0,0,0,0,0,0,0,0,0,0,0,0],\"type\":\"bar\"},{\"name\":\"Comment created\",\"x\":[\"1004 W.M.W.T. BANDARANAYAKA\",\"1014 W W H K FERNANDO\",\"1027 R.T.AMARATHUNGA\",\"1031 A.H.R.SENEVIRATHNA\",\"1052 D.L.D.Y.WEERAKOON\",\"1055 K.L.H DILSHAN\",\"1056 G.P.HIRANYA\",\"1066 K.R.ROSHANTHINI\",\"1070 N.A.K. HIRUMI HANSINI CHANDRAWANSA\",\"1076 I.U.SENAVIRATHNE\",\"1082 N.M.B KANCHANAMALA\",\"1085 M.A.W.I.MADURAPPERUMA\",\"1088 R.D.T.DANANJANI\",\"1097 W.D.V.T LIYANAGE\",\"1104 S. D. E.KUMARI\",\"1109 P.M.S. GURUGE\",\"1116 B.N.B.JAYASINGHE\",\"1123 L.L.MINUSHI LAKMINDI\",\"1124 S.A.D.J.N.KAUSHALYA\",\"1136 R.A.S.A.RANATHUNGA\",\"1172 H.L.M. SOYSA\",\"1176 E.A.M. DILRUKSHI\",\"1179 P.M.RANMAL\",\"1184 K.A.S.P.KODITHUWAKKU\",\"1187 A.I.KASTHURI ARACHCHI\",\"1214 K.M.I.G.BANDARA\",\"850 H.A. NAVEEN METHMAL\",\"856 G.C.L. DE SILVA\",\"873 L.D.S.S LELWALA\",\"881 W.L.T.N. JANASINGHE\",\"882 U.S.PILLAI\",\"900 D M A O KARUNASENA\",\"927 W.M.A.A.BANDARA\",\"931 M.T.S. VIDURANGI\",\"944 H.K.U.I.JAYASEKARA\",\"960 W.M.S.D. JAYATHILAKA\",\"962 K.P.SHASHINIKA VIRAJANI JAYAWEERA\",\"970 A.P.P.D.RANAHANSI\",\"973 S.SHERONICKA\"],\"y\":[0,0,0,0,0,0,0,0,0,0,0,0,0,0,0,0,0,0,0,0,0,0,0,0,0,0,0,0,0,0,0,0,0,0,0,0,0,0,0],\"type\":\"bar\"},{\"name\":\"Course activity completion updated\",\"x\":[\"1004 W.M.W.T. BANDARANAYAKA\",\"1014 W W H K FERNANDO\",\"1027 R.T.AMARATHUNGA\",\"1031 A.H.R.SENEVIRATHNA\",\"1052 D.L.D.Y.WEERAKOON\",\"1055 K.L.H DILSHAN\",\"1056 G.P.HIRANYA\",\"1066 K.R.ROSHANTHINI\",\"1070 N.A.K. HIRUMI HANSINI CHANDRAWANSA\",\"1076 I.U.SENAVIRATHNE\",\"1082 N.M.B KANCHANAMALA\",\"1085 M.A.W.I.MADURAPPERUMA\",\"1088 R.D.T.DANANJANI\",\"1097 W.D.V.T LIYANAGE\",\"1104 S. D. E.KUMARI\",\"1109 P.M.S. GURUGE\",\"1116 B.N.B.JAYASINGHE\",\"1123 L.L.MINUSHI LAKMINDI\",\"1124 S.A.D.J.N.KAUSHALYA\",\"1136 R.A.S.A.RANATHUNGA\",\"1172 H.L.M. SOYSA\",\"1176 E.A.M. DILRUKSHI\",\"1179 P.M.RANMAL\",\"1184 K.A.S.P.KODITHUWAKKU\",\"1187 A.I.KASTHURI ARACHCHI\",\"1214 K.M.I.G.BANDARA\",\"850 H.A. NAVEEN METHMAL\",\"856 G.C.L. DE SILVA\",\"873 L.D.S.S LELWALA\",\"881 W.L.T.N. JANASINGHE\",\"882 U.S.PILLAI\",\"900 D M A O KARUNASENA\",\"927 W.M.A.A.BANDARA\",\"931 M.T.S. VIDURANGI\",\"944 H.K.U.I.JAYASEKARA\",\"960 W.M.S.D. JAYATHILAKA\",\"962 K.P.SHASHINIKA VIRAJANI JAYAWEERA\",\"970 A.P.P.D.RANAHANSI\",\"973 S.SHERONICKA\"],\"y\":[0,0,0,0,0,0,0,0,0,0,0,0,0,0,0,0,0,0,0,0,0,0,0,0,0,0,0,0,0,0,0,0,0,0,0,0,0,0,0],\"type\":\"bar\"},{\"name\":\"Discussion created\",\"x\":[\"1004 W.M.W.T. BANDARANAYAKA\",\"1014 W W H K FERNANDO\",\"1027 R.T.AMARATHUNGA\",\"1031 A.H.R.SENEVIRATHNA\",\"1052 D.L.D.Y.WEERAKOON\",\"1055 K.L.H DILSHAN\",\"1056 G.P.HIRANYA\",\"1066 K.R.ROSHANTHINI\",\"1070 N.A.K. HIRUMI HANSINI CHANDRAWANSA\",\"1076 I.U.SENAVIRATHNE\",\"1082 N.M.B KANCHANAMALA\",\"1085 M.A.W.I.MADURAPPERUMA\",\"1088 R.D.T.DANANJANI\",\"1097 W.D.V.T LIYANAGE\",\"1104 S. D. E.KUMARI\",\"1109 P.M.S. GURUGE\",\"1116 B.N.B.JAYASINGHE\",\"1123 L.L.MINUSHI LAKMINDI\",\"1124 S.A.D.J.N.KAUSHALYA\",\"1136 R.A.S.A.RANATHUNGA\",\"1172 H.L.M. SOYSA\",\"1176 E.A.M. DILRUKSHI\",\"1179 P.M.RANMAL\",\"1184 K.A.S.P.KODITHUWAKKU\",\"1187 A.I.KASTHURI ARACHCHI\",\"1214 K.M.I.G.BANDARA\",\"850 H.A. NAVEEN METHMAL\",\"856 G.C.L. DE SILVA\",\"873 L.D.S.S LELWALA\",\"881 W.L.T.N. JANASINGHE\",\"882 U.S.PILLAI\",\"900 D M A O KARUNASENA\",\"927 W.M.A.A.BANDARA\",\"931 M.T.S. VIDURANGI\",\"944 H.K.U.I.JAYASEKARA\",\"960 W.M.S.D. JAYATHILAKA\",\"962 K.P.SHASHINIKA VIRAJANI JAYAWEERA\",\"970 A.P.P.D.RANAHANSI\",\"973 S.SHERONICKA\"],\"y\":[0,0,0,0,0,0,0,0,0,0,0,0,0,0,0,0,0,0,0,0,0,0,0,0,0,0,0,0,0,0,0,0,0,0,0,0,0,0,0],\"type\":\"bar\"},{\"name\":\"Discussion viewed\",\"x\":[\"1004 W.M.W.T. BANDARANAYAKA\",\"1014 W W H K FERNANDO\",\"1027 R.T.AMARATHUNGA\",\"1031 A.H.R.SENEVIRATHNA\",\"1052 D.L.D.Y.WEERAKOON\",\"1055 K.L.H DILSHAN\",\"1056 G.P.HIRANYA\",\"1066 K.R.ROSHANTHINI\",\"1070 N.A.K. HIRUMI HANSINI CHANDRAWANSA\",\"1076 I.U.SENAVIRATHNE\",\"1082 N.M.B KANCHANAMALA\",\"1085 M.A.W.I.MADURAPPERUMA\",\"1088 R.D.T.DANANJANI\",\"1097 W.D.V.T LIYANAGE\",\"1104 S. D. E.KUMARI\",\"1109 P.M.S. GURUGE\",\"1116 B.N.B.JAYASINGHE\",\"1123 L.L.MINUSHI LAKMINDI\",\"1124 S.A.D.J.N.KAUSHALYA\",\"1136 R.A.S.A.RANATHUNGA\",\"1172 H.L.M. SOYSA\",\"1176 E.A.M. DILRUKSHI\",\"1179 P.M.RANMAL\",\"1184 K.A.S.P.KODITHUWAKKU\",\"1187 A.I.KASTHURI ARACHCHI\",\"1214 K.M.I.G.BANDARA\",\"850 H.A. NAVEEN METHMAL\",\"856 G.C.L. DE SILVA\",\"873 L.D.S.S LELWALA\",\"881 W.L.T.N. JANASINGHE\",\"882 U.S.PILLAI\",\"900 D M A O KARUNASENA\",\"927 W.M.A.A.BANDARA\",\"931 M.T.S. VIDURANGI\",\"944 H.K.U.I.JAYASEKARA\",\"960 W.M.S.D. JAYATHILAKA\",\"962 K.P.SHASHINIKA VIRAJANI JAYAWEERA\",\"970 A.P.P.D.RANAHANSI\",\"973 S.SHERONICKA\"],\"y\":[0,0,0,0,0,0,0,0,0,0,0,0,0,0,0,0,0,0,0,0,0,0,0,0,0,0,0,0,0,0,0,0,0,0,0,0,0,0,0],\"type\":\"bar\"},{\"name\":\"Feedback viewed\",\"x\":[\"1004 W.M.W.T. BANDARANAYAKA\",\"1014 W W H K FERNANDO\",\"1027 R.T.AMARATHUNGA\",\"1031 A.H.R.SENEVIRATHNA\",\"1052 D.L.D.Y.WEERAKOON\",\"1055 K.L.H DILSHAN\",\"1056 G.P.HIRANYA\",\"1066 K.R.ROSHANTHINI\",\"1070 N.A.K. HIRUMI HANSINI CHANDRAWANSA\",\"1076 I.U.SENAVIRATHNE\",\"1082 N.M.B KANCHANAMALA\",\"1085 M.A.W.I.MADURAPPERUMA\",\"1088 R.D.T.DANANJANI\",\"1097 W.D.V.T LIYANAGE\",\"1104 S. D. E.KUMARI\",\"1109 P.M.S. GURUGE\",\"1116 B.N.B.JAYASINGHE\",\"1123 L.L.MINUSHI LAKMINDI\",\"1124 S.A.D.J.N.KAUSHALYA\",\"1136 R.A.S.A.RANATHUNGA\",\"1172 H.L.M. SOYSA\",\"1176 E.A.M. DILRUKSHI\",\"1179 P.M.RANMAL\",\"1184 K.A.S.P.KODITHUWAKKU\",\"1187 A.I.KASTHURI ARACHCHI\",\"1214 K.M.I.G.BANDARA\",\"850 H.A. NAVEEN METHMAL\",\"856 G.C.L. DE SILVA\",\"873 L.D.S.S LELWALA\",\"881 W.L.T.N. JANASINGHE\",\"882 U.S.PILLAI\",\"900 D M A O KARUNASENA\",\"927 W.M.A.A.BANDARA\",\"931 M.T.S. VIDURANGI\",\"944 H.K.U.I.JAYASEKARA\",\"960 W.M.S.D. JAYATHILAKA\",\"962 K.P.SHASHINIKA VIRAJANI JAYAWEERA\",\"970 A.P.P.D.RANAHANSI\",\"973 S.SHERONICKA\"],\"y\":[0,0,0,0,0,0,0,0,0,0,0,0,0,0,0,0,0,0,0,0,0,0,0,0,0,0,0,0,0,0,0,0,0,0,0,0,0,0,0],\"type\":\"bar\"},{\"name\":\"H5P content viewed\",\"x\":[\"1004 W.M.W.T. BANDARANAYAKA\",\"1014 W W H K FERNANDO\",\"1027 R.T.AMARATHUNGA\",\"1031 A.H.R.SENEVIRATHNA\",\"1052 D.L.D.Y.WEERAKOON\",\"1055 K.L.H DILSHAN\",\"1056 G.P.HIRANYA\",\"1066 K.R.ROSHANTHINI\",\"1070 N.A.K. HIRUMI HANSINI CHANDRAWANSA\",\"1076 I.U.SENAVIRATHNE\",\"1082 N.M.B KANCHANAMALA\",\"1085 M.A.W.I.MADURAPPERUMA\",\"1088 R.D.T.DANANJANI\",\"1097 W.D.V.T LIYANAGE\",\"1104 S. D. E.KUMARI\",\"1109 P.M.S. GURUGE\",\"1116 B.N.B.JAYASINGHE\",\"1123 L.L.MINUSHI LAKMINDI\",\"1124 S.A.D.J.N.KAUSHALYA\",\"1136 R.A.S.A.RANATHUNGA\",\"1172 H.L.M. SOYSA\",\"1176 E.A.M. DILRUKSHI\",\"1179 P.M.RANMAL\",\"1184 K.A.S.P.KODITHUWAKKU\",\"1187 A.I.KASTHURI ARACHCHI\",\"1214 K.M.I.G.BANDARA\",\"850 H.A. NAVEEN METHMAL\",\"856 G.C.L. DE SILVA\",\"873 L.D.S.S LELWALA\",\"881 W.L.T.N. JANASINGHE\",\"882 U.S.PILLAI\",\"900 D M A O KARUNASENA\",\"927 W.M.A.A.BANDARA\",\"931 M.T.S. VIDURANGI\",\"944 H.K.U.I.JAYASEKARA\",\"960 W.M.S.D. JAYATHILAKA\",\"962 K.P.SHASHINIKA VIRAJANI JAYAWEERA\",\"970 A.P.P.D.RANAHANSI\",\"973 S.SHERONICKA\"],\"y\":[0,0,0,0,0,0,0,0,0,0,0,0,0,0,0,0,0,0,0,0,0,0,0,0,0,0,0,0,0,0,0,0,0,0,0,0,0,0,0],\"type\":\"bar\"},{\"name\":\"Message sent\",\"x\":[\"1004 W.M.W.T. BANDARANAYAKA\",\"1014 W W H K FERNANDO\",\"1027 R.T.AMARATHUNGA\",\"1031 A.H.R.SENEVIRATHNA\",\"1052 D.L.D.Y.WEERAKOON\",\"1055 K.L.H DILSHAN\",\"1056 G.P.HIRANYA\",\"1066 K.R.ROSHANTHINI\",\"1070 N.A.K. HIRUMI HANSINI CHANDRAWANSA\",\"1076 I.U.SENAVIRATHNE\",\"1082 N.M.B KANCHANAMALA\",\"1085 M.A.W.I.MADURAPPERUMA\",\"1088 R.D.T.DANANJANI\",\"1097 W.D.V.T LIYANAGE\",\"1104 S. D. E.KUMARI\",\"1109 P.M.S. GURUGE\",\"1116 B.N.B.JAYASINGHE\",\"1123 L.L.MINUSHI LAKMINDI\",\"1124 S.A.D.J.N.KAUSHALYA\",\"1136 R.A.S.A.RANATHUNGA\",\"1172 H.L.M. SOYSA\",\"1176 E.A.M. DILRUKSHI\",\"1179 P.M.RANMAL\",\"1184 K.A.S.P.KODITHUWAKKU\",\"1187 A.I.KASTHURI ARACHCHI\",\"1214 K.M.I.G.BANDARA\",\"850 H.A. NAVEEN METHMAL\",\"856 G.C.L. DE SILVA\",\"873 L.D.S.S LELWALA\",\"881 W.L.T.N. JANASINGHE\",\"882 U.S.PILLAI\",\"900 D M A O KARUNASENA\",\"927 W.M.A.A.BANDARA\",\"931 M.T.S. VIDURANGI\",\"944 H.K.U.I.JAYASEKARA\",\"960 W.M.S.D. JAYATHILAKA\",\"962 K.P.SHASHINIKA VIRAJANI JAYAWEERA\",\"970 A.P.P.D.RANAHANSI\",\"973 S.SHERONICKA\"],\"y\":[0,0,0,0,0,0,0,0,0,0,0,0,0,0,0,0,0,0,0,0,0,0,0,0,0,0,0,0,0,0,0,0,0,0,0,0,0,0,0],\"type\":\"bar\"},{\"name\":\"Post created\",\"x\":[\"1004 W.M.W.T. BANDARANAYAKA\",\"1014 W W H K FERNANDO\",\"1027 R.T.AMARATHUNGA\",\"1031 A.H.R.SENEVIRATHNA\",\"1052 D.L.D.Y.WEERAKOON\",\"1055 K.L.H DILSHAN\",\"1056 G.P.HIRANYA\",\"1066 K.R.ROSHANTHINI\",\"1070 N.A.K. HIRUMI HANSINI CHANDRAWANSA\",\"1076 I.U.SENAVIRATHNE\",\"1082 N.M.B KANCHANAMALA\",\"1085 M.A.W.I.MADURAPPERUMA\",\"1088 R.D.T.DANANJANI\",\"1097 W.D.V.T LIYANAGE\",\"1104 S. D. E.KUMARI\",\"1109 P.M.S. GURUGE\",\"1116 B.N.B.JAYASINGHE\",\"1123 L.L.MINUSHI LAKMINDI\",\"1124 S.A.D.J.N.KAUSHALYA\",\"1136 R.A.S.A.RANATHUNGA\",\"1172 H.L.M. SOYSA\",\"1176 E.A.M. DILRUKSHI\",\"1179 P.M.RANMAL\",\"1184 K.A.S.P.KODITHUWAKKU\",\"1187 A.I.KASTHURI ARACHCHI\",\"1214 K.M.I.G.BANDARA\",\"850 H.A. NAVEEN METHMAL\",\"856 G.C.L. DE SILVA\",\"873 L.D.S.S LELWALA\",\"881 W.L.T.N. JANASINGHE\",\"882 U.S.PILLAI\",\"900 D M A O KARUNASENA\",\"927 W.M.A.A.BANDARA\",\"931 M.T.S. VIDURANGI\",\"944 H.K.U.I.JAYASEKARA\",\"960 W.M.S.D. JAYATHILAKA\",\"962 K.P.SHASHINIKA VIRAJANI JAYAWEERA\",\"970 A.P.P.D.RANAHANSI\",\"973 S.SHERONICKA\"],\"y\":[0,0,0,0,0,0,0,0,0,0,0,0,0,0,0,0,0,0,0,0,0,0,0,0,0,0,0,0,0,0,0,0,0,0,0,0,0,0,0],\"type\":\"bar\"},{\"name\":\"Quiz attempt submitted\",\"x\":[\"1004 W.M.W.T. BANDARANAYAKA\",\"1014 W W H K FERNANDO\",\"1027 R.T.AMARATHUNGA\",\"1031 A.H.R.SENEVIRATHNA\",\"1052 D.L.D.Y.WEERAKOON\",\"1055 K.L.H DILSHAN\",\"1056 G.P.HIRANYA\",\"1066 K.R.ROSHANTHINI\",\"1070 N.A.K. HIRUMI HANSINI CHANDRAWANSA\",\"1076 I.U.SENAVIRATHNE\",\"1082 N.M.B KANCHANAMALA\",\"1085 M.A.W.I.MADURAPPERUMA\",\"1088 R.D.T.DANANJANI\",\"1097 W.D.V.T LIYANAGE\",\"1104 S. D. E.KUMARI\",\"1109 P.M.S. GURUGE\",\"1116 B.N.B.JAYASINGHE\",\"1123 L.L.MINUSHI LAKMINDI\",\"1124 S.A.D.J.N.KAUSHALYA\",\"1136 R.A.S.A.RANATHUNGA\",\"1172 H.L.M. SOYSA\",\"1176 E.A.M. DILRUKSHI\",\"1179 P.M.RANMAL\",\"1184 K.A.S.P.KODITHUWAKKU\",\"1187 A.I.KASTHURI ARACHCHI\",\"1214 K.M.I.G.BANDARA\",\"850 H.A. NAVEEN METHMAL\",\"856 G.C.L. DE SILVA\",\"873 L.D.S.S LELWALA\",\"881 W.L.T.N. JANASINGHE\",\"882 U.S.PILLAI\",\"900 D M A O KARUNASENA\",\"927 W.M.A.A.BANDARA\",\"931 M.T.S. VIDURANGI\",\"944 H.K.U.I.JAYASEKARA\",\"960 W.M.S.D. JAYATHILAKA\",\"962 K.P.SHASHINIKA VIRAJANI JAYAWEERA\",\"970 A.P.P.D.RANAHANSI\",\"973 S.SHERONICKA\"],\"y\":[0,0,0,0,0,0,0,0,0,0,0,0,0,0,0,0,0,0,0,0,0,0,0,0,0,0,0,0,0,0,0,0,0,0,0,0,0,0,0],\"type\":\"bar\"},{\"name\":\"mod_hvp: attempt submitted\",\"x\":[\"1004 W.M.W.T. BANDARANAYAKA\",\"1014 W W H K FERNANDO\",\"1027 R.T.AMARATHUNGA\",\"1031 A.H.R.SENEVIRATHNA\",\"1052 D.L.D.Y.WEERAKOON\",\"1055 K.L.H DILSHAN\",\"1056 G.P.HIRANYA\",\"1066 K.R.ROSHANTHINI\",\"1070 N.A.K. HIRUMI HANSINI CHANDRAWANSA\",\"1076 I.U.SENAVIRATHNE\",\"1082 N.M.B KANCHANAMALA\",\"1085 M.A.W.I.MADURAPPERUMA\",\"1088 R.D.T.DANANJANI\",\"1097 W.D.V.T LIYANAGE\",\"1104 S. D. E.KUMARI\",\"1109 P.M.S. GURUGE\",\"1116 B.N.B.JAYASINGHE\",\"1123 L.L.MINUSHI LAKMINDI\",\"1124 S.A.D.J.N.KAUSHALYA\",\"1136 R.A.S.A.RANATHUNGA\",\"1172 H.L.M. SOYSA\",\"1176 E.A.M. DILRUKSHI\",\"1179 P.M.RANMAL\",\"1184 K.A.S.P.KODITHUWAKKU\",\"1187 A.I.KASTHURI ARACHCHI\",\"1214 K.M.I.G.BANDARA\",\"850 H.A. NAVEEN METHMAL\",\"856 G.C.L. DE SILVA\",\"873 L.D.S.S LELWALA\",\"881 W.L.T.N. JANASINGHE\",\"882 U.S.PILLAI\",\"900 D M A O KARUNASENA\",\"927 W.M.A.A.BANDARA\",\"931 M.T.S. VIDURANGI\",\"944 H.K.U.I.JAYASEKARA\",\"960 W.M.S.D. JAYATHILAKA\",\"962 K.P.SHASHINIKA VIRAJANI JAYAWEERA\",\"970 A.P.P.D.RANAHANSI\",\"973 S.SHERONICKA\"],\"y\":[0,0,0,0,0,0,0,0,0,0,0,0,0,0,0,0,0,0,0,0,0,0,0,0,0,0,0,0,0,0,0,0,0,0,0,0,0,0,0],\"type\":\"bar\"},{\"name\":\"Sessions viewed\",\"x\":[\"1004 W.M.W.T. BANDARANAYAKA\",\"1014 W W H K FERNANDO\",\"1027 R.T.AMARATHUNGA\",\"1031 A.H.R.SENEVIRATHNA\",\"1052 D.L.D.Y.WEERAKOON\",\"1055 K.L.H DILSHAN\",\"1056 G.P.HIRANYA\",\"1066 K.R.ROSHANTHINI\",\"1070 N.A.K. HIRUMI HANSINI CHANDRAWANSA\",\"1076 I.U.SENAVIRATHNE\",\"1082 N.M.B KANCHANAMALA\",\"1085 M.A.W.I.MADURAPPERUMA\",\"1088 R.D.T.DANANJANI\",\"1097 W.D.V.T LIYANAGE\",\"1104 S. D. E.KUMARI\",\"1109 P.M.S. GURUGE\",\"1116 B.N.B.JAYASINGHE\",\"1123 L.L.MINUSHI LAKMINDI\",\"1124 S.A.D.J.N.KAUSHALYA\",\"1136 R.A.S.A.RANATHUNGA\",\"1172 H.L.M. SOYSA\",\"1176 E.A.M. DILRUKSHI\",\"1179 P.M.RANMAL\",\"1184 K.A.S.P.KODITHUWAKKU\",\"1187 A.I.KASTHURI ARACHCHI\",\"1214 K.M.I.G.BANDARA\",\"850 H.A. NAVEEN METHMAL\",\"856 G.C.L. DE SILVA\",\"873 L.D.S.S LELWALA\",\"881 W.L.T.N. JANASINGHE\",\"882 U.S.PILLAI\",\"900 D M A O KARUNASENA\",\"927 W.M.A.A.BANDARA\",\"931 M.T.S. VIDURANGI\",\"944 H.K.U.I.JAYASEKARA\",\"960 W.M.S.D. JAYATHILAKA\",\"962 K.P.SHASHINIKA VIRAJANI JAYAWEERA\",\"970 A.P.P.D.RANAHANSI\",\"973 S.SHERONICKA\"],\"y\":[0,0,0,0,0,0,0,0,0,0,0,0,0,0,0,0,0,0,0,0,0,0,0,0,0,0,0,0,0,0,0,0,0,0,0,0,0,0,0],\"type\":\"bar\"},{\"name\":\"Some content has been posted.\",\"x\":[\"1004 W.M.W.T. BANDARANAYAKA\",\"1014 W W H K FERNANDO\",\"1027 R.T.AMARATHUNGA\",\"1031 A.H.R.SENEVIRATHNA\",\"1052 D.L.D.Y.WEERAKOON\",\"1055 K.L.H DILSHAN\",\"1056 G.P.HIRANYA\",\"1066 K.R.ROSHANTHINI\",\"1070 N.A.K. HIRUMI HANSINI CHANDRAWANSA\",\"1076 I.U.SENAVIRATHNE\",\"1082 N.M.B KANCHANAMALA\",\"1085 M.A.W.I.MADURAPPERUMA\",\"1088 R.D.T.DANANJANI\",\"1097 W.D.V.T LIYANAGE\",\"1104 S. D. E.KUMARI\",\"1109 P.M.S. GURUGE\",\"1116 B.N.B.JAYASINGHE\",\"1123 L.L.MINUSHI LAKMINDI\",\"1124 S.A.D.J.N.KAUSHALYA\",\"1136 R.A.S.A.RANATHUNGA\",\"1172 H.L.M. SOYSA\",\"1176 E.A.M. DILRUKSHI\",\"1179 P.M.RANMAL\",\"1184 K.A.S.P.KODITHUWAKKU\",\"1187 A.I.KASTHURI ARACHCHI\",\"1214 K.M.I.G.BANDARA\",\"850 H.A. NAVEEN METHMAL\",\"856 G.C.L. DE SILVA\",\"873 L.D.S.S LELWALA\",\"881 W.L.T.N. JANASINGHE\",\"882 U.S.PILLAI\",\"900 D M A O KARUNASENA\",\"927 W.M.A.A.BANDARA\",\"931 M.T.S. VIDURANGI\",\"944 H.K.U.I.JAYASEKARA\",\"960 W.M.S.D. JAYATHILAKA\",\"962 K.P.SHASHINIKA VIRAJANI JAYAWEERA\",\"970 A.P.P.D.RANAHANSI\",\"973 S.SHERONICKA\"],\"y\":[0,0,0,0,0,0,0,0,0,0,0,0,0,0,0,0,0,0,0,0,0,0,0,0,0,0,0,0,0,0,0,0,0,0,0,0,0,0,0],\"type\":\"bar\"},{\"name\":\"Submission created.\",\"x\":[\"1004 W.M.W.T. BANDARANAYAKA\",\"1014 W W H K FERNANDO\",\"1027 R.T.AMARATHUNGA\",\"1031 A.H.R.SENEVIRATHNA\",\"1052 D.L.D.Y.WEERAKOON\",\"1055 K.L.H DILSHAN\",\"1056 G.P.HIRANYA\",\"1066 K.R.ROSHANTHINI\",\"1070 N.A.K. HIRUMI HANSINI CHANDRAWANSA\",\"1076 I.U.SENAVIRATHNE\",\"1082 N.M.B KANCHANAMALA\",\"1085 M.A.W.I.MADURAPPERUMA\",\"1088 R.D.T.DANANJANI\",\"1097 W.D.V.T LIYANAGE\",\"1104 S. D. E.KUMARI\",\"1109 P.M.S. GURUGE\",\"1116 B.N.B.JAYASINGHE\",\"1123 L.L.MINUSHI LAKMINDI\",\"1124 S.A.D.J.N.KAUSHALYA\",\"1136 R.A.S.A.RANATHUNGA\",\"1172 H.L.M. SOYSA\",\"1176 E.A.M. DILRUKSHI\",\"1179 P.M.RANMAL\",\"1184 K.A.S.P.KODITHUWAKKU\",\"1187 A.I.KASTHURI ARACHCHI\",\"1214 K.M.I.G.BANDARA\",\"850 H.A. NAVEEN METHMAL\",\"856 G.C.L. DE SILVA\",\"873 L.D.S.S LELWALA\",\"881 W.L.T.N. JANASINGHE\",\"882 U.S.PILLAI\",\"900 D M A O KARUNASENA\",\"927 W.M.A.A.BANDARA\",\"931 M.T.S. VIDURANGI\",\"944 H.K.U.I.JAYASEKARA\",\"960 W.M.S.D. JAYATHILAKA\",\"962 K.P.SHASHINIKA VIRAJANI JAYAWEERA\",\"970 A.P.P.D.RANAHANSI\",\"973 S.SHERONICKA\"],\"y\":[0,0,0,0,0,0,0,0,0,0,0,0,0,0,0,0,0,0,0,0,0,0,0,0,0,0,0,0,0,0,0,0,0,0,0,0,0,0,0],\"type\":\"bar\"},{\"name\":\"The submission has been graded.\",\"x\":[\"1004 W.M.W.T. BANDARANAYAKA\",\"1014 W W H K FERNANDO\",\"1027 R.T.AMARATHUNGA\",\"1031 A.H.R.SENEVIRATHNA\",\"1052 D.L.D.Y.WEERAKOON\",\"1055 K.L.H DILSHAN\",\"1056 G.P.HIRANYA\",\"1066 K.R.ROSHANTHINI\",\"1070 N.A.K. HIRUMI HANSINI CHANDRAWANSA\",\"1076 I.U.SENAVIRATHNE\",\"1082 N.M.B KANCHANAMALA\",\"1085 M.A.W.I.MADURAPPERUMA\",\"1088 R.D.T.DANANJANI\",\"1097 W.D.V.T LIYANAGE\",\"1104 S. D. E.KUMARI\",\"1109 P.M.S. GURUGE\",\"1116 B.N.B.JAYASINGHE\",\"1123 L.L.MINUSHI LAKMINDI\",\"1124 S.A.D.J.N.KAUSHALYA\",\"1136 R.A.S.A.RANATHUNGA\",\"1172 H.L.M. SOYSA\",\"1176 E.A.M. DILRUKSHI\",\"1179 P.M.RANMAL\",\"1184 K.A.S.P.KODITHUWAKKU\",\"1187 A.I.KASTHURI ARACHCHI\",\"1214 K.M.I.G.BANDARA\",\"850 H.A. NAVEEN METHMAL\",\"856 G.C.L. DE SILVA\",\"873 L.D.S.S LELWALA\",\"881 W.L.T.N. JANASINGHE\",\"882 U.S.PILLAI\",\"900 D M A O KARUNASENA\",\"927 W.M.A.A.BANDARA\",\"931 M.T.S. VIDURANGI\",\"944 H.K.U.I.JAYASEKARA\",\"960 W.M.S.D. JAYATHILAKA\",\"962 K.P.SHASHINIKA VIRAJANI JAYAWEERA\",\"970 A.P.P.D.RANAHANSI\",\"973 S.SHERONICKA\"],\"y\":[0,0,0,0,0,0,0,0,0,0,0,0,0,0,0,0,0,0,0,0,0,0,0,0,0,0,0,0,0,0,0,0,0,0,0,0,0,0,0],\"type\":\"bar\"},{\"name\":\"User graded\",\"x\":[\"1004 W.M.W.T. BANDARANAYAKA\",\"1014 W W H K FERNANDO\",\"1027 R.T.AMARATHUNGA\",\"1031 A.H.R.SENEVIRATHNA\",\"1052 D.L.D.Y.WEERAKOON\",\"1055 K.L.H DILSHAN\",\"1056 G.P.HIRANYA\",\"1066 K.R.ROSHANTHINI\",\"1070 N.A.K. HIRUMI HANSINI CHANDRAWANSA\",\"1076 I.U.SENAVIRATHNE\",\"1082 N.M.B KANCHANAMALA\",\"1085 M.A.W.I.MADURAPPERUMA\",\"1088 R.D.T.DANANJANI\",\"1097 W.D.V.T LIYANAGE\",\"1104 S. D. E.KUMARI\",\"1109 P.M.S. GURUGE\",\"1116 B.N.B.JAYASINGHE\",\"1123 L.L.MINUSHI LAKMINDI\",\"1124 S.A.D.J.N.KAUSHALYA\",\"1136 R.A.S.A.RANATHUNGA\",\"1172 H.L.M. SOYSA\",\"1176 E.A.M. DILRUKSHI\",\"1179 P.M.RANMAL\",\"1184 K.A.S.P.KODITHUWAKKU\",\"1187 A.I.KASTHURI ARACHCHI\",\"1214 K.M.I.G.BANDARA\",\"850 H.A. NAVEEN METHMAL\",\"856 G.C.L. DE SILVA\",\"873 L.D.S.S LELWALA\",\"881 W.L.T.N. JANASINGHE\",\"882 U.S.PILLAI\",\"900 D M A O KARUNASENA\",\"927 W.M.A.A.BANDARA\",\"931 M.T.S. VIDURANGI\",\"944 H.K.U.I.JAYASEKARA\",\"960 W.M.S.D. JAYATHILAKA\",\"962 K.P.SHASHINIKA VIRAJANI JAYAWEERA\",\"970 A.P.P.D.RANAHANSI\",\"973 S.SHERONICKA\"],\"y\":[0,0,0,0,0,0,0,0,0,0,0,0,0,0,0,0,0,0,0,0,0,0,0,0,0,0,0,0,0,0,0,0,0,0,0,0,0,0,0],\"type\":\"bar\"},{\"name\":\"Wiki page created\",\"x\":[\"1004 W.M.W.T. BANDARANAYAKA\",\"1014 W W H K FERNANDO\",\"1027 R.T.AMARATHUNGA\",\"1031 A.H.R.SENEVIRATHNA\",\"1052 D.L.D.Y.WEERAKOON\",\"1055 K.L.H DILSHAN\",\"1056 G.P.HIRANYA\",\"1066 K.R.ROSHANTHINI\",\"1070 N.A.K. HIRUMI HANSINI CHANDRAWANSA\",\"1076 I.U.SENAVIRATHNE\",\"1082 N.M.B KANCHANAMALA\",\"1085 M.A.W.I.MADURAPPERUMA\",\"1088 R.D.T.DANANJANI\",\"1097 W.D.V.T LIYANAGE\",\"1104 S. D. E.KUMARI\",\"1109 P.M.S. GURUGE\",\"1116 B.N.B.JAYASINGHE\",\"1123 L.L.MINUSHI LAKMINDI\",\"1124 S.A.D.J.N.KAUSHALYA\",\"1136 R.A.S.A.RANATHUNGA\",\"1172 H.L.M. SOYSA\",\"1176 E.A.M. DILRUKSHI\",\"1179 P.M.RANMAL\",\"1184 K.A.S.P.KODITHUWAKKU\",\"1187 A.I.KASTHURI ARACHCHI\",\"1214 K.M.I.G.BANDARA\",\"850 H.A. NAVEEN METHMAL\",\"856 G.C.L. DE SILVA\",\"873 L.D.S.S LELWALA\",\"881 W.L.T.N. JANASINGHE\",\"882 U.S.PILLAI\",\"900 D M A O KARUNASENA\",\"927 W.M.A.A.BANDARA\",\"931 M.T.S. VIDURANGI\",\"944 H.K.U.I.JAYASEKARA\",\"960 W.M.S.D. JAYATHILAKA\",\"962 K.P.SHASHINIKA VIRAJANI JAYAWEERA\",\"970 A.P.P.D.RANAHANSI\",\"973 S.SHERONICKA\"],\"y\":[0,0,0,0,0,0,0,0,0,0,0,0,0,0,0,0,0,0,0,0,0,0,0,0,0,0,0,0,0,0,0,0,0,0,0,0,0,0,0],\"type\":\"bar\"},{\"name\":\"Wiki page viewed\",\"x\":[\"1004 W.M.W.T. BANDARANAYAKA\",\"1014 W W H K FERNANDO\",\"1027 R.T.AMARATHUNGA\",\"1031 A.H.R.SENEVIRATHNA\",\"1052 D.L.D.Y.WEERAKOON\",\"1055 K.L.H DILSHAN\",\"1056 G.P.HIRANYA\",\"1066 K.R.ROSHANTHINI\",\"1070 N.A.K. HIRUMI HANSINI CHANDRAWANSA\",\"1076 I.U.SENAVIRATHNE\",\"1082 N.M.B KANCHANAMALA\",\"1085 M.A.W.I.MADURAPPERUMA\",\"1088 R.D.T.DANANJANI\",\"1097 W.D.V.T LIYANAGE\",\"1104 S. D. E.KUMARI\",\"1109 P.M.S. GURUGE\",\"1116 B.N.B.JAYASINGHE\",\"1123 L.L.MINUSHI LAKMINDI\",\"1124 S.A.D.J.N.KAUSHALYA\",\"1136 R.A.S.A.RANATHUNGA\",\"1172 H.L.M. SOYSA\",\"1176 E.A.M. DILRUKSHI\",\"1179 P.M.RANMAL\",\"1184 K.A.S.P.KODITHUWAKKU\",\"1187 A.I.KASTHURI ARACHCHI\",\"1214 K.M.I.G.BANDARA\",\"850 H.A. NAVEEN METHMAL\",\"856 G.C.L. DE SILVA\",\"873 L.D.S.S LELWALA\",\"881 W.L.T.N. JANASINGHE\",\"882 U.S.PILLAI\",\"900 D M A O KARUNASENA\",\"927 W.M.A.A.BANDARA\",\"931 M.T.S. VIDURANGI\",\"944 H.K.U.I.JAYASEKARA\",\"960 W.M.S.D. JAYATHILAKA\",\"962 K.P.SHASHINIKA VIRAJANI JAYAWEERA\",\"970 A.P.P.D.RANAHANSI\",\"973 S.SHERONICKA\"],\"y\":[0,0,0,0,0,0,0,0,0,0,0,0,0,0,0,0,0,0,0,0,0,0,0,0,0,0,0,0,0,0,0,0,0,0,0,0,0,0,0],\"type\":\"bar\"}],                        {\"template\":{\"data\":{\"bar\":[{\"error_x\":{\"color\":\"#2a3f5f\"},\"error_y\":{\"color\":\"#2a3f5f\"},\"marker\":{\"line\":{\"color\":\"#E5ECF6\",\"width\":0.5},\"pattern\":{\"fillmode\":\"overlay\",\"size\":10,\"solidity\":0.2}},\"type\":\"bar\"}],\"barpolar\":[{\"marker\":{\"line\":{\"color\":\"#E5ECF6\",\"width\":0.5},\"pattern\":{\"fillmode\":\"overlay\",\"size\":10,\"solidity\":0.2}},\"type\":\"barpolar\"}],\"carpet\":[{\"aaxis\":{\"endlinecolor\":\"#2a3f5f\",\"gridcolor\":\"white\",\"linecolor\":\"white\",\"minorgridcolor\":\"white\",\"startlinecolor\":\"#2a3f5f\"},\"baxis\":{\"endlinecolor\":\"#2a3f5f\",\"gridcolor\":\"white\",\"linecolor\":\"white\",\"minorgridcolor\":\"white\",\"startlinecolor\":\"#2a3f5f\"},\"type\":\"carpet\"}],\"choropleth\":[{\"colorbar\":{\"outlinewidth\":0,\"ticks\":\"\"},\"type\":\"choropleth\"}],\"contour\":[{\"colorbar\":{\"outlinewidth\":0,\"ticks\":\"\"},\"colorscale\":[[0.0,\"#0d0887\"],[0.1111111111111111,\"#46039f\"],[0.2222222222222222,\"#7201a8\"],[0.3333333333333333,\"#9c179e\"],[0.4444444444444444,\"#bd3786\"],[0.5555555555555556,\"#d8576b\"],[0.6666666666666666,\"#ed7953\"],[0.7777777777777778,\"#fb9f3a\"],[0.8888888888888888,\"#fdca26\"],[1.0,\"#f0f921\"]],\"type\":\"contour\"}],\"contourcarpet\":[{\"colorbar\":{\"outlinewidth\":0,\"ticks\":\"\"},\"type\":\"contourcarpet\"}],\"heatmap\":[{\"colorbar\":{\"outlinewidth\":0,\"ticks\":\"\"},\"colorscale\":[[0.0,\"#0d0887\"],[0.1111111111111111,\"#46039f\"],[0.2222222222222222,\"#7201a8\"],[0.3333333333333333,\"#9c179e\"],[0.4444444444444444,\"#bd3786\"],[0.5555555555555556,\"#d8576b\"],[0.6666666666666666,\"#ed7953\"],[0.7777777777777778,\"#fb9f3a\"],[0.8888888888888888,\"#fdca26\"],[1.0,\"#f0f921\"]],\"type\":\"heatmap\"}],\"heatmapgl\":[{\"colorbar\":{\"outlinewidth\":0,\"ticks\":\"\"},\"colorscale\":[[0.0,\"#0d0887\"],[0.1111111111111111,\"#46039f\"],[0.2222222222222222,\"#7201a8\"],[0.3333333333333333,\"#9c179e\"],[0.4444444444444444,\"#bd3786\"],[0.5555555555555556,\"#d8576b\"],[0.6666666666666666,\"#ed7953\"],[0.7777777777777778,\"#fb9f3a\"],[0.8888888888888888,\"#fdca26\"],[1.0,\"#f0f921\"]],\"type\":\"heatmapgl\"}],\"histogram\":[{\"marker\":{\"pattern\":{\"fillmode\":\"overlay\",\"size\":10,\"solidity\":0.2}},\"type\":\"histogram\"}],\"histogram2d\":[{\"colorbar\":{\"outlinewidth\":0,\"ticks\":\"\"},\"colorscale\":[[0.0,\"#0d0887\"],[0.1111111111111111,\"#46039f\"],[0.2222222222222222,\"#7201a8\"],[0.3333333333333333,\"#9c179e\"],[0.4444444444444444,\"#bd3786\"],[0.5555555555555556,\"#d8576b\"],[0.6666666666666666,\"#ed7953\"],[0.7777777777777778,\"#fb9f3a\"],[0.8888888888888888,\"#fdca26\"],[1.0,\"#f0f921\"]],\"type\":\"histogram2d\"}],\"histogram2dcontour\":[{\"colorbar\":{\"outlinewidth\":0,\"ticks\":\"\"},\"colorscale\":[[0.0,\"#0d0887\"],[0.1111111111111111,\"#46039f\"],[0.2222222222222222,\"#7201a8\"],[0.3333333333333333,\"#9c179e\"],[0.4444444444444444,\"#bd3786\"],[0.5555555555555556,\"#d8576b\"],[0.6666666666666666,\"#ed7953\"],[0.7777777777777778,\"#fb9f3a\"],[0.8888888888888888,\"#fdca26\"],[1.0,\"#f0f921\"]],\"type\":\"histogram2dcontour\"}],\"mesh3d\":[{\"colorbar\":{\"outlinewidth\":0,\"ticks\":\"\"},\"type\":\"mesh3d\"}],\"parcoords\":[{\"line\":{\"colorbar\":{\"outlinewidth\":0,\"ticks\":\"\"}},\"type\":\"parcoords\"}],\"pie\":[{\"automargin\":true,\"type\":\"pie\"}],\"scatter\":[{\"marker\":{\"colorbar\":{\"outlinewidth\":0,\"ticks\":\"\"}},\"type\":\"scatter\"}],\"scatter3d\":[{\"line\":{\"colorbar\":{\"outlinewidth\":0,\"ticks\":\"\"}},\"marker\":{\"colorbar\":{\"outlinewidth\":0,\"ticks\":\"\"}},\"type\":\"scatter3d\"}],\"scattercarpet\":[{\"marker\":{\"colorbar\":{\"outlinewidth\":0,\"ticks\":\"\"}},\"type\":\"scattercarpet\"}],\"scattergeo\":[{\"marker\":{\"colorbar\":{\"outlinewidth\":0,\"ticks\":\"\"}},\"type\":\"scattergeo\"}],\"scattergl\":[{\"marker\":{\"colorbar\":{\"outlinewidth\":0,\"ticks\":\"\"}},\"type\":\"scattergl\"}],\"scattermapbox\":[{\"marker\":{\"colorbar\":{\"outlinewidth\":0,\"ticks\":\"\"}},\"type\":\"scattermapbox\"}],\"scatterpolar\":[{\"marker\":{\"colorbar\":{\"outlinewidth\":0,\"ticks\":\"\"}},\"type\":\"scatterpolar\"}],\"scatterpolargl\":[{\"marker\":{\"colorbar\":{\"outlinewidth\":0,\"ticks\":\"\"}},\"type\":\"scatterpolargl\"}],\"scatterternary\":[{\"marker\":{\"colorbar\":{\"outlinewidth\":0,\"ticks\":\"\"}},\"type\":\"scatterternary\"}],\"surface\":[{\"colorbar\":{\"outlinewidth\":0,\"ticks\":\"\"},\"colorscale\":[[0.0,\"#0d0887\"],[0.1111111111111111,\"#46039f\"],[0.2222222222222222,\"#7201a8\"],[0.3333333333333333,\"#9c179e\"],[0.4444444444444444,\"#bd3786\"],[0.5555555555555556,\"#d8576b\"],[0.6666666666666666,\"#ed7953\"],[0.7777777777777778,\"#fb9f3a\"],[0.8888888888888888,\"#fdca26\"],[1.0,\"#f0f921\"]],\"type\":\"surface\"}],\"table\":[{\"cells\":{\"fill\":{\"color\":\"#EBF0F8\"},\"line\":{\"color\":\"white\"}},\"header\":{\"fill\":{\"color\":\"#C8D4E3\"},\"line\":{\"color\":\"white\"}},\"type\":\"table\"}]},\"layout\":{\"annotationdefaults\":{\"arrowcolor\":\"#2a3f5f\",\"arrowhead\":0,\"arrowwidth\":1},\"autotypenumbers\":\"strict\",\"coloraxis\":{\"colorbar\":{\"outlinewidth\":0,\"ticks\":\"\"}},\"colorscale\":{\"diverging\":[[0,\"#8e0152\"],[0.1,\"#c51b7d\"],[0.2,\"#de77ae\"],[0.3,\"#f1b6da\"],[0.4,\"#fde0ef\"],[0.5,\"#f7f7f7\"],[0.6,\"#e6f5d0\"],[0.7,\"#b8e186\"],[0.8,\"#7fbc41\"],[0.9,\"#4d9221\"],[1,\"#276419\"]],\"sequential\":[[0.0,\"#0d0887\"],[0.1111111111111111,\"#46039f\"],[0.2222222222222222,\"#7201a8\"],[0.3333333333333333,\"#9c179e\"],[0.4444444444444444,\"#bd3786\"],[0.5555555555555556,\"#d8576b\"],[0.6666666666666666,\"#ed7953\"],[0.7777777777777778,\"#fb9f3a\"],[0.8888888888888888,\"#fdca26\"],[1.0,\"#f0f921\"]],\"sequentialminus\":[[0.0,\"#0d0887\"],[0.1111111111111111,\"#46039f\"],[0.2222222222222222,\"#7201a8\"],[0.3333333333333333,\"#9c179e\"],[0.4444444444444444,\"#bd3786\"],[0.5555555555555556,\"#d8576b\"],[0.6666666666666666,\"#ed7953\"],[0.7777777777777778,\"#fb9f3a\"],[0.8888888888888888,\"#fdca26\"],[1.0,\"#f0f921\"]]},\"colorway\":[\"#636efa\",\"#EF553B\",\"#00cc96\",\"#ab63fa\",\"#FFA15A\",\"#19d3f3\",\"#FF6692\",\"#B6E880\",\"#FF97FF\",\"#FECB52\"],\"font\":{\"color\":\"#2a3f5f\"},\"geo\":{\"bgcolor\":\"white\",\"lakecolor\":\"white\",\"landcolor\":\"#E5ECF6\",\"showlakes\":true,\"showland\":true,\"subunitcolor\":\"white\"},\"hoverlabel\":{\"align\":\"left\"},\"hovermode\":\"closest\",\"mapbox\":{\"style\":\"light\"},\"paper_bgcolor\":\"white\",\"plot_bgcolor\":\"#E5ECF6\",\"polar\":{\"angularaxis\":{\"gridcolor\":\"white\",\"linecolor\":\"white\",\"ticks\":\"\"},\"bgcolor\":\"#E5ECF6\",\"radialaxis\":{\"gridcolor\":\"white\",\"linecolor\":\"white\",\"ticks\":\"\"}},\"scene\":{\"xaxis\":{\"backgroundcolor\":\"#E5ECF6\",\"gridcolor\":\"white\",\"gridwidth\":2,\"linecolor\":\"white\",\"showbackground\":true,\"ticks\":\"\",\"zerolinecolor\":\"white\"},\"yaxis\":{\"backgroundcolor\":\"#E5ECF6\",\"gridcolor\":\"white\",\"gridwidth\":2,\"linecolor\":\"white\",\"showbackground\":true,\"ticks\":\"\",\"zerolinecolor\":\"white\"},\"zaxis\":{\"backgroundcolor\":\"#E5ECF6\",\"gridcolor\":\"white\",\"gridwidth\":2,\"linecolor\":\"white\",\"showbackground\":true,\"ticks\":\"\",\"zerolinecolor\":\"white\"}},\"shapedefaults\":{\"line\":{\"color\":\"#2a3f5f\"}},\"ternary\":{\"aaxis\":{\"gridcolor\":\"white\",\"linecolor\":\"white\",\"ticks\":\"\"},\"baxis\":{\"gridcolor\":\"white\",\"linecolor\":\"white\",\"ticks\":\"\"},\"bgcolor\":\"#E5ECF6\",\"caxis\":{\"gridcolor\":\"white\",\"linecolor\":\"white\",\"ticks\":\"\"}},\"title\":{\"x\":0.05},\"xaxis\":{\"automargin\":true,\"gridcolor\":\"white\",\"linecolor\":\"white\",\"ticks\":\"\",\"title\":{\"standoff\":15},\"zerolinecolor\":\"white\",\"zerolinewidth\":2},\"yaxis\":{\"automargin\":true,\"gridcolor\":\"white\",\"linecolor\":\"white\",\"ticks\":\"\",\"title\":{\"standoff\":15},\"zerolinecolor\":\"white\",\"zerolinewidth\":2}}},\"title\":{\"text\":\"LMS activity -Course: Industry Exposure - Class of 2023- as of 14-02-2022:2400\"},\"xaxis\":{\"title\":{\"text\":\"\"}},\"yaxis\":{\"title\":{\"text\":\"Numbers\"}},\"barmode\":\"stack\"},                        {\"responsive\": true}                    ).then(function(){\n",
              "                            \n",
              "var gd = document.getElementById('2bdad236-99c7-4d37-b25b-9b869d563d4e');\n",
              "var x = new MutationObserver(function (mutations, observer) {{\n",
              "        var display = window.getComputedStyle(gd).display;\n",
              "        if (!display || display === 'none') {{\n",
              "            console.log([gd, 'removed!']);\n",
              "            Plotly.purge(gd);\n",
              "            observer.disconnect();\n",
              "        }}\n",
              "}});\n",
              "\n",
              "// Listen for the removal of the full notebook cells\n",
              "var notebookContainer = gd.closest('#notebook-container');\n",
              "if (notebookContainer) {{\n",
              "    x.observe(notebookContainer, {childList: true});\n",
              "}}\n",
              "\n",
              "// Listen for the clearing of the current output cell\n",
              "var outputEl = gd.closest('.output');\n",
              "if (outputEl) {{\n",
              "    x.observe(outputEl, {childList: true});\n",
              "}}\n",
              "\n",
              "                        })                };                            </script>        </div>\n",
              "</body>\n",
              "</html>"
            ]
          },
          "metadata": {}
        }
      ]
    },
    {
      "cell_type": "code",
      "source": [
        "trrw"
      ],
      "metadata": {
        "id": "3xtJ_7VDwm12"
      },
      "execution_count": null,
      "outputs": []
    },
    {
      "cell_type": "code",
      "source": [
        "trrw.to_csv('/content/drive/My Drive/test.csv')"
      ],
      "metadata": {
        "id": "0fxHJE1kwxww"
      },
      "execution_count": null,
      "outputs": []
    },
    {
      "cell_type": "code",
      "source": [
        "trrw.sum(axis=1).sum()"
      ],
      "metadata": {
        "colab": {
          "base_uri": "https://localhost:8080/"
        },
        "id": "soTzOf_fxYZd",
        "outputId": "6e01e9b2-ce00-487a-9d1b-3108c9c61561"
      },
      "execution_count": null,
      "outputs": [
        {
          "output_type": "execute_result",
          "data": {
            "text/plain": [
              "0"
            ]
          },
          "metadata": {},
          "execution_count": 31
        }
      ]
    },
    {
      "cell_type": "markdown",
      "source": [
        "#Temp stuff"
      ],
      "metadata": {
        "id": "phAWzxqqT-xC"
      }
    },
    {
      "cell_type": "code",
      "source": [
        "xx1=users\n",
        "traceNames1=fieldsList\n",
        "yy1=[]\n",
        "for lbls in traceNames1:\n",
        "  yy1+=[LMSuserStatsPDF[lbls].to_list()]\n",
        "\n",
        "fig03 = go.Figure()\n",
        "for i,trNm in enumerate(traceNames1):\n",
        "  fig03.add_trace(go.Bar(y=yy1[i], x=xx1, name=trNm))\n",
        "\n",
        "figTitle='LMS activity count: '+usrGp+' '+usrType+' - as of '+lastDateStampStr+':2400' #Input field\n",
        "yLable='Number'\n",
        "fig03.update_layout(title=figTitle, xaxis_title='', yaxis_title=yLable, barmode='stack')\n",
        "fig03.show()\n",
        "#fig=bar_plot(xx1,yy1,traceNames1,figTitle,'',yLabel,'stack')"
      ],
      "metadata": {
        "id": "3KjI96QklgZD"
      },
      "execution_count": null,
      "outputs": []
    },
    {
      "cell_type": "code",
      "source": [
        "xx2=users\n",
        "traceNames2=componentList\n",
        "yy2=[]\n",
        "for lbls in traceNames2:\n",
        "  yy2+=[LMSuserStatsPDF[lbls].to_list()]\n",
        "\n",
        "fig04 = go.Figure()\n",
        "for i,trNm in enumerate(traceNames2):\n",
        "  fig04.add_trace(go.Bar(y=yy2[i], x=xx2, name=trNm))\n",
        "\n",
        "figTitle='Time spent: '+usrGp+' '+usrType+' - as of '+lastDateStampStr+':2400' #Input field\n",
        "yLable='Hours'\n",
        "fig04.update_layout(title=figTitle, xaxis_title='', yaxis_title=yLable, barmode='stack')\n",
        "fig04.show()\n",
        "#fig=bar_plot(xx1,yy1,traceNames1,figTitle,'',yLabel,'stack')"
      ],
      "metadata": {
        "id": "zTDIHTb1yrmM"
      },
      "execution_count": null,
      "outputs": []
    },
    {
      "cell_type": "code",
      "source": [
        "xx3=csrs\n",
        "traceNames3=columnsList\n",
        "yy3=[]\n",
        "for lbls in traceNames3:\n",
        "  yy3+=[LMCourseStatsPDF[lbls].to_list()]\n",
        "\n",
        "fig05 = go.Figure()\n",
        "for i,trNm in enumerate(traceNames3):\n",
        "  fig05.add_trace(go.Bar(y=yy3[i], x=xx3, name=trNm))\n",
        "\n",
        "figTitle='Number of activities: course wise - '+usrGp+usrType+' - as of '+lastDateStampStr+':2400' #Input field\n",
        "yLable='Numbers'\n",
        "fig05.update_layout(title=figTitle, xaxis_title='', yaxis_title=yLable, barmode='stack')\n",
        "fig05.show()\n",
        "#fig=bar_plot(xx1,yy1,traceNames1,figTitle,'',yLabel,'stack')"
      ],
      "metadata": {
        "id": "jJ1y62xeBB0q"
      },
      "execution_count": null,
      "outputs": []
    },
    {
      "cell_type": "markdown",
      "source": [
        "# Learning analytics"
      ],
      "metadata": {
        "id": "zL3rgrvFSA6Z"
      }
    },
    {
      "cell_type": "code",
      "source": [
        "from plotly.subplots import make_subplots\n",
        "from numpy import linalg as lin\n",
        "import sklearn\n",
        "from sklearn.mixture import GaussianMixture"
      ],
      "metadata": {
        "id": "t1qACh5lgM7G"
      },
      "execution_count": null,
      "outputs": []
    },
    {
      "cell_type": "markdown",
      "source": [
        "##RL Functions"
      ],
      "metadata": {
        "id": "h0U8VWRgU6ZV"
      }
    },
    {
      "cell_type": "code",
      "source": [
        "class mugas_data_analysis:\n",
        "  def __init__(self):\n",
        "    self=[];\n",
        "  \n",
        "  def grouped_bar_plot(self, dataPDF, gpFieldName, plotFieldName, figTitle):\n",
        "    xx1=[]; yy1=[]; cc1=[]; traceNames1=[];\n",
        "    gpFldList=list(set(dataPDF[gpFieldName].tolist()))\n",
        "    gpFldList.sort()\n",
        "    for xx in gpFldList:\n",
        "      temp=dataPDF[dataPDF[gpFieldName]==xx];\n",
        "      xxx1=[]; yyy1=[]; ccc1=[];\n",
        "      if plotFieldName!='':\n",
        "        plotFldList=list(set(temp[plotFieldName].to_list()))\n",
        "        plotFldList.sort()\n",
        "        for tstdt in plotFldList:\n",
        "          xxx1+=[tstdt]\n",
        "          ccc1+=[temp[temp[plotFieldName]==tstdt]];\n",
        "          yyy1+=[len(temp[temp[plotFieldName]==tstdt])];\n",
        "      else:\n",
        "        xxx1=[gpFieldName]\n",
        "        ccc1+=[temp[temp[gpFieldName]==xx]];\n",
        "        yyy1+=[len(temp[temp[gpFieldName]==xx])];\n",
        "      xx1+=[xxx1];\n",
        "      yy1+=[yyy1];\n",
        "      cc1+=[ccc1]\n",
        "      traceNames1+=[xx]\n",
        "      \n",
        "\n",
        "    fig=self.bar_plot(xx1,yy1,traceNames1,plotFieldName+' '+figTitle,'','Numbers','stack')\n",
        "    return fig\n",
        "\n",
        "  def hist_plot(self, xx, binSize, binRange, traceNames, titleText, xLabel,yLabel):\n",
        "      fig = go.Figure()\n",
        "      \n",
        "      for i,x in enumerate(xx):\n",
        "        fig.add_trace(go.Histogram(\n",
        "            x=x,\n",
        "            #histnorm='percent',\n",
        "            #cumulative_enabled=cumulative,\n",
        "            name=traceNames[i], # name used in legend and hover labels\n",
        "            xbins=dict( # bins used for histogram\n",
        "                start=binRange[0],\n",
        "                end=binRange[1],\n",
        "                size=binSize\n",
        "            ),\n",
        "            #marker_color='#EB89B5',\n",
        "            opacity=0.75\n",
        "        ))\n",
        "\n",
        "      fig.update_layout(\n",
        "          title_text=titleText, # title of plot\n",
        "          xaxis_title_text=xLabel, # xaxis label\n",
        "          yaxis_title_text=yLabel, # yaxis label\n",
        "          bargap=0.2, # gap between bars of adjacent location coordinates\n",
        "          bargroupgap=0.1 # gap between bars of the same location coordinates\n",
        "      )\n",
        "\n",
        "      fig.show()\n",
        "      #fig.write_html(\"/content/drive/My Drive/LMS Logs/Course_STATS_upto_May/\"+titleText+\".html\")\n",
        "      return fig\n",
        "\n",
        "  def scatter_plot(self, xx, yy, mode, traceName, figTitle, xLabel, yLabel):\n",
        "    fig = go.Figure()\n",
        "    for i,x in enumerate(xx):\n",
        "      fig.add_trace(go.Scatter(y=yy[i], x=x, mode=mode, name=traceName[i] ))\n",
        "    \n",
        "    \n",
        "    fig.update_layout(\n",
        "        title=figTitle, xaxis_title=xLabel, yaxis_title=yLabel,\n",
        "        xaxis=dict(\n",
        "            dtick=.01,\n",
        "            ticks='outside',\n",
        "            tickcolor='rgb(102, 102, 102)',\n",
        "        ),\n",
        "        yaxis=dict(\n",
        "            dtick=1,\n",
        "            ticks='outside',\n",
        "            tickcolor='rgb(102, 102, 102)',\n",
        "            visible=False\n",
        "        )\n",
        "    )\n",
        "    fig.show()\n",
        "    return fig\n",
        "\n",
        "  def scatter_plot3D(self,xx,yy,zz,color):\n",
        "    fig = go.Figure(data=[go.Scatter3d(x=xx, y=yy, z=zz, \n",
        "                                    mode='markers',marker=dict(\n",
        "          #size=12,\n",
        "          color=color,                # set color to an array/list of desired values\n",
        "          #colorscale='Viridis',   # choose a colorscale\n",
        "          opacity=0.5\n",
        "      ))])\n",
        "    fig.show()\n",
        "    return fig\n",
        "\n",
        "  def bar_plot(self, xx, yy, traceName, figTitle, xLabel, yLabel, barmode):\n",
        "    fig = go.Figure()\n",
        "    for i,x in enumerate(xx):\n",
        "      fig.add_trace(go.Bar(y=yy[i], x=x, name=traceName[i]))\n",
        "    \n",
        "    \n",
        "    fig.update_layout(\n",
        "        title=figTitle, xaxis_title=xLabel, yaxis_title=yLabel, barmode=barmode\n",
        "    )\n",
        "    fig.show()\n",
        "    return fig\n",
        "\n",
        "\n",
        "  def principle_component_values(self, modelDF, predictDF, nnPCs):\n",
        "    tempModelDataPDF=modelDF.copy();\n",
        "    tempPredictDataPDF=predictDF.copy();\n",
        "    #nnPCs=min(len(tempModelDataPDF.index.values),len(tempModelDataPDF.columns));\n",
        "    #nnPCs='mle'\n",
        "    pca=sklearn.decomposition.PCA(n_components=nnPCs);\n",
        "    modelnumPCA=pca.fit_transform(tempModelDataPDF);\n",
        "    PCweights=pca.singular_values_;\n",
        "    PCAmodelScore=pca.score(tempModelDataPDF);\n",
        "    predictnumPCA=pca.transform(tempPredictDataPDF);\n",
        "    PCApredictScore=pca.score(tempPredictDataPDF);\n",
        "    #scaling=sklearn.preprocessing.StandardScaler().fit(pd.DataFrame(numPCA));\n",
        "    #scaledPCA=scaling.transform(numPCA);\n",
        "    transformer = sklearn.decomposition.FactorAnalysis(n_components=nnPCs); # n_components=nnPCs, random_state=0);\n",
        "    modelsvdFactor = transformer.fit_transform(tempModelDataPDF);\n",
        "    svdFactormodelScore=transformer.score(tempModelDataPDF);\n",
        "    predictsvdFactor = transformer.transform(tempPredictDataPDF);\n",
        "    svdFactorpredictScore=transformer.score(tempPredictDataPDF);\n",
        "    \n",
        "    \n",
        "    mindex=tempModelDataPDF.index.values;\n",
        "    pindex=tempPredictDataPDF.index.values;\n",
        "    #figFactor=self.hist_plot(PPFactor.T,histBinSize, binRange, traceNames,'Distributions of the PC Factors','PC Factors','Frequency')\n",
        "    pcaOutput={'fitScores': {'PCApredictScore':PCApredictScore, 'PCAmodelScore':PCAmodelScore, 'svdFactormodelScore':svdFactormodelScore, 'svdFactorpredictScore':svdFactorpredictScore}, 'PCweights':PCweights, 'modelnumPCA':pd.DataFrame(modelnumPCA,index=mindex),'predictnumPCA':pd.DataFrame(predictnumPCA,index=pindex), 'modelsvdFactor':pd.DataFrame(modelsvdFactor,index=mindex),  'predictsvdFactor':pd.DataFrame(predictsvdFactor,index=pindex)}\n",
        "    return pcaOutput\n",
        "\n",
        "  def gmm_data_model(self, mData, nClusters):\n",
        "    #mData - numeric centered np array of shape (ndata,nfactors)\n",
        "    \n",
        "    gmm = sklearn.mixture.GaussianMixture(n_components = nClusters)\n",
        "    gmm.fit(mData)\n",
        "    labels = gmm.predict(mData)\n",
        "    clusterIC=[gmm.aic(mData), gmm.bic(mData)]\n",
        "    print(clusterIC)\n",
        "    fig1=md.scatter_plot3D(mData[:,0],mData[:,1],mData[:,2],labels)\n",
        "    \n",
        "    return {'gmm':gmm, 'clusterIC':clusterIC}\n",
        "\n",
        "\n",
        "  def gmm_data_classifier(self, model_DataPDF, predict_DataPDF,nClusters):\n",
        "    modelDataPDF0=model_DataPDF.copy();\n",
        "    predictDataPDF0=predict_DataPDF.copy();\n",
        "    modelData=modelDataPDF0.to_numpy();\n",
        "    predictData=predictDataPDF0.to_numpy();\n",
        "    nPCs=modelData.shape[1]\n",
        "    #print([modelPCA[n].shape,predictPCA[n].shape])\n",
        "    fitGMM=self.gmm_data_model(modelData,nClusters)\n",
        "    gmm=fitGMM['gmm'];\n",
        "    \n",
        "    #Plabels=[];\n",
        "    #for nn in range(nPCs):\n",
        "    #    Plabels+=['PF'+str(nn)]\n",
        "    \n",
        "    mLabels = gmm.predict(modelData)\n",
        "    #modelFitScore=gmm.score(modelData);\n",
        "    modelDist={'Model Mean':gmm.means_, 'Model Covaraince':gmm.covariances_};\n",
        "    modelSampleFitScore=gmm.score_samples(modelData);\n",
        "    modelDataPDF0['labels']=mLabels\n",
        "    modelDataPDF0['Fit Score']=modelSampleFitScore;\n",
        "\n",
        "    pLabels = gmm.predict(predictData)\n",
        "    #predictFitScore=gmm.score(predictData);\n",
        "    predictProbDist=gmm.predict_proba(predictData);\n",
        "    predictSampleFitScore=gmm.score_samples(predictData);\n",
        "    \n",
        "    predictDataPDF0['labels']=pLabels\n",
        "    predictDataPDF0['Fit Score']=predictSampleFitScore;\n",
        "    xx1=[]; yy1=[]; traceNames1=[];\n",
        "    xx2=[]; yy2=[]; traceNames2=[];\n",
        "\n",
        "    for kk in set(modelDataPDF0['labels'].to_list()):\n",
        "      xx1+=[['All Data']];\n",
        "      yy1+=[[len(modelDataPDF0[modelDataPDF0['labels']==kk])]];\n",
        "      yy2+=[[len(predictDataPDF0[predictDataPDF0['labels']==kk])]];\n",
        "      traceNames1+=['GP'+str(kk)]\n",
        "    fig21=self.bar_plot(xx1,yy1,traceNames1,'Model Clusters','','Numbers','stack')\n",
        "    fig31=self.bar_plot(xx1,yy2,traceNames1,'Predicted Clusters','','Numbers','stack')\n",
        "    #print({'modelFitScore':modelFitScore, 'predictFitScore':predictFitScore})\n",
        "    return {'labeled model data':modelDataPDF0, 'labeled predict data':predictDataPDF0,'fitScore':{'modelFitScore':modelSampleFitScore, 'predictFitScore':predictSampleFitScore},'Probability Model':modelDist}\n",
        "\n",
        "  def logistic_reg_data_classifier(self, model_XDataPDF, model_YDataPDF, predict_XDataPDF):\n",
        "    MXDataPDF=model_XDataPDF.copy();\n",
        "    MYDataPDF=model_YDataPDF.copy();\n",
        "    PXDataPDF=predict_XDataPDF.copy();\n",
        "    clf = sklearn.linear_model.LogisticRegression(random_state=0).fit(MXDataPDF.to_numpy(), MYDataPDF.to_numpy());\n",
        "    mLabels = clf.predict(MXDataPDF.to_numpy())\n",
        "    modelDist=clf.predict_proba(MXDataPDF.to_numpy());\n",
        "    modelSampleFitScore=clf.score(MXDataPDF.to_numpy(), MYDataPDF.to_numpy());\n",
        "    MXDataPDF['labels']=mLabels\n",
        "    mLabelTypes=list(set(mLabels));\n",
        "    probLabels=[];\n",
        "    for mlt in mLabelTypes:\n",
        "      probLabels+=['p('+str(mlt)+')']\n",
        "    MXDataPDF[probLabels]=modelDist;\n",
        "\n",
        "    pLabels = clf.predict(PXDataPDF.to_numpy())\n",
        "    predictDist=clf.predict_proba(PXDataPDF.to_numpy());\n",
        "    pLabelTypes=set(probLabels);\n",
        "    PXDataPDF['labels']=pLabels;\n",
        "    pLabelTypes=list(set(pLabels));\n",
        "    probLabels=[];\n",
        "    for mlt in pLabelTypes:\n",
        "      probLabels+=['p('+str(mlt)+')']\n",
        "\n",
        "    PXDataPDF[probLabels]=predictDist;\n",
        "    \n",
        "    xx1=[]; yy1=[]; traceNames1=[];\n",
        "    xx2=[]; yy2=[]; traceNames2=[];\n",
        "\n",
        "    for kk in set(MXDataPDF['labels'].to_list()):\n",
        "      xx1+=[['All Data']];\n",
        "      yy1+=[[len(MXDataPDF[MXDataPDF['labels']==kk])]];\n",
        "      yy2+=[[len(PXDataPDF[PXDataPDF['labels']==kk])]];\n",
        "      traceNames1+=['GP-'+str(kk)]\n",
        "    fig21=self.bar_plot(xx1,yy1,traceNames1,'Model Clusters','','Numbers','stack')\n",
        "    fig31=self.bar_plot(xx1,yy2,traceNames1,'Predicted Clusters','','Numbers','stack')\n",
        "    \n",
        "    \n",
        "    #print({'modelFitScore':modelFitScore, 'predictFitScore':predictFitScore})\n",
        "    return {'labeled model data':MXDataPDF, 'labeled predict data':PXDataPDF,'Probability Model':{'modelDist':modelDist,'predictDist':predictDist}}"
      ],
      "metadata": {
        "id": "AhDxn4G0SGS8"
      },
      "execution_count": null,
      "outputs": []
    },
    {
      "cell_type": "markdown",
      "source": [
        "##RL Analysis"
      ],
      "metadata": {
        "id": "spPc5OQhVGm2"
      }
    },
    {
      "cell_type": "code",
      "source": [
        "md=mugas_data_analysis()"
      ],
      "metadata": {
        "id": "LrY2hQzBU3ac"
      },
      "execution_count": null,
      "outputs": []
    },
    {
      "cell_type": "code",
      "source": [
        "RLdataPDF=pd.DataFrame(LMSuserStatsPDF[fieldsList+componentList].to_numpy(),index=LMSuserStatsPDF.index.values)"
      ],
      "metadata": {
        "id": "OD359HjzhiYm"
      },
      "execution_count": null,
      "outputs": []
    },
    {
      "cell_type": "code",
      "source": [
        "yyr=md.principle_component_values(RLdataPDF,RLdataPDF,10)  "
      ],
      "metadata": {
        "id": "62K57VF5gI3C"
      },
      "execution_count": null,
      "outputs": []
    },
    {
      "cell_type": "code",
      "source": [
        "[*yyr]"
      ],
      "metadata": {
        "colab": {
          "base_uri": "https://localhost:8080/"
        },
        "id": "0pviBTQwiF-o",
        "outputId": "ddeb416b-ef36-4a81-f584-b1dd814a2e3a"
      },
      "execution_count": null,
      "outputs": [
        {
          "output_type": "execute_result",
          "data": {
            "text/plain": [
              "['traceNames',\n",
              " 'fitScores',\n",
              " 'PCweights',\n",
              " 'modelnumPCA',\n",
              " 'predictnumPCA',\n",
              " 'modelsvdFactor',\n",
              " 'predictsvdFactor']"
            ]
          },
          "metadata": {},
          "execution_count": 38
        }
      ]
    },
    {
      "cell_type": "code",
      "source": [
        ""
      ],
      "metadata": {
        "id": "4xAxQRlHl2MB"
      },
      "execution_count": null,
      "outputs": []
    },
    {
      "cell_type": "code",
      "source": [
        "tempaPDF=yyr['predictsvdFactor']\n",
        "xx=[]\n",
        "traceNames=[]\n",
        "for zz in tempaPDF.columns:\n",
        "  xx+=[tempaPDF[zz]]\n",
        "  traceNames+=['PCA#'+str(zz)]\n"
      ],
      "metadata": {
        "id": "bIkQMgknmFk_"
      },
      "execution_count": null,
      "outputs": []
    },
    {
      "cell_type": "code",
      "source": [
        "figaa=md.hist_plot(xx,5,[-150,150], traceNames,'test','xlabel','ylabel')"
      ],
      "metadata": {
        "colab": {
          "base_uri": "https://localhost:8080/",
          "height": 542
        },
        "id": "gJyNr2-liHUh",
        "outputId": "f86cffd6-9f37-4fb3-8e0f-90acdb300104"
      },
      "execution_count": null,
      "outputs": [
        {
          "output_type": "display_data",
          "data": {
            "text/html": [
              "<html>\n",
              "<head><meta charset=\"utf-8\" /></head>\n",
              "<body>\n",
              "    <div>            <script src=\"https://cdnjs.cloudflare.com/ajax/libs/mathjax/2.7.5/MathJax.js?config=TeX-AMS-MML_SVG\"></script><script type=\"text/javascript\">if (window.MathJax) {MathJax.Hub.Config({SVG: {font: \"STIX-Web\"}});}</script>                <script type=\"text/javascript\">window.PlotlyConfig = {MathJaxConfig: 'local'};</script>\n",
              "        <script src=\"https://cdn.plot.ly/plotly-2.8.3.min.js\"></script>                <div id=\"c6e52a5b-d2f8-4214-b577-b78604e6cd28\" class=\"plotly-graph-div\" style=\"height:525px; width:100%;\"></div>            <script type=\"text/javascript\">                                    window.PLOTLYENV=window.PLOTLYENV || {};                                    if (document.getElementById(\"c6e52a5b-d2f8-4214-b577-b78604e6cd28\")) {                    Plotly.newPlot(                        \"c6e52a5b-d2f8-4214-b577-b78604e6cd28\",                        [{\"name\":\"PCA#0\",\"opacity\":0.75,\"x\":[-0.37796447405837025,-0.3779644737222137,-0.3779644735095393,-0.37796447417988643,-0.3779644730371762,-0.3779644582706285,-0.3779644732523875,-0.3779644733668902,-0.3779644741786971,-0.377964474152286,-0.3779644741746662,-0.3779644732780358,-0.3779644738467096,-0.37796447417988643,-0.37796447330038657,-0.37796447417988643,-0.37796447367726416,-0.37796447308383246,2.64575132404745,-0.37796447317596016,-0.37796447378156334,-0.3779644736334463,-0.3779644734582334,2.645751309705098,-0.3779644741770854,-0.37796447365731484,-0.37796447417988643,2.645751309062745,-0.3779644738613632,2.6457513086982636,-0.37796447105577324,-0.3779644733777407,-0.3779644728142101,-0.37796447143686823,-0.3779644738914001,-0.377964473647763,-0.37796447019249263,-0.3779644733938724,-0.37796447344167056,-0.37796447401667327,-0.37796447204307915,-0.37796447268699945,-0.37796447417988643,2.6457513092494866,-0.3779644733515696,-0.37796447417988643,-0.3779644720451016,-0.37796447404005284,-0.3779644732629025,-0.3779644736693869,2.6457513093652603,-0.3779644732020881,-0.37796447326765026,2.645751309026018,-0.37796447312630455,-0.37796447215572004,-0.37796447417988643,-0.3779644730135508,-0.37796447342084166,-0.3779644718655124,-0.37796447403113576,2.645751310037039,-0.3779644731517975,-0.37796447398391286,-0.37796447411702444,2.645751310353673,-0.37796447256440413,-0.37796447356411084,-0.3779644724264695,-0.37796447276557443,-0.37796446665800854,-0.37796447395011984],\"xbins\":{\"end\":150,\"size\":5,\"start\":-150},\"type\":\"histogram\"},{\"name\":\"PCA#1\",\"opacity\":0.75,\"x\":[-0.48212908926385817,-0.2643669868803386,-0.18130669237319183,-0.5806008931598664,0.03285926771506421,5.4415675733104365,0.058629834807846566,-0.04661727880106105,-0.5799014803522721,-0.5004919440202537,-0.5779503312305432,-0.07158601140830441,-0.384598426583599,-0.5806008931598664,-0.2511797672720534,-0.5806008931598664,-0.30119698420184016,-0.0023688537626365643,4.628881982118041,-0.03897345210730595,-0.3582939449483576,-0.2546701744680317,-0.2537129058405568,-0.36113004702380824,-0.5791510710802134,-0.23012042557527726,-0.5806008931598664,-0.7974205522851606,-0.37821246837729894,-0.9373043632050598,1.1031726185890032,0.03685391939992999,0.2578040328502173,1.0996101306219304,-0.42090337789371285,-0.2606643261582568,1.0138886022266989,-0.15901468276964456,-0.09903927959760776,-0.48463034758379936,0.5767762091083728,0.29012990952793505,-0.5806008931598664,-0.6882350179605455,-0.0725847758515178,-0.5806008931598664,0.3566881079506936,-0.40754256271041667,-0.16472263550199437,-0.2706706913106869,-0.6486796886986854,0.0012236367823179578,-0.1680616819600948,-0.8142050019081193,0.0031627729257751877,0.5985834236481196,-0.5806008931598664,0.02716636439524974,-0.1286870956186636,0.5156700433330937,-0.49352195771998375,-0.33594596300696467,-0.06686185836260923,-0.4653476540798411,-0.543631897136536,-0.04596141012711191,0.3417728976663552,-0.25085726903407823,0.34487004167730795,0.10538701357902255,2.4774109858893447,-0.4254506899517958],\"xbins\":{\"end\":150,\"size\":5,\"start\":-150},\"type\":\"histogram\"},{\"name\":\"PCA#2\",\"opacity\":0.75,\"x\":[-0.7409879620697629,-0.39028488047951987,-0.0666179592601261,-0.9414094644802125,0.7886088007482673,-1.7876749422602147,0.5468602903057634,0.589416888495073,-0.9390495163284849,-0.7110465126129178,-0.9347820219745326,0.4262853942011588,-0.28009787072729797,-0.9414094644802125,-0.9488365387395419,-0.9414094644802125,-0.6062843574955133,-0.2093444707776303,-2.270344650015309,0.2049870204720614,-0.2666625914182613,0.0020235495679346758,-0.41791713225763466,0.9395112296369944,-0.9375810658887238,-0.691895461254355,-0.9414094644802125,-0.32604324478933355,-0.44502421462340436,-0.2991080725205306,3.417475915152411,0.6620486581801533,1.1510000414885864,3.3096835627627805,-0.44431863013994854,0.06774892343091594,-0.07357504709105603,0.20233861052407096,0.12595569393521305,-0.6175848680716027,0.917250365532166,1.6696045861403932,-0.9414094644802125,-0.35039647333368973,0.16171316113812176,-0.9414094644802125,-0.4242564774104565,-0.45186565108794785,-0.2794206669057324,0.08949926943084227,0.08412991060703219,0.9760826890504002,-0.3471486993974265,-0.46202266771764017,0.34506520972172555,2.446715029494938,-0.9414094644802125,0.5206183072976018,0.14267965389425247,0.7600514770696458,-0.6497142823361978,0.5200141728088992,0.08003648580873352,-0.5525237226205519,-0.8166691688904987,2.1642598030450992,1.835220735091841,-0.22135955765106002,1.0049802214803816,0.18911272531679763,-0.35690236136943976,-0.4337703909524221],\"xbins\":{\"end\":150,\"size\":5,\"start\":-150},\"type\":\"histogram\"},{\"name\":\"PCA#3\",\"opacity\":0.75,\"x\":[-0.04935180026562595,1.4331375059109275,0.018945716596982826,-0.31652505198637465,-1.3322480570118407,-0.10732389884996532,1.68523774892827,-0.44777224767695967,-0.3184505839016876,0.08707098063852337,-0.2486143470495643,-0.3775254015955217,-0.8555549542690429,-0.31652505198637465,0.2931907063700035,-0.31652505198637465,0.2093577610113448,2.6154406548730034,-1.4663223411265667,0.27932918441605137,-0.9065314428114162,-0.16600754725505026,-0.39764695261901783,1.2453799242444312,-0.28253600515697574,2.091195482240837,-0.31652505198637465,0.08906154033466394,-0.037865580077849716,-0.228888827413763,-1.0106710356218647,2.119357849145543,0.789091595577643,2.433569753303558,-0.9193171882753743,-0.6644084424734918,-1.6320018872153998,-0.6141713777433151,0.5513416002908282,-0.580633367944715,1.7997010228092007,-0.559114300579255,-0.31652505198637465,1.3856865240551486,0.7969038729074249,-0.31652505198637465,1.6326860509689185,0.9463906513265833,-0.4637338207161625,-0.7475177885084541,0.21465568666343646,-1.5156144636243258,-0.16119463881515694,0.5519786548140272,0.014572540998741154,-1.6768159896139758,-0.31652505198637465,-1.0477653445703539,0.5604052556991875,0.7946112371238288,-0.48027129982674355,-0.33624088465511615,-0.31395637033909,-0.6338252040311595,-0.4183001176467345,-1.4553102746453854,-1.9637124099019039,-0.13040837252804846,0.3296450867464144,0.04470183626590496,2.1263502798594245,-0.37569677385936034],\"xbins\":{\"end\":150,\"size\":5,\"start\":-150},\"type\":\"histogram\"},{\"name\":\"PCA#4\",\"opacity\":0.75,\"x\":[0.8222145429111511,2.6652253875381082,1.337098893033058,-0.05473276532811736,-0.18352053716049938,-1.092990424516289,-1.8760028666276392,0.3733688444180866,-0.05476102511053456,1.2187864191104956,-0.07443276560222159,-0.8075367677645504,-0.061468583936021386,-0.05473276532811736,-0.2871437128261414,-0.05473276532811736,1.4551929769433287,-1.1091206532989986,-0.381094665984106,-1.3789543080998519,-0.04558893198337811,1.026559104524088,-0.1879639991030827,2.3495758345750546,-0.06475010936726872,-0.43230911961988394,-0.05473276532811736,-0.29453475074434127,-0.7501188213530166,-0.004931688174279459,0.4606925326567755,-1.8792745377692586,2.1254831867367208,-1.8316388221380628,0.00467342125205401,-0.05785763095334853,-0.07656821657093364,-0.34078664068887365,2.1739444187802976,-0.058347728032062146,0.3451383535831555,0.191827353942241,-0.05473276532811736,-1.3802059297725622,0.9709933231979748,-0.05473276532811736,1.0294505932076004,-1.711586756969367,-0.17696395574199209,-0.3051912494660256,-0.3225426157146169,-0.010711194876461603,-0.10516284208068115,-0.2268027198367051,-0.16252820372182367,1.301039846257032,-0.05473276532811736,0.21101134123803617,-0.32310129851017716,-0.7459866727983828,-0.07814154224074059,0.28351014164354965,-0.7168434672031467,-0.05938957375929458,-0.05621865539624993,-0.022973605736219652,-0.49786726132444464,-0.7135666425894639,-1.4446588599712773,-0.5454805928273244,3.423806790894943,-0.4488430011853336],\"xbins\":{\"end\":150,\"size\":5,\"start\":-150},\"type\":\"histogram\"},{\"name\":\"PCA#5\",\"opacity\":0.75,\"x\":[-0.8310726056803321,0.1543401505705874,-1.1082876894552471,0.08132658118816057,0.23748484241675788,-1.2973210361957699,-2.107854124323241,-2.0196229986411245,0.08026850846932126,-1.2817670457894066,0.20927415243559402,0.02067204412027374,-0.21633846149943992,0.08132658118816057,1.5348874707935953,0.08132658118816057,-0.8768094972816395,2.003441899961711,0.6626589101179982,-0.03059733033104732,-0.02899817969553903,1.5097043230849014,0.5871512347236949,-0.9424755831763564,0.14478149943220223,-1.6804354522696119,0.08132658118816057,-0.07306546241327952,-0.6033949260027329,-0.44039910004955257,1.547378922409476,-1.993302186010089,0.33007445703147775,0.677587819337682,0.0060791863971760484,-0.11960754830321414,-0.047534297843391915,0.5141351822678355,0.7620015586959379,-0.0635289674361952,-2.199334188275659,0.8963284981680354,0.08132658118816057,-0.2825357580643703,-0.6074863193824057,0.08132658118816057,2.0486031750648563,-0.6955292837664276,0.6744889278460313,-0.1124559270845017,0.6707589001266814,0.05341090739952929,0.7804861829650692,0.6921408696255907,-0.6750511257866297,-1.5581268248713682,0.08132658118816057,-0.16010832375185577,0.8047026583596008,3.9071108595472688,0.08095741131305442,0.20583042551645847,0.2663060535286354,-0.09302868755199928,0.025409645819553607,-0.49291320250822185,-1.0508471231692356,-0.03865931870599928,0.07669339365647597,1.217681529901216,0.1322651168067093,-0.3558942109122351],\"xbins\":{\"end\":150,\"size\":5,\"start\":-150},\"type\":\"histogram\"},{\"name\":\"PCA#6\",\"opacity\":0.75,\"x\":[0.20540871188252793,0.21573841164603852,0.7240409559633367,-0.1764094468208178,0.8283203435688908,0.02814524742244205,-0.03875302623362624,-0.5214060818560129,-0.17768073235201984,0.31723207730119324,-0.04112114756278206,-0.16074237513566725,-0.5320793078437972,-0.1764094468208178,2.072154656778947,-0.1764094468208178,3.1589898635157376,0.06629463638765327,0.46022434228664166,0.07033373963572152,1.0368367984347462,-2.237562773277491,0.2555630022215354,0.31580547522681185,-0.11535092265887821,0.2785218096237382,-0.1764094468208178,1.2813905447539202,-0.47454020831776256,-0.4163334125047358,3.855479267970196,0.3473691676335475,0.07427661662313904,-1.6548313991228203,2.386062979073643,-0.40112940359295995,-1.172524380789638,0.13670822972630073,-1.8397935006929933,-0.3512771614312091,1.573731664276842,0.4386552913470467,-0.1764094468208178,0.06728058523167611,0.12186175153692948,-0.1764094468208178,-0.36463156762170285,-0.6706924745292723,0.13163582126478657,-0.3637693575947865,0.6194155292573581,-1.3104413708693579,0.5967970523543654,-0.21395719327644078,0.29782546096804735,-0.23375674363950052,-0.1764094468208178,-0.7482355800759508,-1.7407080469593885,0.5125078857132865,-0.20731021516768738,-0.8924362714805367,0.5710642845794659,-0.3858991411410419,-0.24361877905451765,-1.2213895996755373,-1.2539636724816834,-0.16791387846769756,0.5185647605835719,-0.2171761974571575,-1.4756358422390121,-0.48270907194070084],\"xbins\":{\"end\":150,\"size\":5,\"start\":-150},\"type\":\"histogram\"},{\"name\":\"PCA#7\",\"opacity\":0.75,\"x\":[0.4008406081556728,-1.4975703231754245,0.5937771147996558,0.027656595770974516,-0.4424792406195374,0.9184567039706701,0.003919182959984434,0.34747340697302065,0.02742641859882659,0.593311380114442,0.021947648242697838,-0.32864758991018483,-0.03630102017632361,0.027656595770974516,-0.3607452184029356,0.027656595770974516,0.04480723248555534,-2.910899730971164,-0.2997567368161981,-0.3795293235491101,-0.3756578843074883,-2.1273925487495013,-0.1048139890354132,1.0034056108441904,0.0261775025833538,1.3939090171629056,0.027656595770974516,-0.2403512945525959,-0.12793765376098007,0.18418262964001414,-0.703342891569781,-0.21928873699042964,0.5529176901647869,0.3216148254210396,-0.6764821507910563,-0.23721248503578407,0.3518916836718392,-0.14879689812873165,3.777995717425002,-0.0036810651845554866,0.7535495079323926,-0.7434446555897112,0.027656595770974516,-0.42207766890270904,-0.6644199895602316,0.027656595770974516,0.6332512618538025,0.47910559070237213,0.07766082782012529,-0.09995388669000305,-0.011046135663634478,1.1810535918090157,-0.1697708896199176,1.561722852042746,0.024310696189431782,0.3749554327986282,0.027656595770974516,-0.5618496828540962,-1.8332546003396266,3.6362608220058346,-0.0030241045350416777,-1.090233390654331,-0.364972016190997,-0.010273313953690449,0.015497429452789585,-0.6858458657243027,-0.3215133970430347,-0.2320274441045407,-0.37931083725817416,1.6738894936792177,-2.279249126599403,-0.07575426288619451],\"xbins\":{\"end\":150,\"size\":5,\"start\":-150},\"type\":\"histogram\"},{\"name\":\"PCA#8\",\"opacity\":0.75,\"x\":[-0.5514653246544535,-0.6653769664158431,-1.094930982702921,-0.31274693769946954,1.0874426999500288,0.8846170884485336,0.23857131080861402,0.11078363478151888,-0.3120495718804114,-0.5736226543640157,-0.4070024081124238,-0.46207727739247684,-0.11763512007239514,-0.31274693769946954,-0.3353494766049998,-0.31274693769946954,2.6099173012465284,-0.47569392615034894,-0.6726530687088016,-0.5034159670620614,2.1232845792672403,1.9915435131872001,-0.9106576936420097,-0.5905573038506482,-0.36996484227324505,0.1952429192501204,-0.31274693769946954,1.861824532942111,0.08786027221402833,0.0006050725341960545,-0.5457558820132142,0.03854874305205819,0.05557963902597367,1.9376691580574201,4.5232498041397085,-0.2534297212709069,-0.10800077998762476,-0.816252201145145,2.0818386729533587,-0.2174153983952226,-1.4950405792370698,-1.339370130876552,-0.31274693769946954,-0.02892467248316819,-0.5381990254595037,-0.31274693769946954,0.16933192662576113,1.0486276843879891,-0.8472613474545081,-0.28537223371563136,-1.0016607718103065,0.6096122130607083,-1.244545390509617,0.16936494956400258,-0.7627419472954329,-0.7446611289548923,-0.31274693769946954,-0.1480938057021279,1.1041448063285317,-0.6049436588451922,-0.3432368078617778,0.027368656008625675,0.05854596981601693,-0.19783101308753182,-0.27589683009541827,0.23463260606588898,0.21967224494604343,-0.3564002582532186,-1.0384136659362062,-0.09162522452194029,0.05251337283711915,-0.005639748803772725],\"xbins\":{\"end\":150,\"size\":5,\"start\":-150},\"type\":\"histogram\"},{\"name\":\"PCA#9\",\"opacity\":0.75,\"x\":[-0.4322509132252866,-1.323005337160733,-0.8162534387098771,0.11304612443993499,0.2856919223760941,0.37843826455651947,0.07940423712890327,-0.36502791411890095,0.11318374288710911,-0.6706397232551015,0.1072999285036404,0.3203458779938814,0.15087073995006156,0.11304612443993499,0.21119280493221632,0.11304612443993499,-0.37729701600246773,0.2935744283647941,-0.26783092841220196,0.41173714718658955,0.40155133112353125,0.12274539271526543,0.1116370523907845,6.731755568581174,0.10908023624237782,-0.5059360532290159,0.11304612443993499,-0.7524260707181774,0.2550210769151134,-0.8157247909553235,-0.09950426433095558,-0.016372087182759093,-0.950288296240587,-0.2092568806631814,0.5129170180353727,0.07410884247044809,0.24063785360102183,0.42900523668715396,-1.0600377950260524,0.14113582334651725,-1.0858157773820425,-0.22701500598485672,0.11304612443993499,-0.7681344207327121,-0.4068195232095946,0.11304612443993499,-0.8420394531650524,0.5430440571274111,0.6150994155707016,0.22492797303854192,-1.1266243208475812,0.38204560583635194,-0.000899534233112312,-0.9594853953379545,-0.1603418924673809,-0.8546752904854649,0.11304612443993499,0.02313077932688529,0.7552536201555484,0.32583158371828463,0.1224013548566541,-0.9334539606155773,0.3216183225178074,0.13572367855641157,0.12059506271950188,-1.108075681170444,0.28768205213604064,0.4068801552147135,0.23417306646180577,0.04235456822412476,0.10354663454313504,0.2182664377903588],\"xbins\":{\"end\":150,\"size\":5,\"start\":-150},\"type\":\"histogram\"}],                        {\"template\":{\"data\":{\"bar\":[{\"error_x\":{\"color\":\"#2a3f5f\"},\"error_y\":{\"color\":\"#2a3f5f\"},\"marker\":{\"line\":{\"color\":\"#E5ECF6\",\"width\":0.5},\"pattern\":{\"fillmode\":\"overlay\",\"size\":10,\"solidity\":0.2}},\"type\":\"bar\"}],\"barpolar\":[{\"marker\":{\"line\":{\"color\":\"#E5ECF6\",\"width\":0.5},\"pattern\":{\"fillmode\":\"overlay\",\"size\":10,\"solidity\":0.2}},\"type\":\"barpolar\"}],\"carpet\":[{\"aaxis\":{\"endlinecolor\":\"#2a3f5f\",\"gridcolor\":\"white\",\"linecolor\":\"white\",\"minorgridcolor\":\"white\",\"startlinecolor\":\"#2a3f5f\"},\"baxis\":{\"endlinecolor\":\"#2a3f5f\",\"gridcolor\":\"white\",\"linecolor\":\"white\",\"minorgridcolor\":\"white\",\"startlinecolor\":\"#2a3f5f\"},\"type\":\"carpet\"}],\"choropleth\":[{\"colorbar\":{\"outlinewidth\":0,\"ticks\":\"\"},\"type\":\"choropleth\"}],\"contour\":[{\"colorbar\":{\"outlinewidth\":0,\"ticks\":\"\"},\"colorscale\":[[0.0,\"#0d0887\"],[0.1111111111111111,\"#46039f\"],[0.2222222222222222,\"#7201a8\"],[0.3333333333333333,\"#9c179e\"],[0.4444444444444444,\"#bd3786\"],[0.5555555555555556,\"#d8576b\"],[0.6666666666666666,\"#ed7953\"],[0.7777777777777778,\"#fb9f3a\"],[0.8888888888888888,\"#fdca26\"],[1.0,\"#f0f921\"]],\"type\":\"contour\"}],\"contourcarpet\":[{\"colorbar\":{\"outlinewidth\":0,\"ticks\":\"\"},\"type\":\"contourcarpet\"}],\"heatmap\":[{\"colorbar\":{\"outlinewidth\":0,\"ticks\":\"\"},\"colorscale\":[[0.0,\"#0d0887\"],[0.1111111111111111,\"#46039f\"],[0.2222222222222222,\"#7201a8\"],[0.3333333333333333,\"#9c179e\"],[0.4444444444444444,\"#bd3786\"],[0.5555555555555556,\"#d8576b\"],[0.6666666666666666,\"#ed7953\"],[0.7777777777777778,\"#fb9f3a\"],[0.8888888888888888,\"#fdca26\"],[1.0,\"#f0f921\"]],\"type\":\"heatmap\"}],\"heatmapgl\":[{\"colorbar\":{\"outlinewidth\":0,\"ticks\":\"\"},\"colorscale\":[[0.0,\"#0d0887\"],[0.1111111111111111,\"#46039f\"],[0.2222222222222222,\"#7201a8\"],[0.3333333333333333,\"#9c179e\"],[0.4444444444444444,\"#bd3786\"],[0.5555555555555556,\"#d8576b\"],[0.6666666666666666,\"#ed7953\"],[0.7777777777777778,\"#fb9f3a\"],[0.8888888888888888,\"#fdca26\"],[1.0,\"#f0f921\"]],\"type\":\"heatmapgl\"}],\"histogram\":[{\"marker\":{\"pattern\":{\"fillmode\":\"overlay\",\"size\":10,\"solidity\":0.2}},\"type\":\"histogram\"}],\"histogram2d\":[{\"colorbar\":{\"outlinewidth\":0,\"ticks\":\"\"},\"colorscale\":[[0.0,\"#0d0887\"],[0.1111111111111111,\"#46039f\"],[0.2222222222222222,\"#7201a8\"],[0.3333333333333333,\"#9c179e\"],[0.4444444444444444,\"#bd3786\"],[0.5555555555555556,\"#d8576b\"],[0.6666666666666666,\"#ed7953\"],[0.7777777777777778,\"#fb9f3a\"],[0.8888888888888888,\"#fdca26\"],[1.0,\"#f0f921\"]],\"type\":\"histogram2d\"}],\"histogram2dcontour\":[{\"colorbar\":{\"outlinewidth\":0,\"ticks\":\"\"},\"colorscale\":[[0.0,\"#0d0887\"],[0.1111111111111111,\"#46039f\"],[0.2222222222222222,\"#7201a8\"],[0.3333333333333333,\"#9c179e\"],[0.4444444444444444,\"#bd3786\"],[0.5555555555555556,\"#d8576b\"],[0.6666666666666666,\"#ed7953\"],[0.7777777777777778,\"#fb9f3a\"],[0.8888888888888888,\"#fdca26\"],[1.0,\"#f0f921\"]],\"type\":\"histogram2dcontour\"}],\"mesh3d\":[{\"colorbar\":{\"outlinewidth\":0,\"ticks\":\"\"},\"type\":\"mesh3d\"}],\"parcoords\":[{\"line\":{\"colorbar\":{\"outlinewidth\":0,\"ticks\":\"\"}},\"type\":\"parcoords\"}],\"pie\":[{\"automargin\":true,\"type\":\"pie\"}],\"scatter\":[{\"marker\":{\"colorbar\":{\"outlinewidth\":0,\"ticks\":\"\"}},\"type\":\"scatter\"}],\"scatter3d\":[{\"line\":{\"colorbar\":{\"outlinewidth\":0,\"ticks\":\"\"}},\"marker\":{\"colorbar\":{\"outlinewidth\":0,\"ticks\":\"\"}},\"type\":\"scatter3d\"}],\"scattercarpet\":[{\"marker\":{\"colorbar\":{\"outlinewidth\":0,\"ticks\":\"\"}},\"type\":\"scattercarpet\"}],\"scattergeo\":[{\"marker\":{\"colorbar\":{\"outlinewidth\":0,\"ticks\":\"\"}},\"type\":\"scattergeo\"}],\"scattergl\":[{\"marker\":{\"colorbar\":{\"outlinewidth\":0,\"ticks\":\"\"}},\"type\":\"scattergl\"}],\"scattermapbox\":[{\"marker\":{\"colorbar\":{\"outlinewidth\":0,\"ticks\":\"\"}},\"type\":\"scattermapbox\"}],\"scatterpolar\":[{\"marker\":{\"colorbar\":{\"outlinewidth\":0,\"ticks\":\"\"}},\"type\":\"scatterpolar\"}],\"scatterpolargl\":[{\"marker\":{\"colorbar\":{\"outlinewidth\":0,\"ticks\":\"\"}},\"type\":\"scatterpolargl\"}],\"scatterternary\":[{\"marker\":{\"colorbar\":{\"outlinewidth\":0,\"ticks\":\"\"}},\"type\":\"scatterternary\"}],\"surface\":[{\"colorbar\":{\"outlinewidth\":0,\"ticks\":\"\"},\"colorscale\":[[0.0,\"#0d0887\"],[0.1111111111111111,\"#46039f\"],[0.2222222222222222,\"#7201a8\"],[0.3333333333333333,\"#9c179e\"],[0.4444444444444444,\"#bd3786\"],[0.5555555555555556,\"#d8576b\"],[0.6666666666666666,\"#ed7953\"],[0.7777777777777778,\"#fb9f3a\"],[0.8888888888888888,\"#fdca26\"],[1.0,\"#f0f921\"]],\"type\":\"surface\"}],\"table\":[{\"cells\":{\"fill\":{\"color\":\"#EBF0F8\"},\"line\":{\"color\":\"white\"}},\"header\":{\"fill\":{\"color\":\"#C8D4E3\"},\"line\":{\"color\":\"white\"}},\"type\":\"table\"}]},\"layout\":{\"annotationdefaults\":{\"arrowcolor\":\"#2a3f5f\",\"arrowhead\":0,\"arrowwidth\":1},\"autotypenumbers\":\"strict\",\"coloraxis\":{\"colorbar\":{\"outlinewidth\":0,\"ticks\":\"\"}},\"colorscale\":{\"diverging\":[[0,\"#8e0152\"],[0.1,\"#c51b7d\"],[0.2,\"#de77ae\"],[0.3,\"#f1b6da\"],[0.4,\"#fde0ef\"],[0.5,\"#f7f7f7\"],[0.6,\"#e6f5d0\"],[0.7,\"#b8e186\"],[0.8,\"#7fbc41\"],[0.9,\"#4d9221\"],[1,\"#276419\"]],\"sequential\":[[0.0,\"#0d0887\"],[0.1111111111111111,\"#46039f\"],[0.2222222222222222,\"#7201a8\"],[0.3333333333333333,\"#9c179e\"],[0.4444444444444444,\"#bd3786\"],[0.5555555555555556,\"#d8576b\"],[0.6666666666666666,\"#ed7953\"],[0.7777777777777778,\"#fb9f3a\"],[0.8888888888888888,\"#fdca26\"],[1.0,\"#f0f921\"]],\"sequentialminus\":[[0.0,\"#0d0887\"],[0.1111111111111111,\"#46039f\"],[0.2222222222222222,\"#7201a8\"],[0.3333333333333333,\"#9c179e\"],[0.4444444444444444,\"#bd3786\"],[0.5555555555555556,\"#d8576b\"],[0.6666666666666666,\"#ed7953\"],[0.7777777777777778,\"#fb9f3a\"],[0.8888888888888888,\"#fdca26\"],[1.0,\"#f0f921\"]]},\"colorway\":[\"#636efa\",\"#EF553B\",\"#00cc96\",\"#ab63fa\",\"#FFA15A\",\"#19d3f3\",\"#FF6692\",\"#B6E880\",\"#FF97FF\",\"#FECB52\"],\"font\":{\"color\":\"#2a3f5f\"},\"geo\":{\"bgcolor\":\"white\",\"lakecolor\":\"white\",\"landcolor\":\"#E5ECF6\",\"showlakes\":true,\"showland\":true,\"subunitcolor\":\"white\"},\"hoverlabel\":{\"align\":\"left\"},\"hovermode\":\"closest\",\"mapbox\":{\"style\":\"light\"},\"paper_bgcolor\":\"white\",\"plot_bgcolor\":\"#E5ECF6\",\"polar\":{\"angularaxis\":{\"gridcolor\":\"white\",\"linecolor\":\"white\",\"ticks\":\"\"},\"bgcolor\":\"#E5ECF6\",\"radialaxis\":{\"gridcolor\":\"white\",\"linecolor\":\"white\",\"ticks\":\"\"}},\"scene\":{\"xaxis\":{\"backgroundcolor\":\"#E5ECF6\",\"gridcolor\":\"white\",\"gridwidth\":2,\"linecolor\":\"white\",\"showbackground\":true,\"ticks\":\"\",\"zerolinecolor\":\"white\"},\"yaxis\":{\"backgroundcolor\":\"#E5ECF6\",\"gridcolor\":\"white\",\"gridwidth\":2,\"linecolor\":\"white\",\"showbackground\":true,\"ticks\":\"\",\"zerolinecolor\":\"white\"},\"zaxis\":{\"backgroundcolor\":\"#E5ECF6\",\"gridcolor\":\"white\",\"gridwidth\":2,\"linecolor\":\"white\",\"showbackground\":true,\"ticks\":\"\",\"zerolinecolor\":\"white\"}},\"shapedefaults\":{\"line\":{\"color\":\"#2a3f5f\"}},\"ternary\":{\"aaxis\":{\"gridcolor\":\"white\",\"linecolor\":\"white\",\"ticks\":\"\"},\"baxis\":{\"gridcolor\":\"white\",\"linecolor\":\"white\",\"ticks\":\"\"},\"bgcolor\":\"#E5ECF6\",\"caxis\":{\"gridcolor\":\"white\",\"linecolor\":\"white\",\"ticks\":\"\"}},\"title\":{\"x\":0.05},\"xaxis\":{\"automargin\":true,\"gridcolor\":\"white\",\"linecolor\":\"white\",\"ticks\":\"\",\"title\":{\"standoff\":15},\"zerolinecolor\":\"white\",\"zerolinewidth\":2},\"yaxis\":{\"automargin\":true,\"gridcolor\":\"white\",\"linecolor\":\"white\",\"ticks\":\"\",\"title\":{\"standoff\":15},\"zerolinecolor\":\"white\",\"zerolinewidth\":2}}},\"title\":{\"text\":\"test\"},\"xaxis\":{\"title\":{\"text\":\"xlabel\"}},\"yaxis\":{\"title\":{\"text\":\"ylabel\"}},\"bargap\":0.2,\"bargroupgap\":0.1},                        {\"responsive\": true}                    ).then(function(){\n",
              "                            \n",
              "var gd = document.getElementById('c6e52a5b-d2f8-4214-b577-b78604e6cd28');\n",
              "var x = new MutationObserver(function (mutations, observer) {{\n",
              "        var display = window.getComputedStyle(gd).display;\n",
              "        if (!display || display === 'none') {{\n",
              "            console.log([gd, 'removed!']);\n",
              "            Plotly.purge(gd);\n",
              "            observer.disconnect();\n",
              "        }}\n",
              "}});\n",
              "\n",
              "// Listen for the removal of the full notebook cells\n",
              "var notebookContainer = gd.closest('#notebook-container');\n",
              "if (notebookContainer) {{\n",
              "    x.observe(notebookContainer, {childList: true});\n",
              "}}\n",
              "\n",
              "// Listen for the clearing of the current output cell\n",
              "var outputEl = gd.closest('.output');\n",
              "if (outputEl) {{\n",
              "    x.observe(outputEl, {childList: true});\n",
              "}}\n",
              "\n",
              "                        })                };                            </script>        </div>\n",
              "</body>\n",
              "</html>"
            ]
          },
          "metadata": {}
        }
      ]
    },
    {
      "cell_type": "code",
      "source": [
        "clstrs=md.gmm_data_classifier(tempaPDF,tempaPDF,2)"
      ],
      "metadata": {
        "colab": {
          "base_uri": "https://localhost:8080/",
          "height": 1000
        },
        "id": "pYj8h4b5pmjm",
        "outputId": "5b69c732-ec9a-43ca-e7b9-d86fe6b21214"
      },
      "execution_count": null,
      "outputs": [
        {
          "output_type": "stream",
          "name": "stdout",
          "text": [
            "[1775.2488964037661, 2073.4921579948696]\n"
          ]
        },
        {
          "output_type": "display_data",
          "data": {
            "text/html": [
              "<html>\n",
              "<head><meta charset=\"utf-8\" /></head>\n",
              "<body>\n",
              "    <div>            <script src=\"https://cdnjs.cloudflare.com/ajax/libs/mathjax/2.7.5/MathJax.js?config=TeX-AMS-MML_SVG\"></script><script type=\"text/javascript\">if (window.MathJax) {MathJax.Hub.Config({SVG: {font: \"STIX-Web\"}});}</script>                <script type=\"text/javascript\">window.PlotlyConfig = {MathJaxConfig: 'local'};</script>\n",
              "        <script src=\"https://cdn.plot.ly/plotly-2.8.3.min.js\"></script>                <div id=\"595225c6-7def-4a86-ab3e-fc23068b9000\" class=\"plotly-graph-div\" style=\"height:525px; width:100%;\"></div>            <script type=\"text/javascript\">                                    window.PLOTLYENV=window.PLOTLYENV || {};                                    if (document.getElementById(\"595225c6-7def-4a86-ab3e-fc23068b9000\")) {                    Plotly.newPlot(                        \"595225c6-7def-4a86-ab3e-fc23068b9000\",                        [{\"marker\":{\"color\":[0,0,0,0,0,0,0,0,0,0,0,0,0,0,0,0,0,1,0,0,0,1,0,0,0,0,0,0,0,0,0,0,0,1,0,0,0,0,0,0,0,0,0,0,0,0,0,0,0,0,0,0,0,0,0,0,0,0,1,0,0,0,0,0,0,0,0,0,0,0,1,0],\"opacity\":0.5},\"mode\":\"markers\",\"x\":[-0.37796447405837025,-0.3779644737222137,-0.3779644735095393,-0.37796447417988643,-0.3779644730371762,-0.3779644582706285,-0.3779644732523875,-0.3779644733668902,-0.3779644741786971,-0.377964474152286,-0.3779644741746662,-0.3779644732780358,-0.3779644738467096,-0.37796447417988643,-0.37796447330038657,-0.37796447417988643,-0.37796447367726416,-0.37796447308383246,2.64575132404745,-0.37796447317596016,-0.37796447378156334,-0.3779644736334463,-0.3779644734582334,2.645751309705098,-0.3779644741770854,-0.37796447365731484,-0.37796447417988643,2.645751309062745,-0.3779644738613632,2.6457513086982636,-0.37796447105577324,-0.3779644733777407,-0.3779644728142101,-0.37796447143686823,-0.3779644738914001,-0.377964473647763,-0.37796447019249263,-0.3779644733938724,-0.37796447344167056,-0.37796447401667327,-0.37796447204307915,-0.37796447268699945,-0.37796447417988643,2.6457513092494866,-0.3779644733515696,-0.37796447417988643,-0.3779644720451016,-0.37796447404005284,-0.3779644732629025,-0.3779644736693869,2.6457513093652603,-0.3779644732020881,-0.37796447326765026,2.645751309026018,-0.37796447312630455,-0.37796447215572004,-0.37796447417988643,-0.3779644730135508,-0.37796447342084166,-0.3779644718655124,-0.37796447403113576,2.645751310037039,-0.3779644731517975,-0.37796447398391286,-0.37796447411702444,2.645751310353673,-0.37796447256440413,-0.37796447356411084,-0.3779644724264695,-0.37796447276557443,-0.37796446665800854,-0.37796447395011984],\"y\":[-0.48212908926385817,-0.2643669868803386,-0.18130669237319183,-0.5806008931598664,0.03285926771506421,5.4415675733104365,0.058629834807846566,-0.04661727880106105,-0.5799014803522721,-0.5004919440202537,-0.5779503312305432,-0.07158601140830441,-0.384598426583599,-0.5806008931598664,-0.2511797672720534,-0.5806008931598664,-0.30119698420184016,-0.0023688537626365643,4.628881982118041,-0.03897345210730595,-0.3582939449483576,-0.2546701744680317,-0.2537129058405568,-0.36113004702380824,-0.5791510710802134,-0.23012042557527726,-0.5806008931598664,-0.7974205522851606,-0.37821246837729894,-0.9373043632050598,1.1031726185890032,0.03685391939992999,0.2578040328502173,1.0996101306219304,-0.42090337789371285,-0.2606643261582568,1.0138886022266989,-0.15901468276964456,-0.09903927959760776,-0.48463034758379936,0.5767762091083728,0.29012990952793505,-0.5806008931598664,-0.6882350179605455,-0.0725847758515178,-0.5806008931598664,0.3566881079506936,-0.40754256271041667,-0.16472263550199437,-0.2706706913106869,-0.6486796886986854,0.0012236367823179578,-0.1680616819600948,-0.8142050019081193,0.0031627729257751877,0.5985834236481196,-0.5806008931598664,0.02716636439524974,-0.1286870956186636,0.5156700433330937,-0.49352195771998375,-0.33594596300696467,-0.06686185836260923,-0.4653476540798411,-0.543631897136536,-0.04596141012711191,0.3417728976663552,-0.25085726903407823,0.34487004167730795,0.10538701357902255,2.4774109858893447,-0.4254506899517958],\"z\":[-0.7409879620697629,-0.39028488047951987,-0.0666179592601261,-0.9414094644802125,0.7886088007482673,-1.7876749422602147,0.5468602903057634,0.589416888495073,-0.9390495163284849,-0.7110465126129178,-0.9347820219745326,0.4262853942011588,-0.28009787072729797,-0.9414094644802125,-0.9488365387395419,-0.9414094644802125,-0.6062843574955133,-0.2093444707776303,-2.270344650015309,0.2049870204720614,-0.2666625914182613,0.0020235495679346758,-0.41791713225763466,0.9395112296369944,-0.9375810658887238,-0.691895461254355,-0.9414094644802125,-0.32604324478933355,-0.44502421462340436,-0.2991080725205306,3.417475915152411,0.6620486581801533,1.1510000414885864,3.3096835627627805,-0.44431863013994854,0.06774892343091594,-0.07357504709105603,0.20233861052407096,0.12595569393521305,-0.6175848680716027,0.917250365532166,1.6696045861403932,-0.9414094644802125,-0.35039647333368973,0.16171316113812176,-0.9414094644802125,-0.4242564774104565,-0.45186565108794785,-0.2794206669057324,0.08949926943084227,0.08412991060703219,0.9760826890504002,-0.3471486993974265,-0.46202266771764017,0.34506520972172555,2.446715029494938,-0.9414094644802125,0.5206183072976018,0.14267965389425247,0.7600514770696458,-0.6497142823361978,0.5200141728088992,0.08003648580873352,-0.5525237226205519,-0.8166691688904987,2.1642598030450992,1.835220735091841,-0.22135955765106002,1.0049802214803816,0.18911272531679763,-0.35690236136943976,-0.4337703909524221],\"type\":\"scatter3d\"}],                        {\"template\":{\"data\":{\"bar\":[{\"error_x\":{\"color\":\"#2a3f5f\"},\"error_y\":{\"color\":\"#2a3f5f\"},\"marker\":{\"line\":{\"color\":\"#E5ECF6\",\"width\":0.5},\"pattern\":{\"fillmode\":\"overlay\",\"size\":10,\"solidity\":0.2}},\"type\":\"bar\"}],\"barpolar\":[{\"marker\":{\"line\":{\"color\":\"#E5ECF6\",\"width\":0.5},\"pattern\":{\"fillmode\":\"overlay\",\"size\":10,\"solidity\":0.2}},\"type\":\"barpolar\"}],\"carpet\":[{\"aaxis\":{\"endlinecolor\":\"#2a3f5f\",\"gridcolor\":\"white\",\"linecolor\":\"white\",\"minorgridcolor\":\"white\",\"startlinecolor\":\"#2a3f5f\"},\"baxis\":{\"endlinecolor\":\"#2a3f5f\",\"gridcolor\":\"white\",\"linecolor\":\"white\",\"minorgridcolor\":\"white\",\"startlinecolor\":\"#2a3f5f\"},\"type\":\"carpet\"}],\"choropleth\":[{\"colorbar\":{\"outlinewidth\":0,\"ticks\":\"\"},\"type\":\"choropleth\"}],\"contour\":[{\"colorbar\":{\"outlinewidth\":0,\"ticks\":\"\"},\"colorscale\":[[0.0,\"#0d0887\"],[0.1111111111111111,\"#46039f\"],[0.2222222222222222,\"#7201a8\"],[0.3333333333333333,\"#9c179e\"],[0.4444444444444444,\"#bd3786\"],[0.5555555555555556,\"#d8576b\"],[0.6666666666666666,\"#ed7953\"],[0.7777777777777778,\"#fb9f3a\"],[0.8888888888888888,\"#fdca26\"],[1.0,\"#f0f921\"]],\"type\":\"contour\"}],\"contourcarpet\":[{\"colorbar\":{\"outlinewidth\":0,\"ticks\":\"\"},\"type\":\"contourcarpet\"}],\"heatmap\":[{\"colorbar\":{\"outlinewidth\":0,\"ticks\":\"\"},\"colorscale\":[[0.0,\"#0d0887\"],[0.1111111111111111,\"#46039f\"],[0.2222222222222222,\"#7201a8\"],[0.3333333333333333,\"#9c179e\"],[0.4444444444444444,\"#bd3786\"],[0.5555555555555556,\"#d8576b\"],[0.6666666666666666,\"#ed7953\"],[0.7777777777777778,\"#fb9f3a\"],[0.8888888888888888,\"#fdca26\"],[1.0,\"#f0f921\"]],\"type\":\"heatmap\"}],\"heatmapgl\":[{\"colorbar\":{\"outlinewidth\":0,\"ticks\":\"\"},\"colorscale\":[[0.0,\"#0d0887\"],[0.1111111111111111,\"#46039f\"],[0.2222222222222222,\"#7201a8\"],[0.3333333333333333,\"#9c179e\"],[0.4444444444444444,\"#bd3786\"],[0.5555555555555556,\"#d8576b\"],[0.6666666666666666,\"#ed7953\"],[0.7777777777777778,\"#fb9f3a\"],[0.8888888888888888,\"#fdca26\"],[1.0,\"#f0f921\"]],\"type\":\"heatmapgl\"}],\"histogram\":[{\"marker\":{\"pattern\":{\"fillmode\":\"overlay\",\"size\":10,\"solidity\":0.2}},\"type\":\"histogram\"}],\"histogram2d\":[{\"colorbar\":{\"outlinewidth\":0,\"ticks\":\"\"},\"colorscale\":[[0.0,\"#0d0887\"],[0.1111111111111111,\"#46039f\"],[0.2222222222222222,\"#7201a8\"],[0.3333333333333333,\"#9c179e\"],[0.4444444444444444,\"#bd3786\"],[0.5555555555555556,\"#d8576b\"],[0.6666666666666666,\"#ed7953\"],[0.7777777777777778,\"#fb9f3a\"],[0.8888888888888888,\"#fdca26\"],[1.0,\"#f0f921\"]],\"type\":\"histogram2d\"}],\"histogram2dcontour\":[{\"colorbar\":{\"outlinewidth\":0,\"ticks\":\"\"},\"colorscale\":[[0.0,\"#0d0887\"],[0.1111111111111111,\"#46039f\"],[0.2222222222222222,\"#7201a8\"],[0.3333333333333333,\"#9c179e\"],[0.4444444444444444,\"#bd3786\"],[0.5555555555555556,\"#d8576b\"],[0.6666666666666666,\"#ed7953\"],[0.7777777777777778,\"#fb9f3a\"],[0.8888888888888888,\"#fdca26\"],[1.0,\"#f0f921\"]],\"type\":\"histogram2dcontour\"}],\"mesh3d\":[{\"colorbar\":{\"outlinewidth\":0,\"ticks\":\"\"},\"type\":\"mesh3d\"}],\"parcoords\":[{\"line\":{\"colorbar\":{\"outlinewidth\":0,\"ticks\":\"\"}},\"type\":\"parcoords\"}],\"pie\":[{\"automargin\":true,\"type\":\"pie\"}],\"scatter\":[{\"marker\":{\"colorbar\":{\"outlinewidth\":0,\"ticks\":\"\"}},\"type\":\"scatter\"}],\"scatter3d\":[{\"line\":{\"colorbar\":{\"outlinewidth\":0,\"ticks\":\"\"}},\"marker\":{\"colorbar\":{\"outlinewidth\":0,\"ticks\":\"\"}},\"type\":\"scatter3d\"}],\"scattercarpet\":[{\"marker\":{\"colorbar\":{\"outlinewidth\":0,\"ticks\":\"\"}},\"type\":\"scattercarpet\"}],\"scattergeo\":[{\"marker\":{\"colorbar\":{\"outlinewidth\":0,\"ticks\":\"\"}},\"type\":\"scattergeo\"}],\"scattergl\":[{\"marker\":{\"colorbar\":{\"outlinewidth\":0,\"ticks\":\"\"}},\"type\":\"scattergl\"}],\"scattermapbox\":[{\"marker\":{\"colorbar\":{\"outlinewidth\":0,\"ticks\":\"\"}},\"type\":\"scattermapbox\"}],\"scatterpolar\":[{\"marker\":{\"colorbar\":{\"outlinewidth\":0,\"ticks\":\"\"}},\"type\":\"scatterpolar\"}],\"scatterpolargl\":[{\"marker\":{\"colorbar\":{\"outlinewidth\":0,\"ticks\":\"\"}},\"type\":\"scatterpolargl\"}],\"scatterternary\":[{\"marker\":{\"colorbar\":{\"outlinewidth\":0,\"ticks\":\"\"}},\"type\":\"scatterternary\"}],\"surface\":[{\"colorbar\":{\"outlinewidth\":0,\"ticks\":\"\"},\"colorscale\":[[0.0,\"#0d0887\"],[0.1111111111111111,\"#46039f\"],[0.2222222222222222,\"#7201a8\"],[0.3333333333333333,\"#9c179e\"],[0.4444444444444444,\"#bd3786\"],[0.5555555555555556,\"#d8576b\"],[0.6666666666666666,\"#ed7953\"],[0.7777777777777778,\"#fb9f3a\"],[0.8888888888888888,\"#fdca26\"],[1.0,\"#f0f921\"]],\"type\":\"surface\"}],\"table\":[{\"cells\":{\"fill\":{\"color\":\"#EBF0F8\"},\"line\":{\"color\":\"white\"}},\"header\":{\"fill\":{\"color\":\"#C8D4E3\"},\"line\":{\"color\":\"white\"}},\"type\":\"table\"}]},\"layout\":{\"annotationdefaults\":{\"arrowcolor\":\"#2a3f5f\",\"arrowhead\":0,\"arrowwidth\":1},\"autotypenumbers\":\"strict\",\"coloraxis\":{\"colorbar\":{\"outlinewidth\":0,\"ticks\":\"\"}},\"colorscale\":{\"diverging\":[[0,\"#8e0152\"],[0.1,\"#c51b7d\"],[0.2,\"#de77ae\"],[0.3,\"#f1b6da\"],[0.4,\"#fde0ef\"],[0.5,\"#f7f7f7\"],[0.6,\"#e6f5d0\"],[0.7,\"#b8e186\"],[0.8,\"#7fbc41\"],[0.9,\"#4d9221\"],[1,\"#276419\"]],\"sequential\":[[0.0,\"#0d0887\"],[0.1111111111111111,\"#46039f\"],[0.2222222222222222,\"#7201a8\"],[0.3333333333333333,\"#9c179e\"],[0.4444444444444444,\"#bd3786\"],[0.5555555555555556,\"#d8576b\"],[0.6666666666666666,\"#ed7953\"],[0.7777777777777778,\"#fb9f3a\"],[0.8888888888888888,\"#fdca26\"],[1.0,\"#f0f921\"]],\"sequentialminus\":[[0.0,\"#0d0887\"],[0.1111111111111111,\"#46039f\"],[0.2222222222222222,\"#7201a8\"],[0.3333333333333333,\"#9c179e\"],[0.4444444444444444,\"#bd3786\"],[0.5555555555555556,\"#d8576b\"],[0.6666666666666666,\"#ed7953\"],[0.7777777777777778,\"#fb9f3a\"],[0.8888888888888888,\"#fdca26\"],[1.0,\"#f0f921\"]]},\"colorway\":[\"#636efa\",\"#EF553B\",\"#00cc96\",\"#ab63fa\",\"#FFA15A\",\"#19d3f3\",\"#FF6692\",\"#B6E880\",\"#FF97FF\",\"#FECB52\"],\"font\":{\"color\":\"#2a3f5f\"},\"geo\":{\"bgcolor\":\"white\",\"lakecolor\":\"white\",\"landcolor\":\"#E5ECF6\",\"showlakes\":true,\"showland\":true,\"subunitcolor\":\"white\"},\"hoverlabel\":{\"align\":\"left\"},\"hovermode\":\"closest\",\"mapbox\":{\"style\":\"light\"},\"paper_bgcolor\":\"white\",\"plot_bgcolor\":\"#E5ECF6\",\"polar\":{\"angularaxis\":{\"gridcolor\":\"white\",\"linecolor\":\"white\",\"ticks\":\"\"},\"bgcolor\":\"#E5ECF6\",\"radialaxis\":{\"gridcolor\":\"white\",\"linecolor\":\"white\",\"ticks\":\"\"}},\"scene\":{\"xaxis\":{\"backgroundcolor\":\"#E5ECF6\",\"gridcolor\":\"white\",\"gridwidth\":2,\"linecolor\":\"white\",\"showbackground\":true,\"ticks\":\"\",\"zerolinecolor\":\"white\"},\"yaxis\":{\"backgroundcolor\":\"#E5ECF6\",\"gridcolor\":\"white\",\"gridwidth\":2,\"linecolor\":\"white\",\"showbackground\":true,\"ticks\":\"\",\"zerolinecolor\":\"white\"},\"zaxis\":{\"backgroundcolor\":\"#E5ECF6\",\"gridcolor\":\"white\",\"gridwidth\":2,\"linecolor\":\"white\",\"showbackground\":true,\"ticks\":\"\",\"zerolinecolor\":\"white\"}},\"shapedefaults\":{\"line\":{\"color\":\"#2a3f5f\"}},\"ternary\":{\"aaxis\":{\"gridcolor\":\"white\",\"linecolor\":\"white\",\"ticks\":\"\"},\"baxis\":{\"gridcolor\":\"white\",\"linecolor\":\"white\",\"ticks\":\"\"},\"bgcolor\":\"#E5ECF6\",\"caxis\":{\"gridcolor\":\"white\",\"linecolor\":\"white\",\"ticks\":\"\"}},\"title\":{\"x\":0.05},\"xaxis\":{\"automargin\":true,\"gridcolor\":\"white\",\"linecolor\":\"white\",\"ticks\":\"\",\"title\":{\"standoff\":15},\"zerolinecolor\":\"white\",\"zerolinewidth\":2},\"yaxis\":{\"automargin\":true,\"gridcolor\":\"white\",\"linecolor\":\"white\",\"ticks\":\"\",\"title\":{\"standoff\":15},\"zerolinecolor\":\"white\",\"zerolinewidth\":2}}}},                        {\"responsive\": true}                    ).then(function(){\n",
              "                            \n",
              "var gd = document.getElementById('595225c6-7def-4a86-ab3e-fc23068b9000');\n",
              "var x = new MutationObserver(function (mutations, observer) {{\n",
              "        var display = window.getComputedStyle(gd).display;\n",
              "        if (!display || display === 'none') {{\n",
              "            console.log([gd, 'removed!']);\n",
              "            Plotly.purge(gd);\n",
              "            observer.disconnect();\n",
              "        }}\n",
              "}});\n",
              "\n",
              "// Listen for the removal of the full notebook cells\n",
              "var notebookContainer = gd.closest('#notebook-container');\n",
              "if (notebookContainer) {{\n",
              "    x.observe(notebookContainer, {childList: true});\n",
              "}}\n",
              "\n",
              "// Listen for the clearing of the current output cell\n",
              "var outputEl = gd.closest('.output');\n",
              "if (outputEl) {{\n",
              "    x.observe(outputEl, {childList: true});\n",
              "}}\n",
              "\n",
              "                        })                };                            </script>        </div>\n",
              "</body>\n",
              "</html>"
            ]
          },
          "metadata": {}
        },
        {
          "output_type": "display_data",
          "data": {
            "text/html": [
              "<html>\n",
              "<head><meta charset=\"utf-8\" /></head>\n",
              "<body>\n",
              "    <div>            <script src=\"https://cdnjs.cloudflare.com/ajax/libs/mathjax/2.7.5/MathJax.js?config=TeX-AMS-MML_SVG\"></script><script type=\"text/javascript\">if (window.MathJax) {MathJax.Hub.Config({SVG: {font: \"STIX-Web\"}});}</script>                <script type=\"text/javascript\">window.PlotlyConfig = {MathJaxConfig: 'local'};</script>\n",
              "        <script src=\"https://cdn.plot.ly/plotly-2.8.3.min.js\"></script>                <div id=\"139478b2-3f1c-4eab-880b-2985133c6ca2\" class=\"plotly-graph-div\" style=\"height:525px; width:100%;\"></div>            <script type=\"text/javascript\">                                    window.PLOTLYENV=window.PLOTLYENV || {};                                    if (document.getElementById(\"139478b2-3f1c-4eab-880b-2985133c6ca2\")) {                    Plotly.newPlot(                        \"139478b2-3f1c-4eab-880b-2985133c6ca2\",                        [{\"name\":\"GP0\",\"x\":[\"All Data\"],\"y\":[67],\"type\":\"bar\"},{\"name\":\"GP1\",\"x\":[\"All Data\"],\"y\":[5],\"type\":\"bar\"}],                        {\"template\":{\"data\":{\"bar\":[{\"error_x\":{\"color\":\"#2a3f5f\"},\"error_y\":{\"color\":\"#2a3f5f\"},\"marker\":{\"line\":{\"color\":\"#E5ECF6\",\"width\":0.5},\"pattern\":{\"fillmode\":\"overlay\",\"size\":10,\"solidity\":0.2}},\"type\":\"bar\"}],\"barpolar\":[{\"marker\":{\"line\":{\"color\":\"#E5ECF6\",\"width\":0.5},\"pattern\":{\"fillmode\":\"overlay\",\"size\":10,\"solidity\":0.2}},\"type\":\"barpolar\"}],\"carpet\":[{\"aaxis\":{\"endlinecolor\":\"#2a3f5f\",\"gridcolor\":\"white\",\"linecolor\":\"white\",\"minorgridcolor\":\"white\",\"startlinecolor\":\"#2a3f5f\"},\"baxis\":{\"endlinecolor\":\"#2a3f5f\",\"gridcolor\":\"white\",\"linecolor\":\"white\",\"minorgridcolor\":\"white\",\"startlinecolor\":\"#2a3f5f\"},\"type\":\"carpet\"}],\"choropleth\":[{\"colorbar\":{\"outlinewidth\":0,\"ticks\":\"\"},\"type\":\"choropleth\"}],\"contour\":[{\"colorbar\":{\"outlinewidth\":0,\"ticks\":\"\"},\"colorscale\":[[0.0,\"#0d0887\"],[0.1111111111111111,\"#46039f\"],[0.2222222222222222,\"#7201a8\"],[0.3333333333333333,\"#9c179e\"],[0.4444444444444444,\"#bd3786\"],[0.5555555555555556,\"#d8576b\"],[0.6666666666666666,\"#ed7953\"],[0.7777777777777778,\"#fb9f3a\"],[0.8888888888888888,\"#fdca26\"],[1.0,\"#f0f921\"]],\"type\":\"contour\"}],\"contourcarpet\":[{\"colorbar\":{\"outlinewidth\":0,\"ticks\":\"\"},\"type\":\"contourcarpet\"}],\"heatmap\":[{\"colorbar\":{\"outlinewidth\":0,\"ticks\":\"\"},\"colorscale\":[[0.0,\"#0d0887\"],[0.1111111111111111,\"#46039f\"],[0.2222222222222222,\"#7201a8\"],[0.3333333333333333,\"#9c179e\"],[0.4444444444444444,\"#bd3786\"],[0.5555555555555556,\"#d8576b\"],[0.6666666666666666,\"#ed7953\"],[0.7777777777777778,\"#fb9f3a\"],[0.8888888888888888,\"#fdca26\"],[1.0,\"#f0f921\"]],\"type\":\"heatmap\"}],\"heatmapgl\":[{\"colorbar\":{\"outlinewidth\":0,\"ticks\":\"\"},\"colorscale\":[[0.0,\"#0d0887\"],[0.1111111111111111,\"#46039f\"],[0.2222222222222222,\"#7201a8\"],[0.3333333333333333,\"#9c179e\"],[0.4444444444444444,\"#bd3786\"],[0.5555555555555556,\"#d8576b\"],[0.6666666666666666,\"#ed7953\"],[0.7777777777777778,\"#fb9f3a\"],[0.8888888888888888,\"#fdca26\"],[1.0,\"#f0f921\"]],\"type\":\"heatmapgl\"}],\"histogram\":[{\"marker\":{\"pattern\":{\"fillmode\":\"overlay\",\"size\":10,\"solidity\":0.2}},\"type\":\"histogram\"}],\"histogram2d\":[{\"colorbar\":{\"outlinewidth\":0,\"ticks\":\"\"},\"colorscale\":[[0.0,\"#0d0887\"],[0.1111111111111111,\"#46039f\"],[0.2222222222222222,\"#7201a8\"],[0.3333333333333333,\"#9c179e\"],[0.4444444444444444,\"#bd3786\"],[0.5555555555555556,\"#d8576b\"],[0.6666666666666666,\"#ed7953\"],[0.7777777777777778,\"#fb9f3a\"],[0.8888888888888888,\"#fdca26\"],[1.0,\"#f0f921\"]],\"type\":\"histogram2d\"}],\"histogram2dcontour\":[{\"colorbar\":{\"outlinewidth\":0,\"ticks\":\"\"},\"colorscale\":[[0.0,\"#0d0887\"],[0.1111111111111111,\"#46039f\"],[0.2222222222222222,\"#7201a8\"],[0.3333333333333333,\"#9c179e\"],[0.4444444444444444,\"#bd3786\"],[0.5555555555555556,\"#d8576b\"],[0.6666666666666666,\"#ed7953\"],[0.7777777777777778,\"#fb9f3a\"],[0.8888888888888888,\"#fdca26\"],[1.0,\"#f0f921\"]],\"type\":\"histogram2dcontour\"}],\"mesh3d\":[{\"colorbar\":{\"outlinewidth\":0,\"ticks\":\"\"},\"type\":\"mesh3d\"}],\"parcoords\":[{\"line\":{\"colorbar\":{\"outlinewidth\":0,\"ticks\":\"\"}},\"type\":\"parcoords\"}],\"pie\":[{\"automargin\":true,\"type\":\"pie\"}],\"scatter\":[{\"marker\":{\"colorbar\":{\"outlinewidth\":0,\"ticks\":\"\"}},\"type\":\"scatter\"}],\"scatter3d\":[{\"line\":{\"colorbar\":{\"outlinewidth\":0,\"ticks\":\"\"}},\"marker\":{\"colorbar\":{\"outlinewidth\":0,\"ticks\":\"\"}},\"type\":\"scatter3d\"}],\"scattercarpet\":[{\"marker\":{\"colorbar\":{\"outlinewidth\":0,\"ticks\":\"\"}},\"type\":\"scattercarpet\"}],\"scattergeo\":[{\"marker\":{\"colorbar\":{\"outlinewidth\":0,\"ticks\":\"\"}},\"type\":\"scattergeo\"}],\"scattergl\":[{\"marker\":{\"colorbar\":{\"outlinewidth\":0,\"ticks\":\"\"}},\"type\":\"scattergl\"}],\"scattermapbox\":[{\"marker\":{\"colorbar\":{\"outlinewidth\":0,\"ticks\":\"\"}},\"type\":\"scattermapbox\"}],\"scatterpolar\":[{\"marker\":{\"colorbar\":{\"outlinewidth\":0,\"ticks\":\"\"}},\"type\":\"scatterpolar\"}],\"scatterpolargl\":[{\"marker\":{\"colorbar\":{\"outlinewidth\":0,\"ticks\":\"\"}},\"type\":\"scatterpolargl\"}],\"scatterternary\":[{\"marker\":{\"colorbar\":{\"outlinewidth\":0,\"ticks\":\"\"}},\"type\":\"scatterternary\"}],\"surface\":[{\"colorbar\":{\"outlinewidth\":0,\"ticks\":\"\"},\"colorscale\":[[0.0,\"#0d0887\"],[0.1111111111111111,\"#46039f\"],[0.2222222222222222,\"#7201a8\"],[0.3333333333333333,\"#9c179e\"],[0.4444444444444444,\"#bd3786\"],[0.5555555555555556,\"#d8576b\"],[0.6666666666666666,\"#ed7953\"],[0.7777777777777778,\"#fb9f3a\"],[0.8888888888888888,\"#fdca26\"],[1.0,\"#f0f921\"]],\"type\":\"surface\"}],\"table\":[{\"cells\":{\"fill\":{\"color\":\"#EBF0F8\"},\"line\":{\"color\":\"white\"}},\"header\":{\"fill\":{\"color\":\"#C8D4E3\"},\"line\":{\"color\":\"white\"}},\"type\":\"table\"}]},\"layout\":{\"annotationdefaults\":{\"arrowcolor\":\"#2a3f5f\",\"arrowhead\":0,\"arrowwidth\":1},\"autotypenumbers\":\"strict\",\"coloraxis\":{\"colorbar\":{\"outlinewidth\":0,\"ticks\":\"\"}},\"colorscale\":{\"diverging\":[[0,\"#8e0152\"],[0.1,\"#c51b7d\"],[0.2,\"#de77ae\"],[0.3,\"#f1b6da\"],[0.4,\"#fde0ef\"],[0.5,\"#f7f7f7\"],[0.6,\"#e6f5d0\"],[0.7,\"#b8e186\"],[0.8,\"#7fbc41\"],[0.9,\"#4d9221\"],[1,\"#276419\"]],\"sequential\":[[0.0,\"#0d0887\"],[0.1111111111111111,\"#46039f\"],[0.2222222222222222,\"#7201a8\"],[0.3333333333333333,\"#9c179e\"],[0.4444444444444444,\"#bd3786\"],[0.5555555555555556,\"#d8576b\"],[0.6666666666666666,\"#ed7953\"],[0.7777777777777778,\"#fb9f3a\"],[0.8888888888888888,\"#fdca26\"],[1.0,\"#f0f921\"]],\"sequentialminus\":[[0.0,\"#0d0887\"],[0.1111111111111111,\"#46039f\"],[0.2222222222222222,\"#7201a8\"],[0.3333333333333333,\"#9c179e\"],[0.4444444444444444,\"#bd3786\"],[0.5555555555555556,\"#d8576b\"],[0.6666666666666666,\"#ed7953\"],[0.7777777777777778,\"#fb9f3a\"],[0.8888888888888888,\"#fdca26\"],[1.0,\"#f0f921\"]]},\"colorway\":[\"#636efa\",\"#EF553B\",\"#00cc96\",\"#ab63fa\",\"#FFA15A\",\"#19d3f3\",\"#FF6692\",\"#B6E880\",\"#FF97FF\",\"#FECB52\"],\"font\":{\"color\":\"#2a3f5f\"},\"geo\":{\"bgcolor\":\"white\",\"lakecolor\":\"white\",\"landcolor\":\"#E5ECF6\",\"showlakes\":true,\"showland\":true,\"subunitcolor\":\"white\"},\"hoverlabel\":{\"align\":\"left\"},\"hovermode\":\"closest\",\"mapbox\":{\"style\":\"light\"},\"paper_bgcolor\":\"white\",\"plot_bgcolor\":\"#E5ECF6\",\"polar\":{\"angularaxis\":{\"gridcolor\":\"white\",\"linecolor\":\"white\",\"ticks\":\"\"},\"bgcolor\":\"#E5ECF6\",\"radialaxis\":{\"gridcolor\":\"white\",\"linecolor\":\"white\",\"ticks\":\"\"}},\"scene\":{\"xaxis\":{\"backgroundcolor\":\"#E5ECF6\",\"gridcolor\":\"white\",\"gridwidth\":2,\"linecolor\":\"white\",\"showbackground\":true,\"ticks\":\"\",\"zerolinecolor\":\"white\"},\"yaxis\":{\"backgroundcolor\":\"#E5ECF6\",\"gridcolor\":\"white\",\"gridwidth\":2,\"linecolor\":\"white\",\"showbackground\":true,\"ticks\":\"\",\"zerolinecolor\":\"white\"},\"zaxis\":{\"backgroundcolor\":\"#E5ECF6\",\"gridcolor\":\"white\",\"gridwidth\":2,\"linecolor\":\"white\",\"showbackground\":true,\"ticks\":\"\",\"zerolinecolor\":\"white\"}},\"shapedefaults\":{\"line\":{\"color\":\"#2a3f5f\"}},\"ternary\":{\"aaxis\":{\"gridcolor\":\"white\",\"linecolor\":\"white\",\"ticks\":\"\"},\"baxis\":{\"gridcolor\":\"white\",\"linecolor\":\"white\",\"ticks\":\"\"},\"bgcolor\":\"#E5ECF6\",\"caxis\":{\"gridcolor\":\"white\",\"linecolor\":\"white\",\"ticks\":\"\"}},\"title\":{\"x\":0.05},\"xaxis\":{\"automargin\":true,\"gridcolor\":\"white\",\"linecolor\":\"white\",\"ticks\":\"\",\"title\":{\"standoff\":15},\"zerolinecolor\":\"white\",\"zerolinewidth\":2},\"yaxis\":{\"automargin\":true,\"gridcolor\":\"white\",\"linecolor\":\"white\",\"ticks\":\"\",\"title\":{\"standoff\":15},\"zerolinecolor\":\"white\",\"zerolinewidth\":2}}},\"title\":{\"text\":\"Model Clusters\"},\"xaxis\":{\"title\":{\"text\":\"\"}},\"yaxis\":{\"title\":{\"text\":\"Numbers\"}},\"barmode\":\"stack\"},                        {\"responsive\": true}                    ).then(function(){\n",
              "                            \n",
              "var gd = document.getElementById('139478b2-3f1c-4eab-880b-2985133c6ca2');\n",
              "var x = new MutationObserver(function (mutations, observer) {{\n",
              "        var display = window.getComputedStyle(gd).display;\n",
              "        if (!display || display === 'none') {{\n",
              "            console.log([gd, 'removed!']);\n",
              "            Plotly.purge(gd);\n",
              "            observer.disconnect();\n",
              "        }}\n",
              "}});\n",
              "\n",
              "// Listen for the removal of the full notebook cells\n",
              "var notebookContainer = gd.closest('#notebook-container');\n",
              "if (notebookContainer) {{\n",
              "    x.observe(notebookContainer, {childList: true});\n",
              "}}\n",
              "\n",
              "// Listen for the clearing of the current output cell\n",
              "var outputEl = gd.closest('.output');\n",
              "if (outputEl) {{\n",
              "    x.observe(outputEl, {childList: true});\n",
              "}}\n",
              "\n",
              "                        })                };                            </script>        </div>\n",
              "</body>\n",
              "</html>"
            ]
          },
          "metadata": {}
        },
        {
          "output_type": "display_data",
          "data": {
            "text/html": [
              "<html>\n",
              "<head><meta charset=\"utf-8\" /></head>\n",
              "<body>\n",
              "    <div>            <script src=\"https://cdnjs.cloudflare.com/ajax/libs/mathjax/2.7.5/MathJax.js?config=TeX-AMS-MML_SVG\"></script><script type=\"text/javascript\">if (window.MathJax) {MathJax.Hub.Config({SVG: {font: \"STIX-Web\"}});}</script>                <script type=\"text/javascript\">window.PlotlyConfig = {MathJaxConfig: 'local'};</script>\n",
              "        <script src=\"https://cdn.plot.ly/plotly-2.8.3.min.js\"></script>                <div id=\"d5a55fe2-99ec-4e45-8fe5-11e314abaf6d\" class=\"plotly-graph-div\" style=\"height:525px; width:100%;\"></div>            <script type=\"text/javascript\">                                    window.PLOTLYENV=window.PLOTLYENV || {};                                    if (document.getElementById(\"d5a55fe2-99ec-4e45-8fe5-11e314abaf6d\")) {                    Plotly.newPlot(                        \"d5a55fe2-99ec-4e45-8fe5-11e314abaf6d\",                        [{\"name\":\"GP0\",\"x\":[\"All Data\"],\"y\":[67],\"type\":\"bar\"},{\"name\":\"GP1\",\"x\":[\"All Data\"],\"y\":[5],\"type\":\"bar\"}],                        {\"template\":{\"data\":{\"bar\":[{\"error_x\":{\"color\":\"#2a3f5f\"},\"error_y\":{\"color\":\"#2a3f5f\"},\"marker\":{\"line\":{\"color\":\"#E5ECF6\",\"width\":0.5},\"pattern\":{\"fillmode\":\"overlay\",\"size\":10,\"solidity\":0.2}},\"type\":\"bar\"}],\"barpolar\":[{\"marker\":{\"line\":{\"color\":\"#E5ECF6\",\"width\":0.5},\"pattern\":{\"fillmode\":\"overlay\",\"size\":10,\"solidity\":0.2}},\"type\":\"barpolar\"}],\"carpet\":[{\"aaxis\":{\"endlinecolor\":\"#2a3f5f\",\"gridcolor\":\"white\",\"linecolor\":\"white\",\"minorgridcolor\":\"white\",\"startlinecolor\":\"#2a3f5f\"},\"baxis\":{\"endlinecolor\":\"#2a3f5f\",\"gridcolor\":\"white\",\"linecolor\":\"white\",\"minorgridcolor\":\"white\",\"startlinecolor\":\"#2a3f5f\"},\"type\":\"carpet\"}],\"choropleth\":[{\"colorbar\":{\"outlinewidth\":0,\"ticks\":\"\"},\"type\":\"choropleth\"}],\"contour\":[{\"colorbar\":{\"outlinewidth\":0,\"ticks\":\"\"},\"colorscale\":[[0.0,\"#0d0887\"],[0.1111111111111111,\"#46039f\"],[0.2222222222222222,\"#7201a8\"],[0.3333333333333333,\"#9c179e\"],[0.4444444444444444,\"#bd3786\"],[0.5555555555555556,\"#d8576b\"],[0.6666666666666666,\"#ed7953\"],[0.7777777777777778,\"#fb9f3a\"],[0.8888888888888888,\"#fdca26\"],[1.0,\"#f0f921\"]],\"type\":\"contour\"}],\"contourcarpet\":[{\"colorbar\":{\"outlinewidth\":0,\"ticks\":\"\"},\"type\":\"contourcarpet\"}],\"heatmap\":[{\"colorbar\":{\"outlinewidth\":0,\"ticks\":\"\"},\"colorscale\":[[0.0,\"#0d0887\"],[0.1111111111111111,\"#46039f\"],[0.2222222222222222,\"#7201a8\"],[0.3333333333333333,\"#9c179e\"],[0.4444444444444444,\"#bd3786\"],[0.5555555555555556,\"#d8576b\"],[0.6666666666666666,\"#ed7953\"],[0.7777777777777778,\"#fb9f3a\"],[0.8888888888888888,\"#fdca26\"],[1.0,\"#f0f921\"]],\"type\":\"heatmap\"}],\"heatmapgl\":[{\"colorbar\":{\"outlinewidth\":0,\"ticks\":\"\"},\"colorscale\":[[0.0,\"#0d0887\"],[0.1111111111111111,\"#46039f\"],[0.2222222222222222,\"#7201a8\"],[0.3333333333333333,\"#9c179e\"],[0.4444444444444444,\"#bd3786\"],[0.5555555555555556,\"#d8576b\"],[0.6666666666666666,\"#ed7953\"],[0.7777777777777778,\"#fb9f3a\"],[0.8888888888888888,\"#fdca26\"],[1.0,\"#f0f921\"]],\"type\":\"heatmapgl\"}],\"histogram\":[{\"marker\":{\"pattern\":{\"fillmode\":\"overlay\",\"size\":10,\"solidity\":0.2}},\"type\":\"histogram\"}],\"histogram2d\":[{\"colorbar\":{\"outlinewidth\":0,\"ticks\":\"\"},\"colorscale\":[[0.0,\"#0d0887\"],[0.1111111111111111,\"#46039f\"],[0.2222222222222222,\"#7201a8\"],[0.3333333333333333,\"#9c179e\"],[0.4444444444444444,\"#bd3786\"],[0.5555555555555556,\"#d8576b\"],[0.6666666666666666,\"#ed7953\"],[0.7777777777777778,\"#fb9f3a\"],[0.8888888888888888,\"#fdca26\"],[1.0,\"#f0f921\"]],\"type\":\"histogram2d\"}],\"histogram2dcontour\":[{\"colorbar\":{\"outlinewidth\":0,\"ticks\":\"\"},\"colorscale\":[[0.0,\"#0d0887\"],[0.1111111111111111,\"#46039f\"],[0.2222222222222222,\"#7201a8\"],[0.3333333333333333,\"#9c179e\"],[0.4444444444444444,\"#bd3786\"],[0.5555555555555556,\"#d8576b\"],[0.6666666666666666,\"#ed7953\"],[0.7777777777777778,\"#fb9f3a\"],[0.8888888888888888,\"#fdca26\"],[1.0,\"#f0f921\"]],\"type\":\"histogram2dcontour\"}],\"mesh3d\":[{\"colorbar\":{\"outlinewidth\":0,\"ticks\":\"\"},\"type\":\"mesh3d\"}],\"parcoords\":[{\"line\":{\"colorbar\":{\"outlinewidth\":0,\"ticks\":\"\"}},\"type\":\"parcoords\"}],\"pie\":[{\"automargin\":true,\"type\":\"pie\"}],\"scatter\":[{\"marker\":{\"colorbar\":{\"outlinewidth\":0,\"ticks\":\"\"}},\"type\":\"scatter\"}],\"scatter3d\":[{\"line\":{\"colorbar\":{\"outlinewidth\":0,\"ticks\":\"\"}},\"marker\":{\"colorbar\":{\"outlinewidth\":0,\"ticks\":\"\"}},\"type\":\"scatter3d\"}],\"scattercarpet\":[{\"marker\":{\"colorbar\":{\"outlinewidth\":0,\"ticks\":\"\"}},\"type\":\"scattercarpet\"}],\"scattergeo\":[{\"marker\":{\"colorbar\":{\"outlinewidth\":0,\"ticks\":\"\"}},\"type\":\"scattergeo\"}],\"scattergl\":[{\"marker\":{\"colorbar\":{\"outlinewidth\":0,\"ticks\":\"\"}},\"type\":\"scattergl\"}],\"scattermapbox\":[{\"marker\":{\"colorbar\":{\"outlinewidth\":0,\"ticks\":\"\"}},\"type\":\"scattermapbox\"}],\"scatterpolar\":[{\"marker\":{\"colorbar\":{\"outlinewidth\":0,\"ticks\":\"\"}},\"type\":\"scatterpolar\"}],\"scatterpolargl\":[{\"marker\":{\"colorbar\":{\"outlinewidth\":0,\"ticks\":\"\"}},\"type\":\"scatterpolargl\"}],\"scatterternary\":[{\"marker\":{\"colorbar\":{\"outlinewidth\":0,\"ticks\":\"\"}},\"type\":\"scatterternary\"}],\"surface\":[{\"colorbar\":{\"outlinewidth\":0,\"ticks\":\"\"},\"colorscale\":[[0.0,\"#0d0887\"],[0.1111111111111111,\"#46039f\"],[0.2222222222222222,\"#7201a8\"],[0.3333333333333333,\"#9c179e\"],[0.4444444444444444,\"#bd3786\"],[0.5555555555555556,\"#d8576b\"],[0.6666666666666666,\"#ed7953\"],[0.7777777777777778,\"#fb9f3a\"],[0.8888888888888888,\"#fdca26\"],[1.0,\"#f0f921\"]],\"type\":\"surface\"}],\"table\":[{\"cells\":{\"fill\":{\"color\":\"#EBF0F8\"},\"line\":{\"color\":\"white\"}},\"header\":{\"fill\":{\"color\":\"#C8D4E3\"},\"line\":{\"color\":\"white\"}},\"type\":\"table\"}]},\"layout\":{\"annotationdefaults\":{\"arrowcolor\":\"#2a3f5f\",\"arrowhead\":0,\"arrowwidth\":1},\"autotypenumbers\":\"strict\",\"coloraxis\":{\"colorbar\":{\"outlinewidth\":0,\"ticks\":\"\"}},\"colorscale\":{\"diverging\":[[0,\"#8e0152\"],[0.1,\"#c51b7d\"],[0.2,\"#de77ae\"],[0.3,\"#f1b6da\"],[0.4,\"#fde0ef\"],[0.5,\"#f7f7f7\"],[0.6,\"#e6f5d0\"],[0.7,\"#b8e186\"],[0.8,\"#7fbc41\"],[0.9,\"#4d9221\"],[1,\"#276419\"]],\"sequential\":[[0.0,\"#0d0887\"],[0.1111111111111111,\"#46039f\"],[0.2222222222222222,\"#7201a8\"],[0.3333333333333333,\"#9c179e\"],[0.4444444444444444,\"#bd3786\"],[0.5555555555555556,\"#d8576b\"],[0.6666666666666666,\"#ed7953\"],[0.7777777777777778,\"#fb9f3a\"],[0.8888888888888888,\"#fdca26\"],[1.0,\"#f0f921\"]],\"sequentialminus\":[[0.0,\"#0d0887\"],[0.1111111111111111,\"#46039f\"],[0.2222222222222222,\"#7201a8\"],[0.3333333333333333,\"#9c179e\"],[0.4444444444444444,\"#bd3786\"],[0.5555555555555556,\"#d8576b\"],[0.6666666666666666,\"#ed7953\"],[0.7777777777777778,\"#fb9f3a\"],[0.8888888888888888,\"#fdca26\"],[1.0,\"#f0f921\"]]},\"colorway\":[\"#636efa\",\"#EF553B\",\"#00cc96\",\"#ab63fa\",\"#FFA15A\",\"#19d3f3\",\"#FF6692\",\"#B6E880\",\"#FF97FF\",\"#FECB52\"],\"font\":{\"color\":\"#2a3f5f\"},\"geo\":{\"bgcolor\":\"white\",\"lakecolor\":\"white\",\"landcolor\":\"#E5ECF6\",\"showlakes\":true,\"showland\":true,\"subunitcolor\":\"white\"},\"hoverlabel\":{\"align\":\"left\"},\"hovermode\":\"closest\",\"mapbox\":{\"style\":\"light\"},\"paper_bgcolor\":\"white\",\"plot_bgcolor\":\"#E5ECF6\",\"polar\":{\"angularaxis\":{\"gridcolor\":\"white\",\"linecolor\":\"white\",\"ticks\":\"\"},\"bgcolor\":\"#E5ECF6\",\"radialaxis\":{\"gridcolor\":\"white\",\"linecolor\":\"white\",\"ticks\":\"\"}},\"scene\":{\"xaxis\":{\"backgroundcolor\":\"#E5ECF6\",\"gridcolor\":\"white\",\"gridwidth\":2,\"linecolor\":\"white\",\"showbackground\":true,\"ticks\":\"\",\"zerolinecolor\":\"white\"},\"yaxis\":{\"backgroundcolor\":\"#E5ECF6\",\"gridcolor\":\"white\",\"gridwidth\":2,\"linecolor\":\"white\",\"showbackground\":true,\"ticks\":\"\",\"zerolinecolor\":\"white\"},\"zaxis\":{\"backgroundcolor\":\"#E5ECF6\",\"gridcolor\":\"white\",\"gridwidth\":2,\"linecolor\":\"white\",\"showbackground\":true,\"ticks\":\"\",\"zerolinecolor\":\"white\"}},\"shapedefaults\":{\"line\":{\"color\":\"#2a3f5f\"}},\"ternary\":{\"aaxis\":{\"gridcolor\":\"white\",\"linecolor\":\"white\",\"ticks\":\"\"},\"baxis\":{\"gridcolor\":\"white\",\"linecolor\":\"white\",\"ticks\":\"\"},\"bgcolor\":\"#E5ECF6\",\"caxis\":{\"gridcolor\":\"white\",\"linecolor\":\"white\",\"ticks\":\"\"}},\"title\":{\"x\":0.05},\"xaxis\":{\"automargin\":true,\"gridcolor\":\"white\",\"linecolor\":\"white\",\"ticks\":\"\",\"title\":{\"standoff\":15},\"zerolinecolor\":\"white\",\"zerolinewidth\":2},\"yaxis\":{\"automargin\":true,\"gridcolor\":\"white\",\"linecolor\":\"white\",\"ticks\":\"\",\"title\":{\"standoff\":15},\"zerolinecolor\":\"white\",\"zerolinewidth\":2}}},\"title\":{\"text\":\"Predicted Clusters\"},\"xaxis\":{\"title\":{\"text\":\"\"}},\"yaxis\":{\"title\":{\"text\":\"Numbers\"}},\"barmode\":\"stack\"},                        {\"responsive\": true}                    ).then(function(){\n",
              "                            \n",
              "var gd = document.getElementById('d5a55fe2-99ec-4e45-8fe5-11e314abaf6d');\n",
              "var x = new MutationObserver(function (mutations, observer) {{\n",
              "        var display = window.getComputedStyle(gd).display;\n",
              "        if (!display || display === 'none') {{\n",
              "            console.log([gd, 'removed!']);\n",
              "            Plotly.purge(gd);\n",
              "            observer.disconnect();\n",
              "        }}\n",
              "}});\n",
              "\n",
              "// Listen for the removal of the full notebook cells\n",
              "var notebookContainer = gd.closest('#notebook-container');\n",
              "if (notebookContainer) {{\n",
              "    x.observe(notebookContainer, {childList: true});\n",
              "}}\n",
              "\n",
              "// Listen for the clearing of the current output cell\n",
              "var outputEl = gd.closest('.output');\n",
              "if (outputEl) {{\n",
              "    x.observe(outputEl, {childList: true});\n",
              "}}\n",
              "\n",
              "                        })                };                            </script>        </div>\n",
              "</body>\n",
              "</html>"
            ]
          },
          "metadata": {}
        }
      ]
    },
    {
      "cell_type": "code",
      "source": [
        "[*clstrs]"
      ],
      "metadata": {
        "colab": {
          "base_uri": "https://localhost:8080/"
        },
        "id": "lDnPduqMus1f",
        "outputId": "5ea8b052-7568-458f-9d78-91596e616c86"
      },
      "execution_count": null,
      "outputs": [
        {
          "output_type": "execute_result",
          "data": {
            "text/plain": [
              "['labeled model data', 'labeled predict data', 'fitScore', 'Probability Model']"
            ]
          },
          "metadata": {},
          "execution_count": 62
        }
      ]
    },
    {
      "cell_type": "code",
      "source": [
        "clstrs['labeled model data']"
      ],
      "metadata": {
        "colab": {
          "base_uri": "https://localhost:8080/",
          "height": 590
        },
        "id": "uDpmJ2b4utp7",
        "outputId": "6a6f21a5-fbd9-4b0c-ce9b-b64efbd7fdca"
      },
      "execution_count": null,
      "outputs": [
        {
          "output_type": "execute_result",
          "data": {
            "text/html": [
              "\n",
              "  <div id=\"df-c8d3fbd7-180f-4871-96fb-33132be8c035\">\n",
              "    <div class=\"colab-df-container\">\n",
              "      <div>\n",
              "<style scoped>\n",
              "    .dataframe tbody tr th:only-of-type {\n",
              "        vertical-align: middle;\n",
              "    }\n",
              "\n",
              "    .dataframe tbody tr th {\n",
              "        vertical-align: top;\n",
              "    }\n",
              "\n",
              "    .dataframe thead th {\n",
              "        text-align: right;\n",
              "    }\n",
              "</style>\n",
              "<table border=\"1\" class=\"dataframe\">\n",
              "  <thead>\n",
              "    <tr style=\"text-align: right;\">\n",
              "      <th></th>\n",
              "      <th>0</th>\n",
              "      <th>1</th>\n",
              "      <th>2</th>\n",
              "      <th>3</th>\n",
              "      <th>4</th>\n",
              "      <th>5</th>\n",
              "      <th>6</th>\n",
              "      <th>7</th>\n",
              "      <th>8</th>\n",
              "      <th>9</th>\n",
              "      <th>10</th>\n",
              "      <th>11</th>\n",
              "      <th>12</th>\n",
              "      <th>13</th>\n",
              "      <th>14</th>\n",
              "      <th>labels</th>\n",
              "      <th>Fit Score</th>\n",
              "    </tr>\n",
              "  </thead>\n",
              "  <tbody>\n",
              "    <tr>\n",
              "      <th>21UG0004 JANANI NUPEARACHCHI</th>\n",
              "      <td>-37.965508</td>\n",
              "      <td>-39.754490</td>\n",
              "      <td>-0.148320</td>\n",
              "      <td>9.745567</td>\n",
              "      <td>-7.638437</td>\n",
              "      <td>0.871939</td>\n",
              "      <td>-0.453833</td>\n",
              "      <td>2.170935</td>\n",
              "      <td>-2.996946</td>\n",
              "      <td>2.644984</td>\n",
              "      <td>-0.597383</td>\n",
              "      <td>-0.834629</td>\n",
              "      <td>-0.039421</td>\n",
              "      <td>0.297393</td>\n",
              "      <td>-0.243538</td>\n",
              "      <td>0</td>\n",
              "      <td>-19.497323</td>\n",
              "    </tr>\n",
              "    <tr>\n",
              "      <th>21UG0012 NIMESH DILSHAN</th>\n",
              "      <td>-23.011957</td>\n",
              "      <td>-20.497064</td>\n",
              "      <td>21.165306</td>\n",
              "      <td>29.382111</td>\n",
              "      <td>-0.437501</td>\n",
              "      <td>5.289870</td>\n",
              "      <td>-2.106308</td>\n",
              "      <td>-10.768501</td>\n",
              "      <td>-7.136091</td>\n",
              "      <td>-2.161440</td>\n",
              "      <td>-1.442391</td>\n",
              "      <td>0.008532</td>\n",
              "      <td>0.319104</td>\n",
              "      <td>-0.378813</td>\n",
              "      <td>-0.112389</td>\n",
              "      <td>0</td>\n",
              "      <td>-35.895754</td>\n",
              "    </tr>\n",
              "    <tr>\n",
              "      <th>21UG0019 TISHAN KALUWALGODA</th>\n",
              "      <td>-17.373324</td>\n",
              "      <td>-3.092158</td>\n",
              "      <td>0.826896</td>\n",
              "      <td>15.931219</td>\n",
              "      <td>-10.164930</td>\n",
              "      <td>3.970951</td>\n",
              "      <td>-3.171978</td>\n",
              "      <td>3.597207</td>\n",
              "      <td>-4.849692</td>\n",
              "      <td>4.529513</td>\n",
              "      <td>-1.393160</td>\n",
              "      <td>-1.308441</td>\n",
              "      <td>-0.183889</td>\n",
              "      <td>0.410822</td>\n",
              "      <td>-0.641057</td>\n",
              "      <td>0</td>\n",
              "      <td>-24.995767</td>\n",
              "    </tr>\n",
              "    <tr>\n",
              "      <th>21UG0020 SIDATH DIYANATHA</th>\n",
              "      <td>-44.687962</td>\n",
              "      <td>-50.689728</td>\n",
              "      <td>-4.273267</td>\n",
              "      <td>-0.673570</td>\n",
              "      <td>-0.255503</td>\n",
              "      <td>-1.741208</td>\n",
              "      <td>-0.837825</td>\n",
              "      <td>-0.064060</td>\n",
              "      <td>-2.053761</td>\n",
              "      <td>-0.195331</td>\n",
              "      <td>0.099936</td>\n",
              "      <td>-0.460447</td>\n",
              "      <td>0.002854</td>\n",
              "      <td>-0.057745</td>\n",
              "      <td>0.087312</td>\n",
              "      <td>0</td>\n",
              "      <td>-17.966427</td>\n",
              "    </tr>\n",
              "    <tr>\n",
              "      <th>21UG0022 VIBHUTHI EKANAYAKA</th>\n",
              "      <td>-2.882314</td>\n",
              "      <td>43.012234</td>\n",
              "      <td>-20.359002</td>\n",
              "      <td>-2.497693</td>\n",
              "      <td>1.342562</td>\n",
              "      <td>8.262436</td>\n",
              "      <td>2.352112</td>\n",
              "      <td>0.494387</td>\n",
              "      <td>2.549108</td>\n",
              "      <td>-3.545270</td>\n",
              "      <td>1.082988</td>\n",
              "      <td>9.666546</td>\n",
              "      <td>0.533313</td>\n",
              "      <td>-0.827525</td>\n",
              "      <td>-0.184831</td>\n",
              "      <td>3</td>\n",
              "      <td>-43.205932</td>\n",
              "    </tr>\n",
              "    <tr>\n",
              "      <th>...</th>\n",
              "      <td>...</td>\n",
              "      <td>...</td>\n",
              "      <td>...</td>\n",
              "      <td>...</td>\n",
              "      <td>...</td>\n",
              "      <td>...</td>\n",
              "      <td>...</td>\n",
              "      <td>...</td>\n",
              "      <td>...</td>\n",
              "      <td>...</td>\n",
              "      <td>...</td>\n",
              "      <td>...</td>\n",
              "      <td>...</td>\n",
              "      <td>...</td>\n",
              "      <td>...</td>\n",
              "      <td>...</td>\n",
              "      <td>...</td>\n",
              "    </tr>\n",
              "    <tr>\n",
              "      <th>21UG0834 M.G.C.S.C. BANDARA</th>\n",
              "      <td>-22.065561</td>\n",
              "      <td>-11.414819</td>\n",
              "      <td>-0.792170</td>\n",
              "      <td>-6.570660</td>\n",
              "      <td>-0.525865</td>\n",
              "      <td>-4.210471</td>\n",
              "      <td>-4.956379</td>\n",
              "      <td>-1.162763</td>\n",
              "      <td>8.145998</td>\n",
              "      <td>0.939047</td>\n",
              "      <td>-3.991203</td>\n",
              "      <td>-0.003638</td>\n",
              "      <td>0.050223</td>\n",
              "      <td>-0.938599</td>\n",
              "      <td>0.044322</td>\n",
              "      <td>0</td>\n",
              "      <td>-34.111575</td>\n",
              "    </tr>\n",
              "    <tr>\n",
              "      <th>21UG0835 H.G.C.L. HARISCHANDRA</th>\n",
              "      <td>18.789554</td>\n",
              "      <td>55.241871</td>\n",
              "      <td>5.783764</td>\n",
              "      <td>-15.762833</td>\n",
              "      <td>-2.198610</td>\n",
              "      <td>2.259818</td>\n",
              "      <td>-8.492025</td>\n",
              "      <td>-0.993289</td>\n",
              "      <td>-2.794400</td>\n",
              "      <td>-1.561146</td>\n",
              "      <td>-0.778195</td>\n",
              "      <td>-0.102074</td>\n",
              "      <td>-0.120791</td>\n",
              "      <td>-0.365628</td>\n",
              "      <td>-0.241698</td>\n",
              "      <td>3</td>\n",
              "      <td>-36.631223</td>\n",
              "    </tr>\n",
              "    <tr>\n",
              "      <th>21UG0868 R.D.R.S. RAJAPAKSHA</th>\n",
              "      <td>2.795604</td>\n",
              "      <td>10.991641</td>\n",
              "      <td>1.871912</td>\n",
              "      <td>-5.515554</td>\n",
              "      <td>9.567991</td>\n",
              "      <td>-5.178257</td>\n",
              "      <td>-1.143606</td>\n",
              "      <td>11.218701</td>\n",
              "      <td>-4.567667</td>\n",
              "      <td>-3.209253</td>\n",
              "      <td>0.452586</td>\n",
              "      <td>-0.101843</td>\n",
              "      <td>0.317564</td>\n",
              "      <td>-0.803262</td>\n",
              "      <td>0.036712</td>\n",
              "      <td>3</td>\n",
              "      <td>-35.288663</td>\n",
              "    </tr>\n",
              "    <tr>\n",
              "      <th>21UG0869 M.G.U. SEWWANDI</th>\n",
              "      <td>168.796091</td>\n",
              "      <td>-16.323379</td>\n",
              "      <td>32.400131</td>\n",
              "      <td>37.841873</td>\n",
              "      <td>-0.070493</td>\n",
              "      <td>-6.657092</td>\n",
              "      <td>2.229598</td>\n",
              "      <td>-17.316078</td>\n",
              "      <td>1.668654</td>\n",
              "      <td>-4.318580</td>\n",
              "      <td>-5.016458</td>\n",
              "      <td>1.977012</td>\n",
              "      <td>0.583409</td>\n",
              "      <td>-2.053709</td>\n",
              "      <td>-0.184022</td>\n",
              "      <td>4</td>\n",
              "      <td>85.555585</td>\n",
              "    </tr>\n",
              "    <tr>\n",
              "      <th>AA1341 AHMED NAFRY SHIHAM</th>\n",
              "      <td>-34.195241</td>\n",
              "      <td>-23.199958</td>\n",
              "      <td>-5.097627</td>\n",
              "      <td>-5.034555</td>\n",
              "      <td>-4.264872</td>\n",
              "      <td>-3.547514</td>\n",
              "      <td>0.970805</td>\n",
              "      <td>-0.646522</td>\n",
              "      <td>-0.678603</td>\n",
              "      <td>-1.120383</td>\n",
              "      <td>0.539534</td>\n",
              "      <td>-0.032206</td>\n",
              "      <td>-0.085020</td>\n",
              "      <td>-0.136725</td>\n",
              "      <td>-0.081554</td>\n",
              "      <td>0</td>\n",
              "      <td>-18.521160</td>\n",
              "    </tr>\n",
              "  </tbody>\n",
              "</table>\n",
              "<p>72 rows × 17 columns</p>\n",
              "</div>\n",
              "      <button class=\"colab-df-convert\" onclick=\"convertToInteractive('df-c8d3fbd7-180f-4871-96fb-33132be8c035')\"\n",
              "              title=\"Convert this dataframe to an interactive table.\"\n",
              "              style=\"display:none;\">\n",
              "        \n",
              "  <svg xmlns=\"http://www.w3.org/2000/svg\" height=\"24px\"viewBox=\"0 0 24 24\"\n",
              "       width=\"24px\">\n",
              "    <path d=\"M0 0h24v24H0V0z\" fill=\"none\"/>\n",
              "    <path d=\"M18.56 5.44l.94 2.06.94-2.06 2.06-.94-2.06-.94-.94-2.06-.94 2.06-2.06.94zm-11 1L8.5 8.5l.94-2.06 2.06-.94-2.06-.94L8.5 2.5l-.94 2.06-2.06.94zm10 10l.94 2.06.94-2.06 2.06-.94-2.06-.94-.94-2.06-.94 2.06-2.06.94z\"/><path d=\"M17.41 7.96l-1.37-1.37c-.4-.4-.92-.59-1.43-.59-.52 0-1.04.2-1.43.59L10.3 9.45l-7.72 7.72c-.78.78-.78 2.05 0 2.83L4 21.41c.39.39.9.59 1.41.59.51 0 1.02-.2 1.41-.59l7.78-7.78 2.81-2.81c.8-.78.8-2.07 0-2.86zM5.41 20L4 18.59l7.72-7.72 1.47 1.35L5.41 20z\"/>\n",
              "  </svg>\n",
              "      </button>\n",
              "      \n",
              "  <style>\n",
              "    .colab-df-container {\n",
              "      display:flex;\n",
              "      flex-wrap:wrap;\n",
              "      gap: 12px;\n",
              "    }\n",
              "\n",
              "    .colab-df-convert {\n",
              "      background-color: #E8F0FE;\n",
              "      border: none;\n",
              "      border-radius: 50%;\n",
              "      cursor: pointer;\n",
              "      display: none;\n",
              "      fill: #1967D2;\n",
              "      height: 32px;\n",
              "      padding: 0 0 0 0;\n",
              "      width: 32px;\n",
              "    }\n",
              "\n",
              "    .colab-df-convert:hover {\n",
              "      background-color: #E2EBFA;\n",
              "      box-shadow: 0px 1px 2px rgba(60, 64, 67, 0.3), 0px 1px 3px 1px rgba(60, 64, 67, 0.15);\n",
              "      fill: #174EA6;\n",
              "    }\n",
              "\n",
              "    [theme=dark] .colab-df-convert {\n",
              "      background-color: #3B4455;\n",
              "      fill: #D2E3FC;\n",
              "    }\n",
              "\n",
              "    [theme=dark] .colab-df-convert:hover {\n",
              "      background-color: #434B5C;\n",
              "      box-shadow: 0px 1px 3px 1px rgba(0, 0, 0, 0.15);\n",
              "      filter: drop-shadow(0px 1px 2px rgba(0, 0, 0, 0.3));\n",
              "      fill: #FFFFFF;\n",
              "    }\n",
              "  </style>\n",
              "\n",
              "      <script>\n",
              "        const buttonEl =\n",
              "          document.querySelector('#df-c8d3fbd7-180f-4871-96fb-33132be8c035 button.colab-df-convert');\n",
              "        buttonEl.style.display =\n",
              "          google.colab.kernel.accessAllowed ? 'block' : 'none';\n",
              "\n",
              "        async function convertToInteractive(key) {\n",
              "          const element = document.querySelector('#df-c8d3fbd7-180f-4871-96fb-33132be8c035');\n",
              "          const dataTable =\n",
              "            await google.colab.kernel.invokeFunction('convertToInteractive',\n",
              "                                                     [key], {});\n",
              "          if (!dataTable) return;\n",
              "\n",
              "          const docLinkHtml = 'Like what you see? Visit the ' +\n",
              "            '<a target=\"_blank\" href=https://colab.research.google.com/notebooks/data_table.ipynb>data table notebook</a>'\n",
              "            + ' to learn more about interactive tables.';\n",
              "          element.innerHTML = '';\n",
              "          dataTable['output_type'] = 'display_data';\n",
              "          await google.colab.output.renderOutput(dataTable, element);\n",
              "          const docLink = document.createElement('div');\n",
              "          docLink.innerHTML = docLinkHtml;\n",
              "          element.appendChild(docLink);\n",
              "        }\n",
              "      </script>\n",
              "    </div>\n",
              "  </div>\n",
              "  "
            ],
            "text/plain": [
              "                                         0          1  ...  labels  Fit Score\n",
              "21UG0004 JANANI NUPEARACHCHI    -37.965508 -39.754490  ...       0 -19.497323\n",
              "21UG0012 NIMESH DILSHAN         -23.011957 -20.497064  ...       0 -35.895754\n",
              "21UG0019 TISHAN KALUWALGODA     -17.373324  -3.092158  ...       0 -24.995767\n",
              "21UG0020 SIDATH DIYANATHA       -44.687962 -50.689728  ...       0 -17.966427\n",
              "21UG0022 VIBHUTHI EKANAYAKA      -2.882314  43.012234  ...       3 -43.205932\n",
              "...                                    ...        ...  ...     ...        ...\n",
              "21UG0834 M.G.C.S.C. BANDARA     -22.065561 -11.414819  ...       0 -34.111575\n",
              "21UG0835 H.G.C.L. HARISCHANDRA   18.789554  55.241871  ...       3 -36.631223\n",
              "21UG0868 R.D.R.S. RAJAPAKSHA      2.795604  10.991641  ...       3 -35.288663\n",
              "21UG0869 M.G.U. SEWWANDI        168.796091 -16.323379  ...       4  85.555585\n",
              "AA1341 AHMED NAFRY SHIHAM       -34.195241 -23.199958  ...       0 -18.521160\n",
              "\n",
              "[72 rows x 17 columns]"
            ]
          },
          "metadata": {},
          "execution_count": 32
        }
      ]
    }
  ],
  "metadata": {
    "colab": {
      "collapsed_sections": [
        "ofVij2PJRKdI",
        "F0P7PVU_wd49"
      ],
      "name": "LMS Monitoring",
      "provenance": [],
      "include_colab_link": true
    },
    "kernelspec": {
      "display_name": "Python 3",
      "name": "python3"
    }
  },
  "nbformat": 4,
  "nbformat_minor": 0
}