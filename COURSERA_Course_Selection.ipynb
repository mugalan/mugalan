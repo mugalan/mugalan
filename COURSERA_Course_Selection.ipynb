{
  "nbformat": 4,
  "nbformat_minor": 0,
  "metadata": {
    "colab": {
      "name": "COURSERA Course Selection",
      "provenance": [],
      "collapsed_sections": [],
      "include_colab_link": true
    },
    "kernelspec": {
      "display_name": "Python 3",
      "name": "python3"
    }
  },
  "cells": [
    {
      "cell_type": "markdown",
      "metadata": {
        "id": "view-in-github",
        "colab_type": "text"
      },
      "source": [
        "<a href=\"https://colab.research.google.com/github/mugalan/mugalan/blob/main/COURSERA_Course_Selection.ipynb\" target=\"_parent\"><img src=\"https://colab.research.google.com/assets/colab-badge.svg\" alt=\"Open In Colab\"/></a>"
      ]
    },
    {
      "cell_type": "code",
      "metadata": {
        "id": "rdxI4RtVLq5q",
        "cellView": "form"
      },
      "source": [
        "#@title\n",
        "import pandas as pd\n",
        "import csv\n",
        "import plotly.graph_objects as go"
      ],
      "execution_count": null,
      "outputs": []
    },
    {
      "cell_type": "code",
      "metadata": {
        "colab": {
          "base_uri": "https://localhost:8080/"
        },
        "id": "9t-wT28Y0Lzj",
        "cellView": "form",
        "outputId": "782cf8c7-e921-4336-8795-6d9fdfdf7b36"
      },
      "source": [
        "#@title\n",
        "from google.colab import drive\n",
        "drive.mount('/content/drive')"
      ],
      "execution_count": null,
      "outputs": [
        {
          "output_type": "stream",
          "name": "stdout",
          "text": [
            "Mounted at /content/drive\n"
          ]
        }
      ]
    },
    {
      "cell_type": "code",
      "metadata": {
        "id": "fq1xwzYwFGa_",
        "cellView": "form"
      },
      "source": [
        "#@title\n",
        "def grouped_bar_plot(dataPDF, gpFieldName, plotFieldName, figTitle):\n",
        "  xx1=[]; yy1=[]; cc1=[]; traceNames1=[];\n",
        "  for xx in set(dataPDF[gpFieldName].tolist()):\n",
        "    temp=dataPDF[dataPDF[gpFieldName]==xx];\n",
        "    xxx1=[]; yyy1=[]; ccc1=[];\n",
        "    if plotFieldName!='':\n",
        "      for tstdt in set(temp[plotFieldName].to_list()):\n",
        "        xxx1+=[tstdt]\n",
        "        ccc1+=[temp[temp[plotFieldName]==tstdt]];\n",
        "        yyy1+=[len(temp[temp[plotFieldName]==tstdt])];\n",
        "    else:\n",
        "      xxx1=[gpFieldName]\n",
        "      ccc1+=[temp[temp[gpFieldName]==xx]];\n",
        "      yyy1+=[len(temp[temp[gpFieldName]==xx])];\n",
        "    xx1+=[xxx1];\n",
        "    yy1+=[yyy1];\n",
        "    cc1+=[ccc1]\n",
        "    traceNames1+=[xx]\n",
        "    \n",
        "\n",
        "  fig = go.Figure()\n",
        "  for i,x in enumerate(xx1):\n",
        "    fig.add_trace(go.Bar(y=yy1[i], x=x, name=traceNames1[i]))\n",
        "  \n",
        "  \n",
        "  fig.update_layout(\n",
        "      title=figTitle, xaxis_title='', yaxis_title='Numbers', barmode='stack'\n",
        "  )\n",
        "  fig.show()\n",
        "  return fig"
      ],
      "execution_count": null,
      "outputs": []
    },
    {
      "cell_type": "code",
      "metadata": {
        "id": "TRXZJP7VAgBG",
        "cellView": "form"
      },
      "source": [
        "#@title\n",
        "courseraCourseListPDF=pd.read_csv('/content/drive/My Drive/COURSERA Data/COURSERA All Courses.csv')"
      ],
      "execution_count": null,
      "outputs": []
    },
    {
      "cell_type": "code",
      "metadata": {
        "id": "KlgLgJDDgxRa"
      },
      "source": [
        "#Input Variables - to be picked from ['Advanced','Intermediate', 'Beginner']\n",
        "minAverageHours=20;\n",
        "difficultyLevel=['Advanced','Intermediate'];"
      ],
      "execution_count": null,
      "outputs": []
    },
    {
      "cell_type": "code",
      "metadata": {
        "id": "xF8EQ27i0tRP",
        "cellView": "form"
      },
      "source": [
        "#@title\n",
        "filteredCoursesPDF_S0=courseraCourseListPDF[(courseraCourseListPDF['Average Hours'].astype(float)>minAverageHours) & (courseraCourseListPDF['Difficulty Level'].isin(difficultyLevel))]"
      ],
      "execution_count": null,
      "outputs": []
    },
    {
      "cell_type": "code",
      "metadata": {
        "id": "vlX3nsXjtj-6"
      },
      "source": [
        "fig0=grouped_bar_plot(filteredCoursesPDF_S0,'Domain','Sub-Domain','Course Domains and Sub-Domains')"
      ],
      "execution_count": null,
      "outputs": []
    },
    {
      "cell_type": "code",
      "metadata": {
        "id": "RF_4KqFHCEeo"
      },
      "source": [
        "courseDomainsList=list(set(filteredCoursesPDF_S0['Domain'].to_list()))"
      ],
      "execution_count": null,
      "outputs": []
    },
    {
      "cell_type": "code",
      "metadata": {
        "colab": {
          "base_uri": "https://localhost:8080/"
        },
        "id": "16jzoZ2uCMep",
        "outputId": "ad582c00-24cb-4490-b518-0d8050029590"
      },
      "source": [
        "print(courseDomainsList)"
      ],
      "execution_count": null,
      "outputs": [
        {
          "output_type": "stream",
          "name": "stdout",
          "text": [
            "['life-sciences', 'computer-science', 'language-learning', 'personal-development', 'physical-science-and-engineering', 'data-science', 'information-technology', 'math-and-logic', 'arts-and-humanities', 'social-sciences', 'business']\n"
          ]
        }
      ]
    },
    {
      "cell_type": "code",
      "metadata": {
        "id": "P-6dfHVOCbzr"
      },
      "source": [
        "#Input variable - Pick from above list\n",
        "courseDomains=['business', 'social-sciences']"
      ],
      "execution_count": null,
      "outputs": []
    },
    {
      "cell_type": "code",
      "metadata": {
        "id": "pBNgquUbNfGX"
      },
      "source": [
        "filteredCoursesPDF_S1=filteredCoursesPDF_S0[filteredCoursesPDF_S0['Domain'].isin(courseDomains)];"
      ],
      "execution_count": null,
      "outputs": []
    },
    {
      "cell_type": "code",
      "metadata": {
        "id": "-jEcv-1kSnM4"
      },
      "source": [
        "fig1=grouped_bar_plot(filteredCoursesPDF_S1,'Sub-Domain','Customer Skill','Expected skills categorized according to course Sub-Domains')"
      ],
      "execution_count": null,
      "outputs": []
    },
    {
      "cell_type": "code",
      "metadata": {
        "id": "idBCksWoBnZZ"
      },
      "source": [
        "courseSubdomainsList=list(set(filteredCoursesPDF_S1['Sub-Domain'].to_list()))"
      ],
      "execution_count": null,
      "outputs": []
    },
    {
      "cell_type": "code",
      "metadata": {
        "colab": {
          "base_uri": "https://localhost:8080/"
        },
        "id": "VoF_ngabB3OZ",
        "outputId": "ca8627fa-8687-4cea-de3a-d045f845ea12"
      },
      "source": [
        "print(courseSubdomainsList)"
      ],
      "execution_count": null,
      "outputs": [
        {
          "output_type": "stream",
          "name": "stdout",
          "text": [
            "['leadership-and-management', 'business-strategy', 'law', 'economics', 'governance-and-society', 'finance', 'business-essentials', 'education']\n"
          ]
        }
      ]
    },
    {
      "cell_type": "code",
      "metadata": {
        "id": "91gMf63YBeRe"
      },
      "source": [
        "#Input variable - Pick from above list\n",
        "courseSubDomains=['business-strategy', 'law', 'governance-and-society', 'leadership-and-management', 'education', 'finance']"
      ],
      "execution_count": null,
      "outputs": []
    },
    {
      "cell_type": "code",
      "metadata": {
        "id": "SjXvsiIAEECV"
      },
      "source": [
        "filteredCoursesPDF_S2=filteredCoursesPDF_S1[filteredCoursesPDF_S1['Sub-Domain'].isin(courseSubDomains)]"
      ],
      "execution_count": null,
      "outputs": []
    },
    {
      "cell_type": "code",
      "metadata": {
        "id": "yvmRICmkPXOR"
      },
      "source": [
        "fig2=grouped_bar_plot(filteredCoursesPDF_S2,'Sub-Domain','Customer Skill','Expected skills categorized according to course Sub-Domains')"
      ],
      "execution_count": null,
      "outputs": []
    },
    {
      "cell_type": "code",
      "metadata": {
        "id": "zNgNB5bhDgFY"
      },
      "source": [
        "expectedSkillsList=list(set(filteredCoursesPDF_S2['Customer Skill'].to_list()))"
      ],
      "execution_count": null,
      "outputs": []
    },
    {
      "cell_type": "code",
      "metadata": {
        "colab": {
          "base_uri": "https://localhost:8080/"
        },
        "id": "HlHBupMIJgqd",
        "outputId": "33d8de3b-1f87-44b6-dd77-8b8ed8d04c68"
      },
      "source": [
        "print(expectedSkillsList)"
      ],
      "execution_count": null,
      "outputs": [
        {
          "output_type": "stream",
          "name": "stdout",
          "text": [
            "['Forensic Sciences', 'International Economics', 'UN Careers', 'Educational Psychology', 'Learning and Cognition', 'Public Policy', 'Risk Management', 'American Law', 'Improvement Methods', 'Financial Risk Management', 'Public Economics', 'Corporate Finance', 'Private Equity & Venture Capital ', 'Research Design', 'Reserach Methods & Analytical Techniques', 'Portfolio & Financial Risk Management', 'Reliability & Quality Control', 'Operations ', 'Operations Research ', 'Operations & Improvement Methods', 'Operations Management', 'International Relations', 'Political Theories', 'Political Issues', 'Corporate Finance ', 'Operations Research', 'Fine Arts & Culture', 'Portfolio Management ']\n"
          ]
        }
      ]
    },
    {
      "cell_type": "code",
      "metadata": {
        "id": "GFdURQ4YinJv"
      },
      "source": [
        "#Input variable - pick from above list\n",
        "expectedSkills=['Operations Research', 'Corporate Finance', 'Operations Management']"
      ],
      "execution_count": null,
      "outputs": []
    },
    {
      "cell_type": "code",
      "metadata": {
        "id": "UwJPwPo_Kd-F"
      },
      "source": [
        "courseInfoFields=['Customer Skill','Course Name','Course Description','Skills Learned']"
      ],
      "execution_count": null,
      "outputs": []
    },
    {
      "cell_type": "code",
      "metadata": {
        "id": "G8J4ra-_KbWY"
      },
      "source": [
        "filteredCoursesPDF_S2[filteredCoursesPDF_S2['Customer Skill'].isin(expectedSkills)][courseInfoFields]"
      ],
      "execution_count": null,
      "outputs": []
    },
    {
      "cell_type": "code",
      "metadata": {
        "id": "UaTsOy-rhiGB"
      },
      "source": [
        "displayFields=['Customer Skill','Course Name','University / Industry Partner Name','Difficulty Level', 'Average Hours','Course Rating','Course URL','Course Description','Skills Learned',\n",
        " 'Course Language','Sub-Domain','Course ID']"
      ],
      "execution_count": null,
      "outputs": []
    },
    {
      "cell_type": "code",
      "metadata": {
        "id": "RopMnOP-iETE"
      },
      "source": [
        "filteredCoursesPDF_S2[filteredCoursesPDF_S2['Customer Skill'].isin(expectedSkills)][displayFields]"
      ],
      "execution_count": null,
      "outputs": []
    }
  ]
}